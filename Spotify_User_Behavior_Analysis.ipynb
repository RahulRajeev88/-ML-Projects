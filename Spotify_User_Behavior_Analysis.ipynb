{
  "nbformat": 4,
  "nbformat_minor": 0,
  "metadata": {
    "colab": {
      "provenance": [],
      "authorship_tag": "ABX9TyNmBeCU0RvBszBosSeQ7X64",
      "include_colab_link": true
    },
    "kernelspec": {
      "name": "python3",
      "display_name": "Python 3"
    },
    "language_info": {
      "name": "python"
    }
  },
  "cells": [
    {
      "cell_type": "markdown",
      "metadata": {
        "id": "view-in-github",
        "colab_type": "text"
      },
      "source": [
        "<a href=\"https://colab.research.google.com/github/RahulRajeev88/-ML-Projects/blob/master/Spotify_User_Behavior_Analysis.ipynb\" target=\"_parent\"><img src=\"https://colab.research.google.com/assets/colab-badge.svg\" alt=\"Open In Colab\"/></a>"
      ]
    },
    {
      "cell_type": "markdown",
      "source": [
        "**Project:Understanding Spotify User Behavior: A Data Analysis Study**\n",
        "\n",
        "Aim 1: Determine whether Users are willing to take premium subscription or Not by using Supervised Machine learning models.\n",
        "\n",
        "Aim 2: To find whether there exist a pattern of what device users prefer Depending upon their Music listening Mood using K Means Clustering."
      ],
      "metadata": {
        "id": "KHnuYxGNKmxt"
      }
    },
    {
      "cell_type": "code",
      "execution_count": 159,
      "metadata": {
        "id": "7In57q9YBmxV"
      },
      "outputs": [],
      "source": [
        "import pandas as pd\n",
        "import numpy as np\n",
        "import matplotlib.pyplot as plt\n",
        "import seaborn as sns\n",
        "from sklearn.feature_selection import SelectKBest\n",
        "from sklearn.feature_selection import chi2\n",
        "from sklearn.preprocessing import LabelEncoder\n",
        "from sklearn.preprocessing import MinMaxScaler\n",
        "from sklearn.model_selection import train_test_split\n",
        "from sklearn.neighbors import KNeighborsClassifier\n",
        "from sklearn.svm import SVC\n",
        "from sklearn.naive_bayes import GaussianNB\n",
        "from sklearn.tree import DecisionTreeClassifier\n",
        "from sklearn.ensemble import RandomForestClassifier\n",
        "from sklearn.ensemble import AdaBoostClassifier\n",
        "from sklearn.ensemble import GradientBoostingClassifier\n",
        "from xgboost import XGBClassifier\n",
        "from sklearn.model_selection import GridSearchCV\n",
        "from sklearn.metrics import classification_report,ConfusionMatrixDisplay"
      ]
    },
    {
      "cell_type": "code",
      "source": [
        "df=pd.read_excel('/content/Spotify_data.xlsx')\n",
        "df"
      ],
      "metadata": {
        "colab": {
          "base_uri": "https://localhost:8080/",
          "height": 714
        },
        "id": "B-iDpzeiN0Rm",
        "outputId": "98002087-cee9-460e-d063-3673e5215388"
      },
      "execution_count": 160,
      "outputs": [
        {
          "output_type": "execute_result",
          "data": {
            "text/plain": [
              "       Age  Gender spotify_usage_period  \\\n",
              "0    20-35  Female    More than 2 years   \n",
              "1    12-20    Male    More than 2 years   \n",
              "2    35-60  Others   6 months to 1 year   \n",
              "3    20-35  Female    1 year to 2 years   \n",
              "4    20-35  Female    1 year to 2 years   \n",
              "..     ...     ...                  ...   \n",
              "515  20-35  Female    More than 2 years   \n",
              "516  20-35  Female    More than 2 years   \n",
              "517  20-35  Female    More than 2 years   \n",
              "518  20-35  Female   6 months to 1 year   \n",
              "519  20-35  Female    More than 2 years   \n",
              "\n",
              "                             spotify_listening_device  \\\n",
              "0                  Smart speakers or voice assistants   \n",
              "1                                  Computer or laptop   \n",
              "2                  Smart speakers or voice assistants   \n",
              "3      Smartphone, Smart speakers or voice assistants   \n",
              "4                                          Smartphone   \n",
              "..                                                ...   \n",
              "515  Smartphone, Computer or laptop, Wearable devices   \n",
              "516                    Smartphone, Computer or laptop   \n",
              "517                                        Smartphone   \n",
              "518                                        Smartphone   \n",
              "519                    Smartphone, Computer or laptop   \n",
              "\n",
              "       spotify_subscription_plan premium_sub_willingness  \\\n",
              "0            Free (ad-supported)                     Yes   \n",
              "1            Free (ad-supported)                     Yes   \n",
              "2            Free (ad-supported)                     Yes   \n",
              "3            Free (ad-supported)                      No   \n",
              "4            Free (ad-supported)                      No   \n",
              "..                           ...                     ...   \n",
              "515          Free (ad-supported)                     Yes   \n",
              "516          Free (ad-supported)                     Yes   \n",
              "517          Free (ad-supported)                      No   \n",
              "518  Premium (paid subscription)                     Yes   \n",
              "519  Premium (paid subscription)                     Yes   \n",
              "\n",
              "             preffered_premium_plan preferred_listening_content  \\\n",
              "0          Family Plan-Rs 179/month                     Podcast   \n",
              "1    Individual Plan- Rs 119/ month                     Podcast   \n",
              "2          Student Plan-Rs 59/month                     Podcast   \n",
              "3                              None                       Music   \n",
              "4                              None                       Music   \n",
              "..                              ...                         ...   \n",
              "515        Student Plan-Rs 59/month                       Music   \n",
              "516        Student Plan-Rs 59/month                       Music   \n",
              "517        Student Plan-Rs 59/month                       Music   \n",
              "518  Individual Plan- Rs 119/ month                       Music   \n",
              "519        Student Plan-Rs 59/month                       Music   \n",
              "\n",
              "    fav_music_genre music_time_slot  \\\n",
              "0            Melody           Night   \n",
              "1               Rap       Afternoon   \n",
              "2               Pop           Night   \n",
              "3            Melody           Night   \n",
              "4            Melody           Night   \n",
              "..              ...             ...   \n",
              "515             Pop         Morning   \n",
              "516             Pop           Night   \n",
              "517             Pop           Night   \n",
              "518          Melody           Night   \n",
              "519             Pop           Night   \n",
              "\n",
              "                                music_Influencial_mood  \\\n",
              "0                                Sadness or melancholy   \n",
              "1                         Social gatherings or parties   \n",
              "2                         Relaxation and stress relief   \n",
              "3    Relaxation and stress relief, Social gathering...   \n",
              "4                         Relaxation and stress relief   \n",
              "..                                                 ...   \n",
              "515  Uplifting and motivational, Sadness or melancholy   \n",
              "516  Relaxation and stress relief, Uplifting and mo...   \n",
              "517                       Relaxation and stress relief   \n",
              "518  Relaxation and stress relief, Uplifting and mo...   \n",
              "519  Relaxation and stress relief, Sadness or melan...   \n",
              "\n",
              "                                   music_lis_frequency  \\\n",
              "0                                         leisure time   \n",
              "1                                      Workout session   \n",
              "2                         Study Hours, While Traveling   \n",
              "3          Office hours, Workout session, leisure time   \n",
              "4                                         leisure time   \n",
              "..                                                 ...   \n",
              "515                                    While Traveling   \n",
              "516     While Traveling, Workout session, leisure time   \n",
              "517                                       leisure time   \n",
              "518                      Workout session, leisure time   \n",
              "519  Office hours,Study Hours, While Traveling, lei...   \n",
              "\n",
              "              music_expl_method  music_recc_rating     pod_lis_frequency  \\\n",
              "0                     Playlists                  3                 Daily   \n",
              "1                     Playlists                  2  Several times a week   \n",
              "2                     Playlists                  4           Once a week   \n",
              "3    recommendations, Playlists                  4                 Never   \n",
              "4    recommendations, Playlists                  4                Rarely   \n",
              "..                          ...                ...                   ...   \n",
              "515             recommendations                  5                Rarely   \n",
              "516                      Others                  2                Rarely   \n",
              "517             recommendations                  3                 Never   \n",
              "518     recommendations, Others                  2  Several times a week   \n",
              "519            Playlists, Radio                  3                 Never   \n",
              "\n",
              "            fav_pod_genre preffered_pod_format     pod_host_preference  \\\n",
              "0                  Comedy            Interview                    Both   \n",
              "1                  Comedy            Interview                    Both   \n",
              "2                  Sports            Interview                    None   \n",
              "3                    None                 None                    None   \n",
              "4    Lifestyle and Health        Story telling  Well known individuals   \n",
              "..                    ...                  ...                     ...   \n",
              "515  Lifestyle and Health       Conversational                    Both   \n",
              "516                Comedy        Story telling                    Both   \n",
              "517                  None        Story telling                    Both   \n",
              "518                Comedy       Conversational                    Both   \n",
              "519                  None                 None                    None   \n",
              "\n",
              "    preffered_pod_duration pod_variety_satisfaction  \n",
              "0                     Both                       Ok  \n",
              "1                     None                Satisfied  \n",
              "2                     Both                Satisfied  \n",
              "3                     None                       Ok  \n",
              "4                     Both                       Ok  \n",
              "..                     ...                      ...  \n",
              "515                Shorter                       Ok  \n",
              "516                Shorter                       Ok  \n",
              "517                Shorter                       Ok  \n",
              "518                 Longer                Satisfied  \n",
              "519                   None                       Ok  \n",
              "\n",
              "[520 rows x 20 columns]"
            ],
            "text/html": [
              "\n",
              "\n",
              "  <div id=\"df-88cb1816-301b-4d5b-82ba-6f3768ec62c5\">\n",
              "    <div class=\"colab-df-container\">\n",
              "      <div>\n",
              "<style scoped>\n",
              "    .dataframe tbody tr th:only-of-type {\n",
              "        vertical-align: middle;\n",
              "    }\n",
              "\n",
              "    .dataframe tbody tr th {\n",
              "        vertical-align: top;\n",
              "    }\n",
              "\n",
              "    .dataframe thead th {\n",
              "        text-align: right;\n",
              "    }\n",
              "</style>\n",
              "<table border=\"1\" class=\"dataframe\">\n",
              "  <thead>\n",
              "    <tr style=\"text-align: right;\">\n",
              "      <th></th>\n",
              "      <th>Age</th>\n",
              "      <th>Gender</th>\n",
              "      <th>spotify_usage_period</th>\n",
              "      <th>spotify_listening_device</th>\n",
              "      <th>spotify_subscription_plan</th>\n",
              "      <th>premium_sub_willingness</th>\n",
              "      <th>preffered_premium_plan</th>\n",
              "      <th>preferred_listening_content</th>\n",
              "      <th>fav_music_genre</th>\n",
              "      <th>music_time_slot</th>\n",
              "      <th>music_Influencial_mood</th>\n",
              "      <th>music_lis_frequency</th>\n",
              "      <th>music_expl_method</th>\n",
              "      <th>music_recc_rating</th>\n",
              "      <th>pod_lis_frequency</th>\n",
              "      <th>fav_pod_genre</th>\n",
              "      <th>preffered_pod_format</th>\n",
              "      <th>pod_host_preference</th>\n",
              "      <th>preffered_pod_duration</th>\n",
              "      <th>pod_variety_satisfaction</th>\n",
              "    </tr>\n",
              "  </thead>\n",
              "  <tbody>\n",
              "    <tr>\n",
              "      <th>0</th>\n",
              "      <td>20-35</td>\n",
              "      <td>Female</td>\n",
              "      <td>More than 2 years</td>\n",
              "      <td>Smart speakers or voice assistants</td>\n",
              "      <td>Free (ad-supported)</td>\n",
              "      <td>Yes</td>\n",
              "      <td>Family Plan-Rs 179/month</td>\n",
              "      <td>Podcast</td>\n",
              "      <td>Melody</td>\n",
              "      <td>Night</td>\n",
              "      <td>Sadness or melancholy</td>\n",
              "      <td>leisure time</td>\n",
              "      <td>Playlists</td>\n",
              "      <td>3</td>\n",
              "      <td>Daily</td>\n",
              "      <td>Comedy</td>\n",
              "      <td>Interview</td>\n",
              "      <td>Both</td>\n",
              "      <td>Both</td>\n",
              "      <td>Ok</td>\n",
              "    </tr>\n",
              "    <tr>\n",
              "      <th>1</th>\n",
              "      <td>12-20</td>\n",
              "      <td>Male</td>\n",
              "      <td>More than 2 years</td>\n",
              "      <td>Computer or laptop</td>\n",
              "      <td>Free (ad-supported)</td>\n",
              "      <td>Yes</td>\n",
              "      <td>Individual Plan- Rs 119/ month</td>\n",
              "      <td>Podcast</td>\n",
              "      <td>Rap</td>\n",
              "      <td>Afternoon</td>\n",
              "      <td>Social gatherings or parties</td>\n",
              "      <td>Workout session</td>\n",
              "      <td>Playlists</td>\n",
              "      <td>2</td>\n",
              "      <td>Several times a week</td>\n",
              "      <td>Comedy</td>\n",
              "      <td>Interview</td>\n",
              "      <td>Both</td>\n",
              "      <td>None</td>\n",
              "      <td>Satisfied</td>\n",
              "    </tr>\n",
              "    <tr>\n",
              "      <th>2</th>\n",
              "      <td>35-60</td>\n",
              "      <td>Others</td>\n",
              "      <td>6 months to 1 year</td>\n",
              "      <td>Smart speakers or voice assistants</td>\n",
              "      <td>Free (ad-supported)</td>\n",
              "      <td>Yes</td>\n",
              "      <td>Student Plan-Rs 59/month</td>\n",
              "      <td>Podcast</td>\n",
              "      <td>Pop</td>\n",
              "      <td>Night</td>\n",
              "      <td>Relaxation and stress relief</td>\n",
              "      <td>Study Hours, While Traveling</td>\n",
              "      <td>Playlists</td>\n",
              "      <td>4</td>\n",
              "      <td>Once a week</td>\n",
              "      <td>Sports</td>\n",
              "      <td>Interview</td>\n",
              "      <td>None</td>\n",
              "      <td>Both</td>\n",
              "      <td>Satisfied</td>\n",
              "    </tr>\n",
              "    <tr>\n",
              "      <th>3</th>\n",
              "      <td>20-35</td>\n",
              "      <td>Female</td>\n",
              "      <td>1 year to 2 years</td>\n",
              "      <td>Smartphone, Smart speakers or voice assistants</td>\n",
              "      <td>Free (ad-supported)</td>\n",
              "      <td>No</td>\n",
              "      <td>None</td>\n",
              "      <td>Music</td>\n",
              "      <td>Melody</td>\n",
              "      <td>Night</td>\n",
              "      <td>Relaxation and stress relief, Social gathering...</td>\n",
              "      <td>Office hours, Workout session, leisure time</td>\n",
              "      <td>recommendations, Playlists</td>\n",
              "      <td>4</td>\n",
              "      <td>Never</td>\n",
              "      <td>None</td>\n",
              "      <td>None</td>\n",
              "      <td>None</td>\n",
              "      <td>None</td>\n",
              "      <td>Ok</td>\n",
              "    </tr>\n",
              "    <tr>\n",
              "      <th>4</th>\n",
              "      <td>20-35</td>\n",
              "      <td>Female</td>\n",
              "      <td>1 year to 2 years</td>\n",
              "      <td>Smartphone</td>\n",
              "      <td>Free (ad-supported)</td>\n",
              "      <td>No</td>\n",
              "      <td>None</td>\n",
              "      <td>Music</td>\n",
              "      <td>Melody</td>\n",
              "      <td>Night</td>\n",
              "      <td>Relaxation and stress relief</td>\n",
              "      <td>leisure time</td>\n",
              "      <td>recommendations, Playlists</td>\n",
              "      <td>4</td>\n",
              "      <td>Rarely</td>\n",
              "      <td>Lifestyle and Health</td>\n",
              "      <td>Story telling</td>\n",
              "      <td>Well known individuals</td>\n",
              "      <td>Both</td>\n",
              "      <td>Ok</td>\n",
              "    </tr>\n",
              "    <tr>\n",
              "      <th>...</th>\n",
              "      <td>...</td>\n",
              "      <td>...</td>\n",
              "      <td>...</td>\n",
              "      <td>...</td>\n",
              "      <td>...</td>\n",
              "      <td>...</td>\n",
              "      <td>...</td>\n",
              "      <td>...</td>\n",
              "      <td>...</td>\n",
              "      <td>...</td>\n",
              "      <td>...</td>\n",
              "      <td>...</td>\n",
              "      <td>...</td>\n",
              "      <td>...</td>\n",
              "      <td>...</td>\n",
              "      <td>...</td>\n",
              "      <td>...</td>\n",
              "      <td>...</td>\n",
              "      <td>...</td>\n",
              "      <td>...</td>\n",
              "    </tr>\n",
              "    <tr>\n",
              "      <th>515</th>\n",
              "      <td>20-35</td>\n",
              "      <td>Female</td>\n",
              "      <td>More than 2 years</td>\n",
              "      <td>Smartphone, Computer or laptop, Wearable devices</td>\n",
              "      <td>Free (ad-supported)</td>\n",
              "      <td>Yes</td>\n",
              "      <td>Student Plan-Rs 59/month</td>\n",
              "      <td>Music</td>\n",
              "      <td>Pop</td>\n",
              "      <td>Morning</td>\n",
              "      <td>Uplifting and motivational, Sadness or melancholy</td>\n",
              "      <td>While Traveling</td>\n",
              "      <td>recommendations</td>\n",
              "      <td>5</td>\n",
              "      <td>Rarely</td>\n",
              "      <td>Lifestyle and Health</td>\n",
              "      <td>Conversational</td>\n",
              "      <td>Both</td>\n",
              "      <td>Shorter</td>\n",
              "      <td>Ok</td>\n",
              "    </tr>\n",
              "    <tr>\n",
              "      <th>516</th>\n",
              "      <td>20-35</td>\n",
              "      <td>Female</td>\n",
              "      <td>More than 2 years</td>\n",
              "      <td>Smartphone, Computer or laptop</td>\n",
              "      <td>Free (ad-supported)</td>\n",
              "      <td>Yes</td>\n",
              "      <td>Student Plan-Rs 59/month</td>\n",
              "      <td>Music</td>\n",
              "      <td>Pop</td>\n",
              "      <td>Night</td>\n",
              "      <td>Relaxation and stress relief, Uplifting and mo...</td>\n",
              "      <td>While Traveling, Workout session, leisure time</td>\n",
              "      <td>Others</td>\n",
              "      <td>2</td>\n",
              "      <td>Rarely</td>\n",
              "      <td>Comedy</td>\n",
              "      <td>Story telling</td>\n",
              "      <td>Both</td>\n",
              "      <td>Shorter</td>\n",
              "      <td>Ok</td>\n",
              "    </tr>\n",
              "    <tr>\n",
              "      <th>517</th>\n",
              "      <td>20-35</td>\n",
              "      <td>Female</td>\n",
              "      <td>More than 2 years</td>\n",
              "      <td>Smartphone</td>\n",
              "      <td>Free (ad-supported)</td>\n",
              "      <td>No</td>\n",
              "      <td>Student Plan-Rs 59/month</td>\n",
              "      <td>Music</td>\n",
              "      <td>Pop</td>\n",
              "      <td>Night</td>\n",
              "      <td>Relaxation and stress relief</td>\n",
              "      <td>leisure time</td>\n",
              "      <td>recommendations</td>\n",
              "      <td>3</td>\n",
              "      <td>Never</td>\n",
              "      <td>None</td>\n",
              "      <td>Story telling</td>\n",
              "      <td>Both</td>\n",
              "      <td>Shorter</td>\n",
              "      <td>Ok</td>\n",
              "    </tr>\n",
              "    <tr>\n",
              "      <th>518</th>\n",
              "      <td>20-35</td>\n",
              "      <td>Female</td>\n",
              "      <td>6 months to 1 year</td>\n",
              "      <td>Smartphone</td>\n",
              "      <td>Premium (paid subscription)</td>\n",
              "      <td>Yes</td>\n",
              "      <td>Individual Plan- Rs 119/ month</td>\n",
              "      <td>Music</td>\n",
              "      <td>Melody</td>\n",
              "      <td>Night</td>\n",
              "      <td>Relaxation and stress relief, Uplifting and mo...</td>\n",
              "      <td>Workout session, leisure time</td>\n",
              "      <td>recommendations, Others</td>\n",
              "      <td>2</td>\n",
              "      <td>Several times a week</td>\n",
              "      <td>Comedy</td>\n",
              "      <td>Conversational</td>\n",
              "      <td>Both</td>\n",
              "      <td>Longer</td>\n",
              "      <td>Satisfied</td>\n",
              "    </tr>\n",
              "    <tr>\n",
              "      <th>519</th>\n",
              "      <td>20-35</td>\n",
              "      <td>Female</td>\n",
              "      <td>More than 2 years</td>\n",
              "      <td>Smartphone, Computer or laptop</td>\n",
              "      <td>Premium (paid subscription)</td>\n",
              "      <td>Yes</td>\n",
              "      <td>Student Plan-Rs 59/month</td>\n",
              "      <td>Music</td>\n",
              "      <td>Pop</td>\n",
              "      <td>Night</td>\n",
              "      <td>Relaxation and stress relief, Sadness or melan...</td>\n",
              "      <td>Office hours,Study Hours, While Traveling, lei...</td>\n",
              "      <td>Playlists, Radio</td>\n",
              "      <td>3</td>\n",
              "      <td>Never</td>\n",
              "      <td>None</td>\n",
              "      <td>None</td>\n",
              "      <td>None</td>\n",
              "      <td>None</td>\n",
              "      <td>Ok</td>\n",
              "    </tr>\n",
              "  </tbody>\n",
              "</table>\n",
              "<p>520 rows × 20 columns</p>\n",
              "</div>\n",
              "      <button class=\"colab-df-convert\" onclick=\"convertToInteractive('df-88cb1816-301b-4d5b-82ba-6f3768ec62c5')\"\n",
              "              title=\"Convert this dataframe to an interactive table.\"\n",
              "              style=\"display:none;\">\n",
              "\n",
              "  <svg xmlns=\"http://www.w3.org/2000/svg\" height=\"24px\"viewBox=\"0 0 24 24\"\n",
              "       width=\"24px\">\n",
              "    <path d=\"M0 0h24v24H0V0z\" fill=\"none\"/>\n",
              "    <path d=\"M18.56 5.44l.94 2.06.94-2.06 2.06-.94-2.06-.94-.94-2.06-.94 2.06-2.06.94zm-11 1L8.5 8.5l.94-2.06 2.06-.94-2.06-.94L8.5 2.5l-.94 2.06-2.06.94zm10 10l.94 2.06.94-2.06 2.06-.94-2.06-.94-.94-2.06-.94 2.06-2.06.94z\"/><path d=\"M17.41 7.96l-1.37-1.37c-.4-.4-.92-.59-1.43-.59-.52 0-1.04.2-1.43.59L10.3 9.45l-7.72 7.72c-.78.78-.78 2.05 0 2.83L4 21.41c.39.39.9.59 1.41.59.51 0 1.02-.2 1.41-.59l7.78-7.78 2.81-2.81c.8-.78.8-2.07 0-2.86zM5.41 20L4 18.59l7.72-7.72 1.47 1.35L5.41 20z\"/>\n",
              "  </svg>\n",
              "      </button>\n",
              "\n",
              "\n",
              "\n",
              "    <div id=\"df-835df738-1026-442d-ba40-04d911832366\">\n",
              "      <button class=\"colab-df-quickchart\" onclick=\"quickchart('df-835df738-1026-442d-ba40-04d911832366')\"\n",
              "              title=\"Suggest charts.\"\n",
              "              style=\"display:none;\">\n",
              "\n",
              "<svg xmlns=\"http://www.w3.org/2000/svg\" height=\"24px\"viewBox=\"0 0 24 24\"\n",
              "     width=\"24px\">\n",
              "    <g>\n",
              "        <path d=\"M19 3H5c-1.1 0-2 .9-2 2v14c0 1.1.9 2 2 2h14c1.1 0 2-.9 2-2V5c0-1.1-.9-2-2-2zM9 17H7v-7h2v7zm4 0h-2V7h2v10zm4 0h-2v-4h2v4z\"/>\n",
              "    </g>\n",
              "</svg>\n",
              "      </button>\n",
              "    </div>\n",
              "\n",
              "<style>\n",
              "  .colab-df-quickchart {\n",
              "    background-color: #E8F0FE;\n",
              "    border: none;\n",
              "    border-radius: 50%;\n",
              "    cursor: pointer;\n",
              "    display: none;\n",
              "    fill: #1967D2;\n",
              "    height: 32px;\n",
              "    padding: 0 0 0 0;\n",
              "    width: 32px;\n",
              "  }\n",
              "\n",
              "  .colab-df-quickchart:hover {\n",
              "    background-color: #E2EBFA;\n",
              "    box-shadow: 0px 1px 2px rgba(60, 64, 67, 0.3), 0px 1px 3px 1px rgba(60, 64, 67, 0.15);\n",
              "    fill: #174EA6;\n",
              "  }\n",
              "\n",
              "  [theme=dark] .colab-df-quickchart {\n",
              "    background-color: #3B4455;\n",
              "    fill: #D2E3FC;\n",
              "  }\n",
              "\n",
              "  [theme=dark] .colab-df-quickchart:hover {\n",
              "    background-color: #434B5C;\n",
              "    box-shadow: 0px 1px 3px 1px rgba(0, 0, 0, 0.15);\n",
              "    filter: drop-shadow(0px 1px 2px rgba(0, 0, 0, 0.3));\n",
              "    fill: #FFFFFF;\n",
              "  }\n",
              "</style>\n",
              "\n",
              "    <script>\n",
              "      async function quickchart(key) {\n",
              "        const containerElement = document.querySelector('#' + key);\n",
              "        const charts = await google.colab.kernel.invokeFunction(\n",
              "            'suggestCharts', [key], {});\n",
              "      }\n",
              "    </script>\n",
              "\n",
              "      <script>\n",
              "\n",
              "function displayQuickchartButton(domScope) {\n",
              "  let quickchartButtonEl =\n",
              "    domScope.querySelector('#df-835df738-1026-442d-ba40-04d911832366 button.colab-df-quickchart');\n",
              "  quickchartButtonEl.style.display =\n",
              "    google.colab.kernel.accessAllowed ? 'block' : 'none';\n",
              "}\n",
              "\n",
              "        displayQuickchartButton(document);\n",
              "      </script>\n",
              "      <style>\n",
              "    .colab-df-container {\n",
              "      display:flex;\n",
              "      flex-wrap:wrap;\n",
              "      gap: 12px;\n",
              "    }\n",
              "\n",
              "    .colab-df-convert {\n",
              "      background-color: #E8F0FE;\n",
              "      border: none;\n",
              "      border-radius: 50%;\n",
              "      cursor: pointer;\n",
              "      display: none;\n",
              "      fill: #1967D2;\n",
              "      height: 32px;\n",
              "      padding: 0 0 0 0;\n",
              "      width: 32px;\n",
              "    }\n",
              "\n",
              "    .colab-df-convert:hover {\n",
              "      background-color: #E2EBFA;\n",
              "      box-shadow: 0px 1px 2px rgba(60, 64, 67, 0.3), 0px 1px 3px 1px rgba(60, 64, 67, 0.15);\n",
              "      fill: #174EA6;\n",
              "    }\n",
              "\n",
              "    [theme=dark] .colab-df-convert {\n",
              "      background-color: #3B4455;\n",
              "      fill: #D2E3FC;\n",
              "    }\n",
              "\n",
              "    [theme=dark] .colab-df-convert:hover {\n",
              "      background-color: #434B5C;\n",
              "      box-shadow: 0px 1px 3px 1px rgba(0, 0, 0, 0.15);\n",
              "      filter: drop-shadow(0px 1px 2px rgba(0, 0, 0, 0.3));\n",
              "      fill: #FFFFFF;\n",
              "    }\n",
              "  </style>\n",
              "\n",
              "      <script>\n",
              "        const buttonEl =\n",
              "          document.querySelector('#df-88cb1816-301b-4d5b-82ba-6f3768ec62c5 button.colab-df-convert');\n",
              "        buttonEl.style.display =\n",
              "          google.colab.kernel.accessAllowed ? 'block' : 'none';\n",
              "\n",
              "        async function convertToInteractive(key) {\n",
              "          const element = document.querySelector('#df-88cb1816-301b-4d5b-82ba-6f3768ec62c5');\n",
              "          const dataTable =\n",
              "            await google.colab.kernel.invokeFunction('convertToInteractive',\n",
              "                                                     [key], {});\n",
              "          if (!dataTable) return;\n",
              "\n",
              "          const docLinkHtml = 'Like what you see? Visit the ' +\n",
              "            '<a target=\"_blank\" href=https://colab.research.google.com/notebooks/data_table.ipynb>data table notebook</a>'\n",
              "            + ' to learn more about interactive tables.';\n",
              "          element.innerHTML = '';\n",
              "          dataTable['output_type'] = 'display_data';\n",
              "          await google.colab.output.renderOutput(dataTable, element);\n",
              "          const docLink = document.createElement('div');\n",
              "          docLink.innerHTML = docLinkHtml;\n",
              "          element.appendChild(docLink);\n",
              "        }\n",
              "      </script>\n",
              "    </div>\n",
              "  </div>\n"
            ]
          },
          "metadata": {},
          "execution_count": 160
        }
      ]
    },
    {
      "cell_type": "markdown",
      "source": [
        "**Creating a copy for clustering.**\n"
      ],
      "metadata": {
        "id": "3IEUmvlzOLM8"
      }
    },
    {
      "cell_type": "code",
      "source": [
        "df1=df.copy()"
      ],
      "metadata": {
        "id": "SIze6lqeOI3y"
      },
      "execution_count": 161,
      "outputs": []
    },
    {
      "cell_type": "code",
      "source": [
        "df.dtypes"
      ],
      "metadata": {
        "colab": {
          "base_uri": "https://localhost:8080/"
        },
        "id": "IoyKmb92Oa0L",
        "outputId": "209bf1f1-c13f-4d61-ecb0-5944aa30130e"
      },
      "execution_count": 162,
      "outputs": [
        {
          "output_type": "execute_result",
          "data": {
            "text/plain": [
              "Age                            object\n",
              "Gender                         object\n",
              "spotify_usage_period           object\n",
              "spotify_listening_device       object\n",
              "spotify_subscription_plan      object\n",
              "premium_sub_willingness        object\n",
              "preffered_premium_plan         object\n",
              "preferred_listening_content    object\n",
              "fav_music_genre                object\n",
              "music_time_slot                object\n",
              "music_Influencial_mood         object\n",
              "music_lis_frequency            object\n",
              "music_expl_method              object\n",
              "music_recc_rating               int64\n",
              "pod_lis_frequency              object\n",
              "fav_pod_genre                  object\n",
              "preffered_pod_format           object\n",
              "pod_host_preference            object\n",
              "preffered_pod_duration         object\n",
              "pod_variety_satisfaction       object\n",
              "dtype: object"
            ]
          },
          "metadata": {},
          "execution_count": 162
        }
      ]
    },
    {
      "cell_type": "code",
      "source": [
        "df.isna().sum()"
      ],
      "metadata": {
        "colab": {
          "base_uri": "https://localhost:8080/"
        },
        "id": "KRHNk2H3O3cG",
        "outputId": "fe9b1c33-085d-493d-fef9-c7831a59dc0f"
      },
      "execution_count": 163,
      "outputs": [
        {
          "output_type": "execute_result",
          "data": {
            "text/plain": [
              "Age                            0\n",
              "Gender                         0\n",
              "spotify_usage_period           0\n",
              "spotify_listening_device       0\n",
              "spotify_subscription_plan      0\n",
              "premium_sub_willingness        0\n",
              "preffered_premium_plan         0\n",
              "preferred_listening_content    0\n",
              "fav_music_genre                0\n",
              "music_time_slot                0\n",
              "music_Influencial_mood         0\n",
              "music_lis_frequency            0\n",
              "music_expl_method              0\n",
              "music_recc_rating              0\n",
              "pod_lis_frequency              0\n",
              "fav_pod_genre                  0\n",
              "preffered_pod_format           0\n",
              "pod_host_preference            0\n",
              "preffered_pod_duration         0\n",
              "pod_variety_satisfaction       0\n",
              "dtype: int64"
            ]
          },
          "metadata": {},
          "execution_count": 163
        }
      ]
    },
    {
      "cell_type": "markdown",
      "source": [
        "**Exploratory Data Analysis**"
      ],
      "metadata": {
        "id": "ICJBHOnDQKlL"
      }
    },
    {
      "cell_type": "code",
      "source": [
        "age=df['Age'].value_counts()\n",
        "age"
      ],
      "metadata": {
        "colab": {
          "base_uri": "https://localhost:8080/"
        },
        "id": "2FUYU7cZQrzm",
        "outputId": "5a18a60f-a7b1-4f7a-b073-59162215f991"
      },
      "execution_count": 164,
      "outputs": [
        {
          "output_type": "execute_result",
          "data": {
            "text/plain": [
              "20-35    422\n",
              "12-20     71\n",
              "35-60     23\n",
              "6-12       3\n",
              "60+        1\n",
              "Name: Age, dtype: int64"
            ]
          },
          "metadata": {},
          "execution_count": 164
        }
      ]
    },
    {
      "cell_type": "code",
      "source": [
        "#Age Grups\n",
        "plt.figure(figsize=(6,6))\n",
        "labels=['20-35','12-20','35-60','6-12','60+']\n",
        "plt.pie(age,labels=labels,autopct='%1.1f%%')\n",
        "plt.legend(loc='lower left')\n",
        "plt.title('Age Distribution Of Spotify Users')\n",
        "plt.show()\n"
      ],
      "metadata": {
        "colab": {
          "base_uri": "https://localhost:8080/",
          "height": 521
        },
        "id": "HVHOnMpDPDFo",
        "outputId": "0113761a-910e-40b0-ac20-00a09e9ef07d"
      },
      "execution_count": 165,
      "outputs": [
        {
          "output_type": "display_data",
          "data": {
            "text/plain": [
              "<Figure size 600x600 with 1 Axes>"
            ],
            "image/png": "[encoded data removed]"
          },
          "metadata": {}
        }
      ]
    },
    {
      "cell_type": "code",
      "source": [
        "#Gender\n",
        "gender=df['Gender'].value_counts()\n",
        "gender"
      ],
      "metadata": {
        "colab": {
          "base_uri": "https://localhost:8080/"
        },
        "id": "r-_NTKGyR9ZE",
        "outputId": "41803b8e-931b-438b-9c58-2ead9ea76cba"
      },
      "execution_count": 166,
      "outputs": [
        {
          "output_type": "execute_result",
          "data": {
            "text/plain": [
              "Female    391\n",
              "Male      114\n",
              "Others     15\n",
              "Name: Gender, dtype: int64"
            ]
          },
          "metadata": {},
          "execution_count": 166
        }
      ]
    },
    {
      "cell_type": "code",
      "source": [
        "plt.figure(figsize=(6,6))\n",
        "labels=['Female','Male','Others']\n",
        "plt.pie(gender,labels=labels,autopct='%1.1f%%')\n",
        "plt.legend(loc='upper right')\n",
        "plt.title('Gender Classification Of Spotify Users')\n",
        "plt.show()"
      ],
      "metadata": {
        "colab": {
          "base_uri": "https://localhost:8080/",
          "height": 521
        },
        "id": "fO4nVCs7SfQF",
        "outputId": "2478971d-9860-43df-da5d-f33a8ac0aac7"
      },
      "execution_count": 167,
      "outputs": [
        {
          "output_type": "display_data",
          "data": {
            "text/plain": [
              "<Figure size 600x600 with 1 Axes>"
            ],
            "image/png": "[encoded data removed]"
          },
          "metadata": {}
        }
      ]
    },
    {
      "cell_type": "code",
      "source": [
        "#Spotify subscription plan\n",
        "sns.countplot(x='spotify_subscription_plan',data=df,hue='Gender')\n"
      ],
      "metadata": {
        "colab": {
          "base_uri": "https://localhost:8080/",
          "height": 467
        },
        "id": "kuefuN8iTXBG",
        "outputId": "45d88f73-b2da-4853-af99-c8e0cfb5906d"
      },
      "execution_count": 168,
      "outputs": [
        {
          "output_type": "execute_result",
          "data": {
            "text/plain": [
              "<Axes: xlabel='spotify_subscription_plan', ylabel='count'>"
            ]
          },
          "metadata": {},
          "execution_count": 168
        },
        {
          "output_type": "display_data",
          "data": {
            "text/plain": [
              "<Figure size 640x480 with 1 Axes>"
            ],
            "image/png": "[encoded data removed]"
          },
          "metadata": {}
        }
      ]
    },
    {
      "cell_type": "code",
      "source": [
        "#Willingnes to take subscription\n",
        "sns.countplot(x='premium_sub_willingness',data=df,hue='Age')"
      ],
      "metadata": {
        "colab": {
          "base_uri": "https://localhost:8080/",
          "height": 467
        },
        "id": "QJ8POq7JT32x",
        "outputId": "86cb000c-27c4-4ccf-8491-f86e06f91139"
      },
      "execution_count": 169,
      "outputs": [
        {
          "output_type": "execute_result",
          "data": {
            "text/plain": [
              "<Axes: xlabel='premium_sub_willingness', ylabel='count'>"
            ]
          },
          "metadata": {},
          "execution_count": 169
        },
        {
          "output_type": "display_data",
          "data": {
            "text/plain": [
              "<Figure size 640x480 with 1 Axes>"
            ],
            "image/png": "[encoded data removed]"
          },
          "metadata": {}
        }
      ]
    },
    {
      "cell_type": "code",
      "source": [
        "sub_will=df['premium_sub_willingness'].value_counts()\n",
        "sub_will"
      ],
      "metadata": {
        "colab": {
          "base_uri": "https://localhost:8080/"
        },
        "id": "UAYmH1BZUnvf",
        "outputId": "196c3464-3b41-40aa-bf4c-6e5d909bfe8f"
      },
      "execution_count": 170,
      "outputs": [
        {
          "output_type": "execute_result",
          "data": {
            "text/plain": [
              "No     334\n",
              "Yes    186\n",
              "Name: premium_sub_willingness, dtype: int64"
            ]
          },
          "metadata": {},
          "execution_count": 170
        }
      ]
    },
    {
      "cell_type": "code",
      "source": [
        "#Premium Subscription willingness\n",
        "plt.figure(figsize=(6,6))\n",
        "labels=['No','Yes']\n",
        "plt.pie(sub_will,labels=labels,autopct='%1.1f%%')\n",
        "plt.legend(loc='upper right')\n",
        "plt.title('Willingness to take spotify subscription')\n",
        "plt.show()"
      ],
      "metadata": {
        "colab": {
          "base_uri": "https://localhost:8080/",
          "height": 521
        },
        "id": "d7v6uqTvUiqW",
        "outputId": "1e349d1f-88fc-4991-8e23-734eba121797"
      },
      "execution_count": 171,
      "outputs": [
        {
          "output_type": "display_data",
          "data": {
            "text/plain": [
              "<Figure size 600x600 with 1 Axes>"
            ],
            "image/png": "[encoded data removed]"
          },
          "metadata": {}
        }
      ]
    },
    {
      "cell_type": "code",
      "source": [
        "genre=df['fav_music_genre'].value_counts().values\n",
        "genre"
      ],
      "metadata": {
        "colab": {
          "base_uri": "https://localhost:8080/"
        },
        "id": "WpaPhAvFVywC",
        "outputId": "aa23d960-5a6a-4f09-ffc9-72aaf1eed88f"
      },
      "execution_count": 172,
      "outputs": [
        {
          "output_type": "execute_result",
          "data": {
            "text/plain": [
              "array([259,  87,  85,  55,  16,   6,   4,   4,   2,   1,   1])"
            ]
          },
          "metadata": {},
          "execution_count": 172
        }
      ]
    },
    {
      "cell_type": "code",
      "source": [
        "fav_genre=df['fav_music_genre'].unique()\n",
        "fav_genre"
      ],
      "metadata": {
        "colab": {
          "base_uri": "https://localhost:8080/"
        },
        "id": "QikMJUwVXl4u",
        "outputId": "36945dd5-8509-486a-d9f9-5d90d2f16430"
      },
      "execution_count": 173,
      "outputs": [
        {
          "output_type": "execute_result",
          "data": {
            "text/plain": [
              "array(['Melody', 'Rap', 'Pop', 'Classical & melody, dance', 'classical',\n",
              "       'Rock', 'Old songs', 'Electronic/Dance', 'All', 'Kpop',\n",
              "       'trending songs random'], dtype=object)"
            ]
          },
          "metadata": {},
          "execution_count": 173
        }
      ]
    },
    {
      "cell_type": "code",
      "source": [
        "fig,ax=plt.subplots(figsize=(8,6))\n",
        "plt.barh(fav_genre,genre,color='g')\n",
        "plt.xlabel('Count')\n",
        "plt.ylabel('Music genres')\n",
        "plt.title('Preffered Music genres')\n",
        "plt.show()"
      ],
      "metadata": {
        "colab": {
          "base_uri": "https://localhost:8080/",
          "height": 564
        },
        "id": "XE_-MPQ1Yc0P",
        "outputId": "f6f24451-ed54-4354-cefb-3c37f6e789e8"
      },
      "execution_count": 174,
      "outputs": [
        {
          "output_type": "display_data",
          "data": {
            "text/plain": [
              "<Figure size 800x600 with 1 Axes>"
            ],
            "image/png": "[encoded data removed]"
          },
          "metadata": {}
        }
      ]
    },
    {
      "cell_type": "code",
      "source": [
        "#Preffered Listening Content\n",
        "plc=df['preferred_listening_content'].value_counts()\n",
        "plc"
      ],
      "metadata": {
        "colab": {
          "base_uri": "https://localhost:8080/"
        },
        "id": "t7QrD1ttjMGl",
        "outputId": "a6571925-13b5-4ab8-b270-8302b0ff61f8"
      },
      "execution_count": 175,
      "outputs": [
        {
          "output_type": "execute_result",
          "data": {
            "text/plain": [
              "Music      410\n",
              "Podcast    110\n",
              "Name: preferred_listening_content, dtype: int64"
            ]
          },
          "metadata": {},
          "execution_count": 175
        }
      ]
    },
    {
      "cell_type": "code",
      "source": [
        "labels=['Music','Podcast']\n",
        "plt.pie(plc,labels=labels,autopct='%1.1f%%')\n",
        "plt.legend(loc='upper right')\n",
        "plt.title('Preffered Listening Content')\n",
        "plt.show()"
      ],
      "metadata": {
        "colab": {
          "base_uri": "https://localhost:8080/",
          "height": 428
        },
        "id": "2sQNryBKjewf",
        "outputId": "d2df3cdf-82fd-4f54-a39a-c463ce8b7e3b"
      },
      "execution_count": 176,
      "outputs": [
        {
          "output_type": "display_data",
          "data": {
            "text/plain": [
              "<Figure size 640x480 with 1 Axes>"
            ],
            "image/png": "[encoded data removed]"
          },
          "metadata": {}
        }
      ]
    },
    {
      "cell_type": "code",
      "source": [
        "music_rec=df['music_recc_rating'].value_counts()\n",
        "music_rec"
      ],
      "metadata": {
        "colab": {
          "base_uri": "https://localhost:8080/"
        },
        "id": "d5WXqG-2jvjo",
        "outputId": "bf0ba2bd-6111-4b04-90a0-2dc685371504"
      },
      "execution_count": 177,
      "outputs": [
        {
          "output_type": "execute_result",
          "data": {
            "text/plain": [
              "3    190\n",
              "4    174\n",
              "5     86\n",
              "2     56\n",
              "1     14\n",
              "Name: music_recc_rating, dtype: int64"
            ]
          },
          "metadata": {},
          "execution_count": 177
        }
      ]
    },
    {
      "cell_type": "code",
      "source": [
        "music_rec_val=df['music_recc_rating'].value_counts().values\n",
        "music_rec_val"
      ],
      "metadata": {
        "colab": {
          "base_uri": "https://localhost:8080/"
        },
        "id": "NlNpGuwxkAy-",
        "outputId": "acc4d7e6-15c2-4327-968c-d7eee33a1cfb"
      },
      "execution_count": 178,
      "outputs": [
        {
          "output_type": "execute_result",
          "data": {
            "text/plain": [
              "array([190, 174,  86,  56,  14])"
            ]
          },
          "metadata": {},
          "execution_count": 178
        }
      ]
    },
    {
      "cell_type": "code",
      "source": [
        "music=['3','4','5','2','1']\n",
        "plt.barh(music,music_rec_val,color='brown')\n",
        "plt.xlabel('Count of Ratings')\n",
        "plt.ylabel('Recommendation Ratings')\n",
        "plt.title('Rating By Users')\n",
        "plt.show()"
      ],
      "metadata": {
        "colab": {
          "base_uri": "https://localhost:8080/",
          "height": 472
        },
        "id": "34Uwbb_PkRbe",
        "outputId": "2bee41ce-da58-4133-c00a-774604ba8eb1"
      },
      "execution_count": 179,
      "outputs": [
        {
          "output_type": "display_data",
          "data": {
            "text/plain": [
              "<Figure size 640x480 with 1 Axes>"
            ],
            "image/png": "[encoded data removed]"
          },
          "metadata": {}
        }
      ]
    },
    {
      "cell_type": "markdown",
      "source": [
        "**Key Findings from Exploratory Data Analysis**\n",
        "\n",
        "   The age group that uses Spotify more is between **20 and 35**, followed by the age group between 12 and 20.\n",
        "\n",
        "   A larger proportion of users in this dataset comprises females rather than males.\n",
        "\n",
        "   Most of the users prefer the free ad-supported plan over premium plans, and premium users are mostly **females**.\n",
        "\n",
        "   People between the age group of **20 and 35** use **premium plan**s more often.\n",
        "\n",
        "   **35.8%** of people are willing to take the premium plan and also continue with the premium subscription.\n",
        "\n",
        "   Most of the people prefer listening to **music** over podcasts.\n",
        "\n",
        "   Their favorite music genre is **melody**.\n",
        "\n",
        "   Most of the users listen to songs using Spotify **recommendations**, and they have given a **rating of 3**.\n",
        "\n",
        "    \n",
        "\n"
      ],
      "metadata": {
        "id": "uO-WaQ3nmRgk"
      }
    },
    {
      "cell_type": "code",
      "source": [
        "df.dtypes"
      ],
      "metadata": {
        "colab": {
          "base_uri": "https://localhost:8080/"
        },
        "id": "W__iTUFBOalk",
        "outputId": "e6236c74-f72c-45f1-bcb4-036cea114347"
      },
      "execution_count": 180,
      "outputs": [
        {
          "output_type": "execute_result",
          "data": {
            "text/plain": [
              "Age                            object\n",
              "Gender                         object\n",
              "spotify_usage_period           object\n",
              "spotify_listening_device       object\n",
              "spotify_subscription_plan      object\n",
              "premium_sub_willingness        object\n",
              "preffered_premium_plan         object\n",
              "preferred_listening_content    object\n",
              "fav_music_genre                object\n",
              "music_time_slot                object\n",
              "music_Influencial_mood         object\n",
              "music_lis_frequency            object\n",
              "music_expl_method              object\n",
              "music_recc_rating               int64\n",
              "pod_lis_frequency              object\n",
              "fav_pod_genre                  object\n",
              "preffered_pod_format           object\n",
              "pod_host_preference            object\n",
              "preffered_pod_duration         object\n",
              "pod_variety_satisfaction       object\n",
              "dtype: object"
            ]
          },
          "metadata": {},
          "execution_count": 180
        }
      ]
    },
    {
      "cell_type": "code",
      "source": [
        "le=LabelEncoder()\n",
        "lst=['Age','Gender','spotify_usage_period','spotify_listening_device','spotify_subscription_plan','premium_sub_willingness','preffered_premium_plan','preferred_listening_content','fav_music_genre','music_time_slot','music_Influencial_mood','music_lis_frequency','music_expl_method','music_recc_rating','pod_lis_frequency','fav_pod_genre','preffered_pod_format','pod_host_preference','preffered_pod_duration','pod_variety_satisfaction']\n",
        "for i in lst:\n",
        "  df[i]=le.fit_transform(df[i])"
      ],
      "metadata": {
        "id": "igybkMGwnKs0"
      },
      "execution_count": 181,
      "outputs": []
    },
    {
      "cell_type": "code",
      "source": [
        "df.head()"
      ],
      "metadata": {
        "colab": {
          "base_uri": "https://localhost:8080/",
          "height": 270
        },
        "id": "mE9DCeDdSYF0",
        "outputId": "d49fc14a-68f8-45a0-8aac-8f49c5a4c520"
      },
      "execution_count": 182,
      "outputs": [
        {
          "output_type": "execute_result",
          "data": {
            "text/plain": [
              "   Age  Gender  spotify_usage_period  spotify_listening_device  \\\n",
              "0    1       0                     3                         4   \n",
              "1    0       1                     3                         0   \n",
              "2    2       2                     1                         4   \n",
              "3    1       0                     0                        11   \n",
              "4    1       0                     0                         6   \n",
              "\n",
              "   spotify_subscription_plan  premium_sub_willingness  preffered_premium_plan  \\\n",
              "0                          0                        1                       1   \n",
              "1                          0                        1                       2   \n",
              "2                          0                        1                       4   \n",
              "3                          0                        0                       3   \n",
              "4                          0                        0                       3   \n",
              "\n",
              "   preferred_listening_content  fav_music_genre  music_time_slot  \\\n",
              "0                            1                4                2   \n",
              "1                            1                7                0   \n",
              "2                            1                6                2   \n",
              "3                            0                4                2   \n",
              "4                            0                4                2   \n",
              "\n",
              "   music_Influencial_mood  music_lis_frequency  music_expl_method  \\\n",
              "0                       8                   34                  4   \n",
              "1                      10                   32                  4   \n",
              "2                       0                   19                  4   \n",
              "3                       3                   13                 13   \n",
              "4                       0                   34                 13   \n",
              "\n",
              "   music_recc_rating  pod_lis_frequency  fav_pod_genre  preffered_pod_format  \\\n",
              "0                  2                  0              1                     2   \n",
              "1                  1                  4              1                     2   \n",
              "2                  3                  2             17                     2   \n",
              "3                  3                  1             12                     3   \n",
              "4                  3                  3             10                     4   \n",
              "\n",
              "   pod_host_preference  preffered_pod_duration  pod_variety_satisfaction  \n",
              "0                    0                       0                         1  \n",
              "1                    0                       2                         2  \n",
              "2                    1                       0                         2  \n",
              "3                    1                       2                         1  \n",
              "4                    2                       0                         1  "
            ],
            "text/html": [
              "\n",
              "\n",
              "  <div id=\"df-e1246bbe-c82a-49f9-accf-b5cfa95aa034\">\n",
              "    <div class=\"colab-df-container\">\n",
              "      <div>\n",
              "<style scoped>\n",
              "    .dataframe tbody tr th:only-of-type {\n",
              "        vertical-align: middle;\n",
              "    }\n",
              "\n",
              "    .dataframe tbody tr th {\n",
              "        vertical-align: top;\n",
              "    }\n",
              "\n",
              "    .dataframe thead th {\n",
              "        text-align: right;\n",
              "    }\n",
              "</style>\n",
              "<table border=\"1\" class=\"dataframe\">\n",
              "  <thead>\n",
              "    <tr style=\"text-align: right;\">\n",
              "      <th></th>\n",
              "      <th>Age</th>\n",
              "      <th>Gender</th>\n",
              "      <th>spotify_usage_period</th>\n",
              "      <th>spotify_listening_device</th>\n",
              "      <th>spotify_subscription_plan</th>\n",
              "      <th>premium_sub_willingness</th>\n",
              "      <th>preffered_premium_plan</th>\n",
              "      <th>preferred_listening_content</th>\n",
              "      <th>fav_music_genre</th>\n",
              "      <th>music_time_slot</th>\n",
              "      <th>music_Influencial_mood</th>\n",
              "      <th>music_lis_frequency</th>\n",
              "      <th>music_expl_method</th>\n",
              "      <th>music_recc_rating</th>\n",
              "      <th>pod_lis_frequency</th>\n",
              "      <th>fav_pod_genre</th>\n",
              "      <th>preffered_pod_format</th>\n",
              "      <th>pod_host_preference</th>\n",
              "      <th>preffered_pod_duration</th>\n",
              "      <th>pod_variety_satisfaction</th>\n",
              "    </tr>\n",
              "  </thead>\n",
              "  <tbody>\n",
              "    <tr>\n",
              "      <th>0</th>\n",
              "      <td>1</td>\n",
              "      <td>0</td>\n",
              "      <td>3</td>\n",
              "      <td>4</td>\n",
              "      <td>0</td>\n",
              "      <td>1</td>\n",
              "      <td>1</td>\n",
              "      <td>1</td>\n",
              "      <td>4</td>\n",
              "      <td>2</td>\n",
              "      <td>8</td>\n",
              "      <td>34</td>\n",
              "      <td>4</td>\n",
              "      <td>2</td>\n",
              "      <td>0</td>\n",
              "      <td>1</td>\n",
              "      <td>2</td>\n",
              "      <td>0</td>\n",
              "      <td>0</td>\n",
              "      <td>1</td>\n",
              "    </tr>\n",
              "    <tr>\n",
              "      <th>1</th>\n",
              "      <td>0</td>\n",
              "      <td>1</td>\n",
              "      <td>3</td>\n",
              "      <td>0</td>\n",
              "      <td>0</td>\n",
              "      <td>1</td>\n",
              "      <td>2</td>\n",
              "      <td>1</td>\n",
              "      <td>7</td>\n",
              "      <td>0</td>\n",
              "      <td>10</td>\n",
              "      <td>32</td>\n",
              "      <td>4</td>\n",
              "      <td>1</td>\n",
              "      <td>4</td>\n",
              "      <td>1</td>\n",
              "      <td>2</td>\n",
              "      <td>0</td>\n",
              "      <td>2</td>\n",
              "      <td>2</td>\n",
              "    </tr>\n",
              "    <tr>\n",
              "      <th>2</th>\n",
              "      <td>2</td>\n",
              "      <td>2</td>\n",
              "      <td>1</td>\n",
              "      <td>4</td>\n",
              "      <td>0</td>\n",
              "      <td>1</td>\n",
              "      <td>4</td>\n",
              "      <td>1</td>\n",
              "      <td>6</td>\n",
              "      <td>2</td>\n",
              "      <td>0</td>\n",
              "      <td>19</td>\n",
              "      <td>4</td>\n",
              "      <td>3</td>\n",
              "      <td>2</td>\n",
              "      <td>17</td>\n",
              "      <td>2</td>\n",
              "      <td>1</td>\n",
              "      <td>0</td>\n",
              "      <td>2</td>\n",
              "    </tr>\n",
              "    <tr>\n",
              "      <th>3</th>\n",
              "      <td>1</td>\n",
              "      <td>0</td>\n",
              "      <td>0</td>\n",
              "      <td>11</td>\n",
              "      <td>0</td>\n",
              "      <td>0</td>\n",
              "      <td>3</td>\n",
              "      <td>0</td>\n",
              "      <td>4</td>\n",
              "      <td>2</td>\n",
              "      <td>3</td>\n",
              "      <td>13</td>\n",
              "      <td>13</td>\n",
              "      <td>3</td>\n",
              "      <td>1</td>\n",
              "      <td>12</td>\n",
              "      <td>3</td>\n",
              "      <td>1</td>\n",
              "      <td>2</td>\n",
              "      <td>1</td>\n",
              "    </tr>\n",
              "    <tr>\n",
              "      <th>4</th>\n",
              "      <td>1</td>\n",
              "      <td>0</td>\n",
              "      <td>0</td>\n",
              "      <td>6</td>\n",
              "      <td>0</td>\n",
              "      <td>0</td>\n",
              "      <td>3</td>\n",
              "      <td>0</td>\n",
              "      <td>4</td>\n",
              "      <td>2</td>\n",
              "      <td>0</td>\n",
              "      <td>34</td>\n",
              "      <td>13</td>\n",
              "      <td>3</td>\n",
              "      <td>3</td>\n",
              "      <td>10</td>\n",
              "      <td>4</td>\n",
              "      <td>2</td>\n",
              "      <td>0</td>\n",
              "      <td>1</td>\n",
              "    </tr>\n",
              "  </tbody>\n",
              "</table>\n",
              "</div>\n",
              "      <button class=\"colab-df-convert\" onclick=\"convertToInteractive('df-e1246bbe-c82a-49f9-accf-b5cfa95aa034')\"\n",
              "              title=\"Convert this dataframe to an interactive table.\"\n",
              "              style=\"display:none;\">\n",
              "\n",
              "  <svg xmlns=\"http://www.w3.org/2000/svg\" height=\"24px\"viewBox=\"0 0 24 24\"\n",
              "       width=\"24px\">\n",
              "    <path d=\"M0 0h24v24H0V0z\" fill=\"none\"/>\n",
              "    <path d=\"M18.56 5.44l.94 2.06.94-2.06 2.06-.94-2.06-.94-.94-2.06-.94 2.06-2.06.94zm-11 1L8.5 8.5l.94-2.06 2.06-.94-2.06-.94L8.5 2.5l-.94 2.06-2.06.94zm10 10l.94 2.06.94-2.06 2.06-.94-2.06-.94-.94-2.06-.94 2.06-2.06.94z\"/><path d=\"M17.41 7.96l-1.37-1.37c-.4-.4-.92-.59-1.43-.59-.52 0-1.04.2-1.43.59L10.3 9.45l-7.72 7.72c-.78.78-.78 2.05 0 2.83L4 21.41c.39.39.9.59 1.41.59.51 0 1.02-.2 1.41-.59l7.78-7.78 2.81-2.81c.8-.78.8-2.07 0-2.86zM5.41 20L4 18.59l7.72-7.72 1.47 1.35L5.41 20z\"/>\n",
              "  </svg>\n",
              "      </button>\n",
              "\n",
              "\n",
              "\n",
              "    <div id=\"df-7953e5d2-6cf4-4802-bd7b-22bbd3564bd1\">\n",
              "      <button class=\"colab-df-quickchart\" onclick=\"quickchart('df-7953e5d2-6cf4-4802-bd7b-22bbd3564bd1')\"\n",
              "              title=\"Suggest charts.\"\n",
              "              style=\"display:none;\">\n",
              "\n",
              "<svg xmlns=\"http://www.w3.org/2000/svg\" height=\"24px\"viewBox=\"0 0 24 24\"\n",
              "     width=\"24px\">\n",
              "    <g>\n",
              "        <path d=\"M19 3H5c-1.1 0-2 .9-2 2v14c0 1.1.9 2 2 2h14c1.1 0 2-.9 2-2V5c0-1.1-.9-2-2-2zM9 17H7v-7h2v7zm4 0h-2V7h2v10zm4 0h-2v-4h2v4z\"/>\n",
              "    </g>\n",
              "</svg>\n",
              "      </button>\n",
              "    </div>\n",
              "\n",
              "<style>\n",
              "  .colab-df-quickchart {\n",
              "    background-color: #E8F0FE;\n",
              "    border: none;\n",
              "    border-radius: 50%;\n",
              "    cursor: pointer;\n",
              "    display: none;\n",
              "    fill: #1967D2;\n",
              "    height: 32px;\n",
              "    padding: 0 0 0 0;\n",
              "    width: 32px;\n",
              "  }\n",
              "\n",
              "  .colab-df-quickchart:hover {\n",
              "    background-color: #E2EBFA;\n",
              "    box-shadow: 0px 1px 2px rgba(60, 64, 67, 0.3), 0px 1px 3px 1px rgba(60, 64, 67, 0.15);\n",
              "    fill: #174EA6;\n",
              "  }\n",
              "\n",
              "  [theme=dark] .colab-df-quickchart {\n",
              "    background-color: #3B4455;\n",
              "    fill: #D2E3FC;\n",
              "  }\n",
              "\n",
              "  [theme=dark] .colab-df-quickchart:hover {\n",
              "    background-color: #434B5C;\n",
              "    box-shadow: 0px 1px 3px 1px rgba(0, 0, 0, 0.15);\n",
              "    filter: drop-shadow(0px 1px 2px rgba(0, 0, 0, 0.3));\n",
              "    fill: #FFFFFF;\n",
              "  }\n",
              "</style>\n",
              "\n",
              "    <script>\n",
              "      async function quickchart(key) {\n",
              "        const containerElement = document.querySelector('#' + key);\n",
              "        const charts = await google.colab.kernel.invokeFunction(\n",
              "            'suggestCharts', [key], {});\n",
              "      }\n",
              "    </script>\n",
              "\n",
              "      <script>\n",
              "\n",
              "function displayQuickchartButton(domScope) {\n",
              "  let quickchartButtonEl =\n",
              "    domScope.querySelector('#df-7953e5d2-6cf4-4802-bd7b-22bbd3564bd1 button.colab-df-quickchart');\n",
              "  quickchartButtonEl.style.display =\n",
              "    google.colab.kernel.accessAllowed ? 'block' : 'none';\n",
              "}\n",
              "\n",
              "        displayQuickchartButton(document);\n",
              "      </script>\n",
              "      <style>\n",
              "    .colab-df-container {\n",
              "      display:flex;\n",
              "      flex-wrap:wrap;\n",
              "      gap: 12px;\n",
              "    }\n",
              "\n",
              "    .colab-df-convert {\n",
              "      background-color: #E8F0FE;\n",
              "      border: none;\n",
              "      border-radius: 50%;\n",
              "      cursor: pointer;\n",
              "      display: none;\n",
              "      fill: #1967D2;\n",
              "      height: 32px;\n",
              "      padding: 0 0 0 0;\n",
              "      width: 32px;\n",
              "    }\n",
              "\n",
              "    .colab-df-convert:hover {\n",
              "      background-color: #E2EBFA;\n",
              "      box-shadow: 0px 1px 2px rgba(60, 64, 67, 0.3), 0px 1px 3px 1px rgba(60, 64, 67, 0.15);\n",
              "      fill: #174EA6;\n",
              "    }\n",
              "\n",
              "    [theme=dark] .colab-df-convert {\n",
              "      background-color: #3B4455;\n",
              "      fill: #D2E3FC;\n",
              "    }\n",
              "\n",
              "    [theme=dark] .colab-df-convert:hover {\n",
              "      background-color: #434B5C;\n",
              "      box-shadow: 0px 1px 3px 1px rgba(0, 0, 0, 0.15);\n",
              "      filter: drop-shadow(0px 1px 2px rgba(0, 0, 0, 0.3));\n",
              "      fill: #FFFFFF;\n",
              "    }\n",
              "  </style>\n",
              "\n",
              "      <script>\n",
              "        const buttonEl =\n",
              "          document.querySelector('#df-e1246bbe-c82a-49f9-accf-b5cfa95aa034 button.colab-df-convert');\n",
              "        buttonEl.style.display =\n",
              "          google.colab.kernel.accessAllowed ? 'block' : 'none';\n",
              "\n",
              "        async function convertToInteractive(key) {\n",
              "          const element = document.querySelector('#df-e1246bbe-c82a-49f9-accf-b5cfa95aa034');\n",
              "          const dataTable =\n",
              "            await google.colab.kernel.invokeFunction('convertToInteractive',\n",
              "                                                     [key], {});\n",
              "          if (!dataTable) return;\n",
              "\n",
              "          const docLinkHtml = 'Like what you see? Visit the ' +\n",
              "            '<a target=\"_blank\" href=https://colab.research.google.com/notebooks/data_table.ipynb>data table notebook</a>'\n",
              "            + ' to learn more about interactive tables.';\n",
              "          element.innerHTML = '';\n",
              "          dataTable['output_type'] = 'display_data';\n",
              "          await google.colab.output.renderOutput(dataTable, element);\n",
              "          const docLink = document.createElement('div');\n",
              "          docLink.innerHTML = docLinkHtml;\n",
              "          element.appendChild(docLink);\n",
              "        }\n",
              "      </script>\n",
              "    </div>\n",
              "  </div>\n"
            ]
          },
          "metadata": {},
          "execution_count": 182
        }
      ]
    },
    {
      "cell_type": "markdown",
      "source": [
        "**Splitting the dataset for chisquare test**"
      ],
      "metadata": {
        "id": "QUkboyG1Q4DG"
      }
    },
    {
      "cell_type": "code",
      "source": [
        "X=df.drop(['premium_sub_willingness'],axis=1)\n",
        "y=df['premium_sub_willingness']"
      ],
      "metadata": {
        "id": "kEgWgrRjQ0Zi"
      },
      "execution_count": 183,
      "outputs": []
    },
    {
      "cell_type": "markdown",
      "source": [
        "**Chi Square Test for feature selection**"
      ],
      "metadata": {
        "id": "s-ls7P5WRXkt"
      }
    },
    {
      "cell_type": "code",
      "source": [
        "selector=SelectKBest(score_func=chi2,k=15)"
      ],
      "metadata": {
        "id": "O91MPhzCRVLu"
      },
      "execution_count": 184,
      "outputs": []
    },
    {
      "cell_type": "code",
      "source": [
        "X_new=selector.fit_transform(X,y)"
      ],
      "metadata": {
        "id": "TyS9Mq6HReQU"
      },
      "execution_count": 185,
      "outputs": []
    },
    {
      "cell_type": "code",
      "source": [
        "selected_feature_indices=selector.get_support(indices=True)"
      ],
      "metadata": {
        "id": "2QeqKNN-SrvP"
      },
      "execution_count": 186,
      "outputs": []
    },
    {
      "cell_type": "code",
      "source": [
        "selected_features=X.columns[selected_feature_indices]"
      ],
      "metadata": {
        "id": "rdkJjG3KTy2W"
      },
      "execution_count": 187,
      "outputs": []
    },
    {
      "cell_type": "code",
      "source": [
        "selected_features"
      ],
      "metadata": {
        "colab": {
          "base_uri": "https://localhost:8080/"
        },
        "id": "xnTQzm3AT744",
        "outputId": "5ca22716-5d1a-460e-8074-2f3214205d38"
      },
      "execution_count": 188,
      "outputs": [
        {
          "output_type": "execute_result",
          "data": {
            "text/plain": [
              "Index(['Gender', 'spotify_usage_period', 'spotify_listening_device',\n",
              "       'spotify_subscription_plan', 'preffered_premium_plan',\n",
              "       'preferred_listening_content', 'fav_music_genre', 'music_time_slot',\n",
              "       'music_Influencial_mood', 'music_lis_frequency', 'music_expl_method',\n",
              "       'pod_lis_frequency', 'pod_host_preference', 'preffered_pod_duration',\n",
              "       'pod_variety_satisfaction'],\n",
              "      dtype='object')"
            ]
          },
          "metadata": {},
          "execution_count": 188
        }
      ]
    },
    {
      "cell_type": "markdown",
      "source": [
        "**Splitting the dataset for model building**"
      ],
      "metadata": {
        "id": "zBNUbk5yUFVs"
      }
    },
    {
      "cell_type": "code",
      "source": [
        "X1=df.drop(['Age','music_recc_rating','fav_pod_genre','preffered_pod_format','premium_sub_willingness'],axis=1)\n",
        "y=df['premium_sub_willingness']"
      ],
      "metadata": {
        "id": "sIWNibPpUIXT"
      },
      "execution_count": 189,
      "outputs": []
    },
    {
      "cell_type": "markdown",
      "source": [
        "**Feature Scaling Used By MinMaxScaler**"
      ],
      "metadata": {
        "id": "9NZpa68ZUhyp"
      }
    },
    {
      "cell_type": "code",
      "source": [
        "ms=MinMaxScaler()\n",
        "Xsc=ms.fit_transform(X1)\n",
        "Xsc"
      ],
      "metadata": {
        "colab": {
          "base_uri": "https://localhost:8080/"
        },
        "id": "cp7G4i46UT_z",
        "outputId": "c7b42d5f-57e1-43fd-af4d-53fdb1da6927"
      },
      "execution_count": 190,
      "outputs": [
        {
          "output_type": "execute_result",
          "data": {
            "text/plain": [
              "array([[0.        , 1.        , 0.28571429, ..., 0.        , 0.        ,\n",
              "        0.25      ],\n",
              "       [0.5       , 1.        , 0.        , ..., 0.        , 0.66666667,\n",
              "        0.5       ],\n",
              "       [1.        , 0.33333333, 0.28571429, ..., 0.33333333, 0.        ,\n",
              "        0.5       ],\n",
              "       ...,\n",
              "       [0.        , 1.        , 0.42857143, ..., 0.        , 1.        ,\n",
              "        0.25      ],\n",
              "       [0.        , 0.33333333, 0.42857143, ..., 0.        , 0.33333333,\n",
              "        0.5       ],\n",
              "       [0.        , 1.        , 0.5       , ..., 0.33333333, 0.66666667,\n",
              "        0.25      ]])"
            ]
          },
          "metadata": {},
          "execution_count": 190
        }
      ]
    },
    {
      "cell_type": "markdown",
      "source": [
        "**Model Building**"
      ],
      "metadata": {
        "id": "w9zNDpseUzM8"
      }
    },
    {
      "cell_type": "code",
      "source": [
        "X_train,X_test,y_train,y_test=train_test_split(Xsc,y,test_size=0.2,random_state=2)"
      ],
      "metadata": {
        "id": "4FqQGdZ0UuT8"
      },
      "execution_count": 191,
      "outputs": []
    },
    {
      "cell_type": "code",
      "source": [
        "X_train.shape"
      ],
      "metadata": {
        "colab": {
          "base_uri": "https://localhost:8080/"
        },
        "id": "Nl2iFmuwU13X",
        "outputId": "e1f88c4f-8f88-4dfc-92ce-074e52341d22"
      },
      "execution_count": 192,
      "outputs": [
        {
          "output_type": "execute_result",
          "data": {
            "text/plain": [
              "(416, 15)"
            ]
          },
          "metadata": {},
          "execution_count": 192
        }
      ]
    },
    {
      "cell_type": "code",
      "source": [
        "y_train.shape"
      ],
      "metadata": {
        "colab": {
          "base_uri": "https://localhost:8080/"
        },
        "id": "rZ8KcD5aU39H",
        "outputId": "edd02838-e3fc-4a4e-c41f-a7c4e95aa841"
      },
      "execution_count": 193,
      "outputs": [
        {
          "output_type": "execute_result",
          "data": {
            "text/plain": [
              "(416,)"
            ]
          },
          "metadata": {},
          "execution_count": 193
        }
      ]
    },
    {
      "cell_type": "markdown",
      "source": [
        "**K Nearest Neighbors**"
      ],
      "metadata": {
        "id": "vHxzRXuJU70D"
      }
    },
    {
      "cell_type": "code",
      "source": [
        "knn=KNeighborsClassifier()\n",
        "knn.fit(X_train,y_train)\n",
        "y_pred=knn.predict(X_test)\n",
        "print(classification_report(y_test,y_pred))"
      ],
      "metadata": {
        "colab": {
          "base_uri": "https://localhost:8080/"
        },
        "id": "aKh1m4FIU526",
        "outputId": "cd407658-ac12-4827-c8a5-43cf5d7b3db6"
      },
      "execution_count": 194,
      "outputs": [
        {
          "output_type": "stream",
          "name": "stdout",
          "text": [
            "              precision    recall  f1-score   support\n",
            "\n",
            "           0       0.84      0.94      0.89        66\n",
            "           1       0.87      0.68      0.76        38\n",
            "\n",
            "    accuracy                           0.85       104\n",
            "   macro avg       0.85      0.81      0.83       104\n",
            "weighted avg       0.85      0.85      0.84       104\n",
            "\n"
          ]
        }
      ]
    },
    {
      "cell_type": "markdown",
      "source": [
        "**Support Vector Machine**\n",
        "\n"
      ],
      "metadata": {
        "id": "qSj3ujjDVBME"
      }
    },
    {
      "cell_type": "code",
      "source": [
        "sv=SVC()\n",
        "sv.fit(X_train,y_train)\n",
        "y_pred1=sv.predict(X_test)\n",
        "print(classification_report(y_test,y_pred1))"
      ],
      "metadata": {
        "colab": {
          "base_uri": "https://localhost:8080/"
        },
        "id": "ngm8nqDIVAkx",
        "outputId": "35999e9d-4bfc-4c1d-da68-b10ca3cfae1b"
      },
      "execution_count": 195,
      "outputs": [
        {
          "output_type": "stream",
          "name": "stdout",
          "text": [
            "              precision    recall  f1-score   support\n",
            "\n",
            "           0       0.81      0.95      0.88        66\n",
            "           1       0.88      0.61      0.72        38\n",
            "\n",
            "    accuracy                           0.83       104\n",
            "   macro avg       0.85      0.78      0.80       104\n",
            "weighted avg       0.84      0.83      0.82       104\n",
            "\n"
          ]
        }
      ]
    },
    {
      "cell_type": "markdown",
      "source": [
        "\n",
        "\n",
        "**Naive Bayes Classifier**\n"
      ],
      "metadata": {
        "id": "7-JLNRBRVMG3"
      }
    },
    {
      "cell_type": "code",
      "source": [
        "nb=GaussianNB()\n",
        "nb.fit(X_train,y_train)\n",
        "y_pred2=nb.predict(X_test)\n",
        "print(classification_report(y_test,y_pred2))"
      ],
      "metadata": {
        "colab": {
          "base_uri": "https://localhost:8080/"
        },
        "id": "N2W3G62CVKVf",
        "outputId": "dd855658-5bb8-4183-f37c-3a03a96341cd"
      },
      "execution_count": 196,
      "outputs": [
        {
          "output_type": "stream",
          "name": "stdout",
          "text": [
            "              precision    recall  f1-score   support\n",
            "\n",
            "           0       0.88      0.88      0.88        66\n",
            "           1       0.79      0.79      0.79        38\n",
            "\n",
            "    accuracy                           0.85       104\n",
            "   macro avg       0.83      0.83      0.83       104\n",
            "weighted avg       0.85      0.85      0.85       104\n",
            "\n"
          ]
        }
      ]
    },
    {
      "cell_type": "markdown",
      "source": [
        "**Decision Tree**"
      ],
      "metadata": {
        "id": "-KcM8dsNVTXy"
      }
    },
    {
      "cell_type": "code",
      "source": [
        "dt=DecisionTreeClassifier(criterion='entropy',random_state=1)\n",
        "dt.fit(X_train,y_train)\n",
        "y_pred3=dt.predict(X_test)\n",
        "print(classification_report(y_test,y_pred3))"
      ],
      "metadata": {
        "colab": {
          "base_uri": "https://localhost:8080/"
        },
        "id": "cEGsM09TVSCL",
        "outputId": "16bd0d20-2576-4844-a6a1-2cffdc0b1248"
      },
      "execution_count": 197,
      "outputs": [
        {
          "output_type": "stream",
          "name": "stdout",
          "text": [
            "              precision    recall  f1-score   support\n",
            "\n",
            "           0       0.84      0.85      0.84        66\n",
            "           1       0.73      0.71      0.72        38\n",
            "\n",
            "    accuracy                           0.80       104\n",
            "   macro avg       0.78      0.78      0.78       104\n",
            "weighted avg       0.80      0.80      0.80       104\n",
            "\n"
          ]
        }
      ]
    },
    {
      "cell_type": "markdown",
      "source": [
        "**Decision Tree Hypertuning**"
      ],
      "metadata": {
        "id": "pzXu6QqdVYod"
      }
    },
    {
      "cell_type": "code",
      "source": [
        "parameters = {'criterion': ['gini', 'entropy'],'max_depth': [None, 5, 10],'min_samples_split': [2, 5, 10],'min_samples_leaf': [1, 2, 4]}\n",
        "clf=GridSearchCV(dt,parameters,cv=10,scoring='accuracy')\n",
        "clf.fit(X_train,y_train)"
      ],
      "metadata": {
        "colab": {
          "base_uri": "https://localhost:8080/",
          "height": 118
        },
        "id": "VnSmQ10wVXTT",
        "outputId": "08758647-8c56-45d9-e170-ee990c1978aa"
      },
      "execution_count": 198,
      "outputs": [
        {
          "output_type": "execute_result",
          "data": {
            "text/plain": [
              "GridSearchCV(cv=10,\n",
              "             estimator=DecisionTreeClassifier(criterion='entropy',\n",
              "                                              random_state=1),\n",
              "             param_grid={'criterion': ['gini', 'entropy'],\n",
              "                         'max_depth': [None, 5, 10],\n",
              "                         'min_samples_leaf': [1, 2, 4],\n",
              "                         'min_samples_split': [2, 5, 10]},\n",
              "             scoring='accuracy')"
            ],
            "text/html": [
              "<style>#sk-container-id-11 {color: black;background-color: white;}#sk-container-id-11 pre{padding: 0;}#sk-container-id-11 div.sk-toggleable {background-color: white;}#sk-container-id-11 label.sk-toggleable__label {cursor: pointer;display: block;width: 100%;margin-bottom: 0;padding: 0.3em;box-sizing: border-box;text-align: center;}#sk-container-id-11 label.sk-toggleable__label-arrow:before {content: \"▸\";float: left;margin-right: 0.25em;color: #696969;}#sk-container-id-11 label.sk-toggleable__label-arrow:hover:before {color: black;}#sk-container-id-11 div.sk-estimator:hover label.sk-toggleable__label-arrow:before {color: black;}#sk-container-id-11 div.sk-toggleable__content {max-height: 0;max-width: 0;overflow: hidden;text-align: left;background-color: #f0f8ff;}#sk-container-id-11 div.sk-toggleable__content pre {margin: 0.2em;color: black;border-radius: 0.25em;background-color: #f0f8ff;}#sk-container-id-11 input.sk-toggleable__control:checked~div.sk-toggleable__content {max-height: 200px;max-width: 100%;overflow: auto;}#sk-container-id-11 input.sk-toggleable__control:checked~label.sk-toggleable__label-arrow:before {content: \"▾\";}#sk-container-id-11 div.sk-estimator input.sk-toggleable__control:checked~label.sk-toggleable__label {background-color: #d4ebff;}#sk-container-id-11 div.sk-label input.sk-toggleable__control:checked~label.sk-toggleable__label {background-color: #d4ebff;}#sk-container-id-11 input.sk-hidden--visually {border: 0;clip: rect(1px 1px 1px 1px);clip: rect(1px, 1px, 1px, 1px);height: 1px;margin: -1px;overflow: hidden;padding: 0;position: absolute;width: 1px;}#sk-container-id-11 div.sk-estimator {font-family: monospace;background-color: #f0f8ff;border: 1px dotted black;border-radius: 0.25em;box-sizing: border-box;margin-bottom: 0.5em;}#sk-container-id-11 div.sk-estimator:hover {background-color: #d4ebff;}#sk-container-id-11 div.sk-parallel-item::after {content: \"\";width: 100%;border-bottom: 1px solid gray;flex-grow: 1;}#sk-container-id-11 div.sk-label:hover label.sk-toggleable__label {background-color: #d4ebff;}#sk-container-id-11 div.sk-serial::before {content: \"\";position: absolute;border-left: 1px solid gray;box-sizing: border-box;top: 0;bottom: 0;left: 50%;z-index: 0;}#sk-container-id-11 div.sk-serial {display: flex;flex-direction: column;align-items: center;background-color: white;padding-right: 0.2em;padding-left: 0.2em;position: relative;}#sk-container-id-11 div.sk-item {position: relative;z-index: 1;}#sk-container-id-11 div.sk-parallel {display: flex;align-items: stretch;justify-content: center;background-color: white;position: relative;}#sk-container-id-11 div.sk-item::before, #sk-container-id-11 div.sk-parallel-item::before {content: \"\";position: absolute;border-left: 1px solid gray;box-sizing: border-box;top: 0;bottom: 0;left: 50%;z-index: -1;}#sk-container-id-11 div.sk-parallel-item {display: flex;flex-direction: column;z-index: 1;position: relative;background-color: white;}#sk-container-id-11 div.sk-parallel-item:first-child::after {align-self: flex-end;width: 50%;}#sk-container-id-11 div.sk-parallel-item:last-child::after {align-self: flex-start;width: 50%;}#sk-container-id-11 div.sk-parallel-item:only-child::after {width: 0;}#sk-container-id-11 div.sk-dashed-wrapped {border: 1px dashed gray;margin: 0 0.4em 0.5em 0.4em;box-sizing: border-box;padding-bottom: 0.4em;background-color: white;}#sk-container-id-11 div.sk-label label {font-family: monospace;font-weight: bold;display: inline-block;line-height: 1.2em;}#sk-container-id-11 div.sk-label-container {text-align: center;}#sk-container-id-11 div.sk-container {/* jupyter's `normalize.less` sets `[hidden] { display: none; }` but bootstrap.min.css set `[hidden] { display: none !important; }` so we also need the `!important` here to be able to override the default hidden behavior on the sphinx rendered scikit-learn.org. See: https://github.com/scikit-learn/scikit-learn/issues/21755 */display: inline-block !important;position: relative;}#sk-container-id-11 div.sk-text-repr-fallback {display: none;}</style><div id=\"sk-container-id-11\" class=\"sk-top-container\"><div class=\"sk-text-repr-fallback\"><pre>GridSearchCV(cv=10,\n",
              "             estimator=DecisionTreeClassifier(criterion=&#x27;entropy&#x27;,\n",
              "                                              random_state=1),\n",
              "             param_grid={&#x27;criterion&#x27;: [&#x27;gini&#x27;, &#x27;entropy&#x27;],\n",
              "                         &#x27;max_depth&#x27;: [None, 5, 10],\n",
              "                         &#x27;min_samples_leaf&#x27;: [1, 2, 4],\n",
              "                         &#x27;min_samples_split&#x27;: [2, 5, 10]},\n",
              "             scoring=&#x27;accuracy&#x27;)</pre><b>In a Jupyter environment, please rerun this cell to show the HTML representation or trust the notebook. <br />On GitHub, the HTML representation is unable to render, please try loading this page with nbviewer.org.</b></div><div class=\"sk-container\" hidden><div class=\"sk-item sk-dashed-wrapped\"><div class=\"sk-label-container\"><div class=\"sk-label sk-toggleable\"><input class=\"sk-toggleable__control sk-hidden--visually\" id=\"sk-estimator-id-31\" type=\"checkbox\" ><label for=\"sk-estimator-id-31\" class=\"sk-toggleable__label sk-toggleable__label-arrow\">GridSearchCV</label><div class=\"sk-toggleable__content\"><pre>GridSearchCV(cv=10,\n",
              "             estimator=DecisionTreeClassifier(criterion=&#x27;entropy&#x27;,\n",
              "                                              random_state=1),\n",
              "             param_grid={&#x27;criterion&#x27;: [&#x27;gini&#x27;, &#x27;entropy&#x27;],\n",
              "                         &#x27;max_depth&#x27;: [None, 5, 10],\n",
              "                         &#x27;min_samples_leaf&#x27;: [1, 2, 4],\n",
              "                         &#x27;min_samples_split&#x27;: [2, 5, 10]},\n",
              "             scoring=&#x27;accuracy&#x27;)</pre></div></div></div><div class=\"sk-parallel\"><div class=\"sk-parallel-item\"><div class=\"sk-item\"><div class=\"sk-label-container\"><div class=\"sk-label sk-toggleable\"><input class=\"sk-toggleable__control sk-hidden--visually\" id=\"sk-estimator-id-32\" type=\"checkbox\" ><label for=\"sk-estimator-id-32\" class=\"sk-toggleable__label sk-toggleable__label-arrow\">estimator: DecisionTreeClassifier</label><div class=\"sk-toggleable__content\"><pre>DecisionTreeClassifier(criterion=&#x27;entropy&#x27;, random_state=1)</pre></div></div></div><div class=\"sk-serial\"><div class=\"sk-item\"><div class=\"sk-estimator sk-toggleable\"><input class=\"sk-toggleable__control sk-hidden--visually\" id=\"sk-estimator-id-33\" type=\"checkbox\" ><label for=\"sk-estimator-id-33\" class=\"sk-toggleable__label sk-toggleable__label-arrow\">DecisionTreeClassifier</label><div class=\"sk-toggleable__content\"><pre>DecisionTreeClassifier(criterion=&#x27;entropy&#x27;, random_state=1)</pre></div></div></div></div></div></div></div></div></div></div>"
            ]
          },
          "metadata": {},
          "execution_count": 198
        }
      ]
    },
    {
      "cell_type": "code",
      "source": [
        "print(clf.best_params_)"
      ],
      "metadata": {
        "colab": {
          "base_uri": "https://localhost:8080/"
        },
        "id": "6ZXfTuD7Vlmh",
        "outputId": "d235d9a8-9705-494c-d9b9-29d3b82f2e22"
      },
      "execution_count": 199,
      "outputs": [
        {
          "output_type": "stream",
          "name": "stdout",
          "text": [
            "{'criterion': 'entropy', 'max_depth': 5, 'min_samples_leaf': 2, 'min_samples_split': 2}\n"
          ]
        }
      ]
    },
    {
      "cell_type": "code",
      "source": [
        "dt1=DecisionTreeClassifier(criterion='entropy',max_depth=5,min_samples_leaf=2,min_samples_split=2)\n",
        "dt1.fit(X_train,y_train)\n",
        "y_predd=dt1.predict(X_test)\n",
        "print(classification_report(y_test,y_predd))"
      ],
      "metadata": {
        "colab": {
          "base_uri": "https://localhost:8080/"
        },
        "id": "xLp1PaDHVsBS",
        "outputId": "b965a218-a886-4b6f-a7c4-f8f488459d08"
      },
      "execution_count": 200,
      "outputs": [
        {
          "output_type": "stream",
          "name": "stdout",
          "text": [
            "              precision    recall  f1-score   support\n",
            "\n",
            "           0       0.87      0.91      0.89        66\n",
            "           1       0.83      0.76      0.79        38\n",
            "\n",
            "    accuracy                           0.86       104\n",
            "   macro avg       0.85      0.84      0.84       104\n",
            "weighted avg       0.85      0.86      0.85       104\n",
            "\n"
          ]
        }
      ]
    },
    {
      "cell_type": "markdown",
      "source": [
        "**Random Forest**"
      ],
      "metadata": {
        "id": "zNjmh596VxOl"
      }
    },
    {
      "cell_type": "code",
      "source": [
        "rf=RandomForestClassifier(n_estimators=100,random_state=1)\n",
        "rf.fit(X_train,y_train)\n",
        "y_pred4=rf.predict(X_test)\n",
        "print(classification_report(y_test,y_pred4))"
      ],
      "metadata": {
        "colab": {
          "base_uri": "https://localhost:8080/"
        },
        "id": "_VUb-5O0Vyjo",
        "outputId": "29b9d62d-1a4c-4792-e7f9-ea3a54dab7fe"
      },
      "execution_count": 201,
      "outputs": [
        {
          "output_type": "stream",
          "name": "stdout",
          "text": [
            "              precision    recall  f1-score   support\n",
            "\n",
            "           0       0.86      0.91      0.88        66\n",
            "           1       0.82      0.74      0.78        38\n",
            "\n",
            "    accuracy                           0.85       104\n",
            "   macro avg       0.84      0.82      0.83       104\n",
            "weighted avg       0.84      0.85      0.84       104\n",
            "\n"
          ]
        }
      ]
    },
    {
      "cell_type": "markdown",
      "source": [
        "**Random Forest Hypertuning**"
      ],
      "metadata": {
        "id": "E2jXy8CoV4Z3"
      }
    },
    {
      "cell_type": "code",
      "source": [
        "parameters = {'n_estimators': [100, 200, 300],'max_depth': [None, 5, 10],'min_samples_split': [2, 5, 10],'min_samples_leaf': [1, 2, 4]}\n",
        "clf=GridSearchCV(rf,parameters,cv=10,scoring='accuracy')\n",
        "clf.fit(X_train,y_train)"
      ],
      "metadata": {
        "colab": {
          "base_uri": "https://localhost:8080/",
          "height": 118
        },
        "id": "yN0EAseGV23e",
        "outputId": "8247b0d3-804d-4053-b432-4a134a9da7b1"
      },
      "execution_count": 202,
      "outputs": [
        {
          "output_type": "execute_result",
          "data": {
            "text/plain": [
              "GridSearchCV(cv=10, estimator=RandomForestClassifier(random_state=1),\n",
              "             param_grid={'max_depth': [None, 5, 10],\n",
              "                         'min_samples_leaf': [1, 2, 4],\n",
              "                         'min_samples_split': [2, 5, 10],\n",
              "                         'n_estimators': [100, 200, 300]},\n",
              "             scoring='accuracy')"
            ],
            "text/html": [
              "<style>#sk-container-id-12 {color: black;background-color: white;}#sk-container-id-12 pre{padding: 0;}#sk-container-id-12 div.sk-toggleable {background-color: white;}#sk-container-id-12 label.sk-toggleable__label {cursor: pointer;display: block;width: 100%;margin-bottom: 0;padding: 0.3em;box-sizing: border-box;text-align: center;}#sk-container-id-12 label.sk-toggleable__label-arrow:before {content: \"▸\";float: left;margin-right: 0.25em;color: #696969;}#sk-container-id-12 label.sk-toggleable__label-arrow:hover:before {color: black;}#sk-container-id-12 div.sk-estimator:hover label.sk-toggleable__label-arrow:before {color: black;}#sk-container-id-12 div.sk-toggleable__content {max-height: 0;max-width: 0;overflow: hidden;text-align: left;background-color: #f0f8ff;}#sk-container-id-12 div.sk-toggleable__content pre {margin: 0.2em;color: black;border-radius: 0.25em;background-color: #f0f8ff;}#sk-container-id-12 input.sk-toggleable__control:checked~div.sk-toggleable__content {max-height: 200px;max-width: 100%;overflow: auto;}#sk-container-id-12 input.sk-toggleable__control:checked~label.sk-toggleable__label-arrow:before {content: \"▾\";}#sk-container-id-12 div.sk-estimator input.sk-toggleable__control:checked~label.sk-toggleable__label {background-color: #d4ebff;}#sk-container-id-12 div.sk-label input.sk-toggleable__control:checked~label.sk-toggleable__label {background-color: #d4ebff;}#sk-container-id-12 input.sk-hidden--visually {border: 0;clip: rect(1px 1px 1px 1px);clip: rect(1px, 1px, 1px, 1px);height: 1px;margin: -1px;overflow: hidden;padding: 0;position: absolute;width: 1px;}#sk-container-id-12 div.sk-estimator {font-family: monospace;background-color: #f0f8ff;border: 1px dotted black;border-radius: 0.25em;box-sizing: border-box;margin-bottom: 0.5em;}#sk-container-id-12 div.sk-estimator:hover {background-color: #d4ebff;}#sk-container-id-12 div.sk-parallel-item::after {content: \"\";width: 100%;border-bottom: 1px solid gray;flex-grow: 1;}#sk-container-id-12 div.sk-label:hover label.sk-toggleable__label {background-color: #d4ebff;}#sk-container-id-12 div.sk-serial::before {content: \"\";position: absolute;border-left: 1px solid gray;box-sizing: border-box;top: 0;bottom: 0;left: 50%;z-index: 0;}#sk-container-id-12 div.sk-serial {display: flex;flex-direction: column;align-items: center;background-color: white;padding-right: 0.2em;padding-left: 0.2em;position: relative;}#sk-container-id-12 div.sk-item {position: relative;z-index: 1;}#sk-container-id-12 div.sk-parallel {display: flex;align-items: stretch;justify-content: center;background-color: white;position: relative;}#sk-container-id-12 div.sk-item::before, #sk-container-id-12 div.sk-parallel-item::before {content: \"\";position: absolute;border-left: 1px solid gray;box-sizing: border-box;top: 0;bottom: 0;left: 50%;z-index: -1;}#sk-container-id-12 div.sk-parallel-item {display: flex;flex-direction: column;z-index: 1;position: relative;background-color: white;}#sk-container-id-12 div.sk-parallel-item:first-child::after {align-self: flex-end;width: 50%;}#sk-container-id-12 div.sk-parallel-item:last-child::after {align-self: flex-start;width: 50%;}#sk-container-id-12 div.sk-parallel-item:only-child::after {width: 0;}#sk-container-id-12 div.sk-dashed-wrapped {border: 1px dashed gray;margin: 0 0.4em 0.5em 0.4em;box-sizing: border-box;padding-bottom: 0.4em;background-color: white;}#sk-container-id-12 div.sk-label label {font-family: monospace;font-weight: bold;display: inline-block;line-height: 1.2em;}#sk-container-id-12 div.sk-label-container {text-align: center;}#sk-container-id-12 div.sk-container {/* jupyter's `normalize.less` sets `[hidden] { display: none; }` but bootstrap.min.css set `[hidden] { display: none !important; }` so we also need the `!important` here to be able to override the default hidden behavior on the sphinx rendered scikit-learn.org. See: https://github.com/scikit-learn/scikit-learn/issues/21755 */display: inline-block !important;position: relative;}#sk-container-id-12 div.sk-text-repr-fallback {display: none;}</style><div id=\"sk-container-id-12\" class=\"sk-top-container\"><div class=\"sk-text-repr-fallback\"><pre>GridSearchCV(cv=10, estimator=RandomForestClassifier(random_state=1),\n",
              "             param_grid={&#x27;max_depth&#x27;: [None, 5, 10],\n",
              "                         &#x27;min_samples_leaf&#x27;: [1, 2, 4],\n",
              "                         &#x27;min_samples_split&#x27;: [2, 5, 10],\n",
              "                         &#x27;n_estimators&#x27;: [100, 200, 300]},\n",
              "             scoring=&#x27;accuracy&#x27;)</pre><b>In a Jupyter environment, please rerun this cell to show the HTML representation or trust the notebook. <br />On GitHub, the HTML representation is unable to render, please try loading this page with nbviewer.org.</b></div><div class=\"sk-container\" hidden><div class=\"sk-item sk-dashed-wrapped\"><div class=\"sk-label-container\"><div class=\"sk-label sk-toggleable\"><input class=\"sk-toggleable__control sk-hidden--visually\" id=\"sk-estimator-id-34\" type=\"checkbox\" ><label for=\"sk-estimator-id-34\" class=\"sk-toggleable__label sk-toggleable__label-arrow\">GridSearchCV</label><div class=\"sk-toggleable__content\"><pre>GridSearchCV(cv=10, estimator=RandomForestClassifier(random_state=1),\n",
              "             param_grid={&#x27;max_depth&#x27;: [None, 5, 10],\n",
              "                         &#x27;min_samples_leaf&#x27;: [1, 2, 4],\n",
              "                         &#x27;min_samples_split&#x27;: [2, 5, 10],\n",
              "                         &#x27;n_estimators&#x27;: [100, 200, 300]},\n",
              "             scoring=&#x27;accuracy&#x27;)</pre></div></div></div><div class=\"sk-parallel\"><div class=\"sk-parallel-item\"><div class=\"sk-item\"><div class=\"sk-label-container\"><div class=\"sk-label sk-toggleable\"><input class=\"sk-toggleable__control sk-hidden--visually\" id=\"sk-estimator-id-35\" type=\"checkbox\" ><label for=\"sk-estimator-id-35\" class=\"sk-toggleable__label sk-toggleable__label-arrow\">estimator: RandomForestClassifier</label><div class=\"sk-toggleable__content\"><pre>RandomForestClassifier(random_state=1)</pre></div></div></div><div class=\"sk-serial\"><div class=\"sk-item\"><div class=\"sk-estimator sk-toggleable\"><input class=\"sk-toggleable__control sk-hidden--visually\" id=\"sk-estimator-id-36\" type=\"checkbox\" ><label for=\"sk-estimator-id-36\" class=\"sk-toggleable__label sk-toggleable__label-arrow\">RandomForestClassifier</label><div class=\"sk-toggleable__content\"><pre>RandomForestClassifier(random_state=1)</pre></div></div></div></div></div></div></div></div></div></div>"
            ]
          },
          "metadata": {},
          "execution_count": 202
        }
      ]
    },
    {
      "cell_type": "code",
      "source": [
        "print(clf.best_params_)\n",
        "\n"
      ],
      "metadata": {
        "colab": {
          "base_uri": "https://localhost:8080/"
        },
        "id": "4F-lVZdRWuWX",
        "outputId": "92d17c07-3048-4819-a4ac-543793dedad7"
      },
      "execution_count": 203,
      "outputs": [
        {
          "output_type": "stream",
          "name": "stdout",
          "text": [
            "{'max_depth': 10, 'min_samples_leaf': 4, 'min_samples_split': 10, 'n_estimators': 100}\n"
          ]
        }
      ]
    },
    {
      "cell_type": "code",
      "source": [
        "rf1=RandomForestClassifier(n_estimators=100,min_samples_leaf=4,min_samples_split=10,max_depth=10)\n",
        "rf1.fit(X_train,y_train)\n",
        "y_predr=rf1.predict(X_test)\n",
        "print(classification_report(y_test,y_predr))"
      ],
      "metadata": {
        "colab": {
          "base_uri": "https://localhost:8080/"
        },
        "id": "n15fpWDOW2kz",
        "outputId": "93de9d19-82c4-475a-a77a-55f67754501c"
      },
      "execution_count": 204,
      "outputs": [
        {
          "output_type": "stream",
          "name": "stdout",
          "text": [
            "              precision    recall  f1-score   support\n",
            "\n",
            "           0       0.83      0.88      0.85        66\n",
            "           1       0.76      0.68      0.72        38\n",
            "\n",
            "    accuracy                           0.81       104\n",
            "   macro avg       0.80      0.78      0.79       104\n",
            "weighted avg       0.81      0.81      0.81       104\n",
            "\n"
          ]
        }
      ]
    },
    {
      "cell_type": "markdown",
      "source": [
        "**AdaBoost Classifier**"
      ],
      "metadata": {
        "id": "DtF_2FlzW81L"
      }
    },
    {
      "cell_type": "code",
      "source": [
        "ad=AdaBoostClassifier()\n",
        "ad.fit(X_train,y_train)\n",
        "y_pred5=ad.predict(X_test)\n",
        "print(classification_report(y_test,y_pred5))\n",
        ""
      ],
      "metadata": {
        "colab": {
          "base_uri": "https://localhost:8080/"
        },
        "id": "YgzsU6V5W6h0",
        "outputId": "004dbe03-bc69-4661-8ba7-30fb96845e92"
      },
      "execution_count": 205,
      "outputs": [
        {
          "output_type": "stream",
          "name": "stdout",
          "text": [
            "              precision    recall  f1-score   support\n",
            "\n",
            "           0       0.79      0.88      0.83        66\n",
            "           1       0.74      0.61      0.67        38\n",
            "\n",
            "    accuracy                           0.78       104\n",
            "   macro avg       0.77      0.74      0.75       104\n",
            "weighted avg       0.78      0.78      0.77       104\n",
            "\n"
          ]
        }
      ]
    },
    {
      "cell_type": "markdown",
      "source": [
        "**AdaBoost Hypertuning**"
      ],
      "metadata": {
        "id": "RVid7SOmXB24"
      }
    },
    {
      "cell_type": "code",
      "source": [
        "parameters = {'n_estimators': [50, 100, 200],'learning_rate': [0.1, 0.5, 1.0]}\n",
        "clf=GridSearchCV(ad,parameters,cv=10,scoring='accuracy')\n",
        "clf.fit(X_train,y_train)"
      ],
      "metadata": {
        "colab": {
          "base_uri": "https://localhost:8080/",
          "height": 118
        },
        "id": "ggiQLAH0XDAR",
        "outputId": "12877c36-225f-4dba-f0d7-8bb375714925"
      },
      "execution_count": 206,
      "outputs": [
        {
          "output_type": "execute_result",
          "data": {
            "text/plain": [
              "GridSearchCV(cv=10, estimator=AdaBoostClassifier(),\n",
              "             param_grid={'learning_rate': [0.1, 0.5, 1.0],\n",
              "                         'n_estimators': [50, 100, 200]},\n",
              "             scoring='accuracy')"
            ],
            "text/html": [
              "<style>#sk-container-id-13 {color: black;background-color: white;}#sk-container-id-13 pre{padding: 0;}#sk-container-id-13 div.sk-toggleable {background-color: white;}#sk-container-id-13 label.sk-toggleable__label {cursor: pointer;display: block;width: 100%;margin-bottom: 0;padding: 0.3em;box-sizing: border-box;text-align: center;}#sk-container-id-13 label.sk-toggleable__label-arrow:before {content: \"▸\";float: left;margin-right: 0.25em;color: #696969;}#sk-container-id-13 label.sk-toggleable__label-arrow:hover:before {color: black;}#sk-container-id-13 div.sk-estimator:hover label.sk-toggleable__label-arrow:before {color: black;}#sk-container-id-13 div.sk-toggleable__content {max-height: 0;max-width: 0;overflow: hidden;text-align: left;background-color: #f0f8ff;}#sk-container-id-13 div.sk-toggleable__content pre {margin: 0.2em;color: black;border-radius: 0.25em;background-color: #f0f8ff;}#sk-container-id-13 input.sk-toggleable__control:checked~div.sk-toggleable__content {max-height: 200px;max-width: 100%;overflow: auto;}#sk-container-id-13 input.sk-toggleable__control:checked~label.sk-toggleable__label-arrow:before {content: \"▾\";}#sk-container-id-13 div.sk-estimator input.sk-toggleable__control:checked~label.sk-toggleable__label {background-color: #d4ebff;}#sk-container-id-13 div.sk-label input.sk-toggleable__control:checked~label.sk-toggleable__label {background-color: #d4ebff;}#sk-container-id-13 input.sk-hidden--visually {border: 0;clip: rect(1px 1px 1px 1px);clip: rect(1px, 1px, 1px, 1px);height: 1px;margin: -1px;overflow: hidden;padding: 0;position: absolute;width: 1px;}#sk-container-id-13 div.sk-estimator {font-family: monospace;background-color: #f0f8ff;border: 1px dotted black;border-radius: 0.25em;box-sizing: border-box;margin-bottom: 0.5em;}#sk-container-id-13 div.sk-estimator:hover {background-color: #d4ebff;}#sk-container-id-13 div.sk-parallel-item::after {content: \"\";width: 100%;border-bottom: 1px solid gray;flex-grow: 1;}#sk-container-id-13 div.sk-label:hover label.sk-toggleable__label {background-color: #d4ebff;}#sk-container-id-13 div.sk-serial::before {content: \"\";position: absolute;border-left: 1px solid gray;box-sizing: border-box;top: 0;bottom: 0;left: 50%;z-index: 0;}#sk-container-id-13 div.sk-serial {display: flex;flex-direction: column;align-items: center;background-color: white;padding-right: 0.2em;padding-left: 0.2em;position: relative;}#sk-container-id-13 div.sk-item {position: relative;z-index: 1;}#sk-container-id-13 div.sk-parallel {display: flex;align-items: stretch;justify-content: center;background-color: white;position: relative;}#sk-container-id-13 div.sk-item::before, #sk-container-id-13 div.sk-parallel-item::before {content: \"\";position: absolute;border-left: 1px solid gray;box-sizing: border-box;top: 0;bottom: 0;left: 50%;z-index: -1;}#sk-container-id-13 div.sk-parallel-item {display: flex;flex-direction: column;z-index: 1;position: relative;background-color: white;}#sk-container-id-13 div.sk-parallel-item:first-child::after {align-self: flex-end;width: 50%;}#sk-container-id-13 div.sk-parallel-item:last-child::after {align-self: flex-start;width: 50%;}#sk-container-id-13 div.sk-parallel-item:only-child::after {width: 0;}#sk-container-id-13 div.sk-dashed-wrapped {border: 1px dashed gray;margin: 0 0.4em 0.5em 0.4em;box-sizing: border-box;padding-bottom: 0.4em;background-color: white;}#sk-container-id-13 div.sk-label label {font-family: monospace;font-weight: bold;display: inline-block;line-height: 1.2em;}#sk-container-id-13 div.sk-label-container {text-align: center;}#sk-container-id-13 div.sk-container {/* jupyter's `normalize.less` sets `[hidden] { display: none; }` but bootstrap.min.css set `[hidden] { display: none !important; }` so we also need the `!important` here to be able to override the default hidden behavior on the sphinx rendered scikit-learn.org. See: https://github.com/scikit-learn/scikit-learn/issues/21755 */display: inline-block !important;position: relative;}#sk-container-id-13 div.sk-text-repr-fallback {display: none;}</style><div id=\"sk-container-id-13\" class=\"sk-top-container\"><div class=\"sk-text-repr-fallback\"><pre>GridSearchCV(cv=10, estimator=AdaBoostClassifier(),\n",
              "             param_grid={&#x27;learning_rate&#x27;: [0.1, 0.5, 1.0],\n",
              "                         &#x27;n_estimators&#x27;: [50, 100, 200]},\n",
              "             scoring=&#x27;accuracy&#x27;)</pre><b>In a Jupyter environment, please rerun this cell to show the HTML representation or trust the notebook. <br />On GitHub, the HTML representation is unable to render, please try loading this page with nbviewer.org.</b></div><div class=\"sk-container\" hidden><div class=\"sk-item sk-dashed-wrapped\"><div class=\"sk-label-container\"><div class=\"sk-label sk-toggleable\"><input class=\"sk-toggleable__control sk-hidden--visually\" id=\"sk-estimator-id-37\" type=\"checkbox\" ><label for=\"sk-estimator-id-37\" class=\"sk-toggleable__label sk-toggleable__label-arrow\">GridSearchCV</label><div class=\"sk-toggleable__content\"><pre>GridSearchCV(cv=10, estimator=AdaBoostClassifier(),\n",
              "             param_grid={&#x27;learning_rate&#x27;: [0.1, 0.5, 1.0],\n",
              "                         &#x27;n_estimators&#x27;: [50, 100, 200]},\n",
              "             scoring=&#x27;accuracy&#x27;)</pre></div></div></div><div class=\"sk-parallel\"><div class=\"sk-parallel-item\"><div class=\"sk-item\"><div class=\"sk-label-container\"><div class=\"sk-label sk-toggleable\"><input class=\"sk-toggleable__control sk-hidden--visually\" id=\"sk-estimator-id-38\" type=\"checkbox\" ><label for=\"sk-estimator-id-38\" class=\"sk-toggleable__label sk-toggleable__label-arrow\">estimator: AdaBoostClassifier</label><div class=\"sk-toggleable__content\"><pre>AdaBoostClassifier()</pre></div></div></div><div class=\"sk-serial\"><div class=\"sk-item\"><div class=\"sk-estimator sk-toggleable\"><input class=\"sk-toggleable__control sk-hidden--visually\" id=\"sk-estimator-id-39\" type=\"checkbox\" ><label for=\"sk-estimator-id-39\" class=\"sk-toggleable__label sk-toggleable__label-arrow\">AdaBoostClassifier</label><div class=\"sk-toggleable__content\"><pre>AdaBoostClassifier()</pre></div></div></div></div></div></div></div></div></div></div>"
            ]
          },
          "metadata": {},
          "execution_count": 206
        }
      ]
    },
    {
      "cell_type": "code",
      "source": [
        "print(clf.best_params_)\n",
        "\n"
      ],
      "metadata": {
        "colab": {
          "base_uri": "https://localhost:8080/"
        },
        "id": "xB1z4OHpXKfp",
        "outputId": "84f353ac-4f0c-4c6d-db3a-0719e7b64233"
      },
      "execution_count": 207,
      "outputs": [
        {
          "output_type": "stream",
          "name": "stdout",
          "text": [
            "{'learning_rate': 0.1, 'n_estimators': 100}\n"
          ]
        }
      ]
    },
    {
      "cell_type": "code",
      "source": [
        "ad1=AdaBoostClassifier(learning_rate=0.1,n_estimators=100)\n",
        "ad1.fit(X_train,y_train)\n",
        "y_preda=ad1.predict(X_test)\n",
        "print(classification_report(y_test,y_preda))"
      ],
      "metadata": {
        "colab": {
          "base_uri": "https://localhost:8080/"
        },
        "id": "Y80QmPrxXOOj",
        "outputId": "1353ca80-974f-4d80-b9c1-7fc89478a035"
      },
      "execution_count": 208,
      "outputs": [
        {
          "output_type": "stream",
          "name": "stdout",
          "text": [
            "              precision    recall  f1-score   support\n",
            "\n",
            "           0       0.87      0.91      0.89        66\n",
            "           1       0.83      0.76      0.79        38\n",
            "\n",
            "    accuracy                           0.86       104\n",
            "   macro avg       0.85      0.84      0.84       104\n",
            "weighted avg       0.85      0.86      0.85       104\n",
            "\n"
          ]
        }
      ]
    },
    {
      "cell_type": "markdown",
      "source": [
        "**Gradient Boosting**"
      ],
      "metadata": {
        "id": "FfGcZVeMXSmA"
      }
    },
    {
      "cell_type": "code",
      "source": [
        "gb=GradientBoostingClassifier()\n",
        "gb.fit(X_train,y_train)\n",
        "y_pred6=gb.predict(X_test)\n",
        "print(classification_report(y_test,y_pred6))"
      ],
      "metadata": {
        "colab": {
          "base_uri": "https://localhost:8080/"
        },
        "id": "v4knumF_XRA0",
        "outputId": "0eeef9bf-6209-4311-e642-d8a4902b7f44"
      },
      "execution_count": 209,
      "outputs": [
        {
          "output_type": "stream",
          "name": "stdout",
          "text": [
            "              precision    recall  f1-score   support\n",
            "\n",
            "           0       0.82      0.89      0.86        66\n",
            "           1       0.78      0.66      0.71        38\n",
            "\n",
            "    accuracy                           0.81       104\n",
            "   macro avg       0.80      0.78      0.78       104\n",
            "weighted avg       0.81      0.81      0.80       104\n",
            "\n"
          ]
        }
      ]
    },
    {
      "cell_type": "markdown",
      "source": [
        "**Gradient Boosting Hypertuning**"
      ],
      "metadata": {
        "id": "i3TdzbNxXeM3"
      }
    },
    {
      "cell_type": "code",
      "source": [
        "parameters = {'n_estimators': [50, 100, 200],'learning_rate': [0.1, 0.5, 1.0],'max_depth': [3, 5, 7]}\n",
        "clf=GridSearchCV(gb,parameters,cv=10,scoring='accuracy')\n",
        "clf.fit(X_train,y_train)\n",
        "\n"
      ],
      "metadata": {
        "id": "1uL80mbEXcHH"
      },
      "execution_count": null,
      "outputs": []
    },
    {
      "cell_type": "code",
      "source": [
        "print(clf.best_params_)"
      ],
      "metadata": {
        "colab": {
          "base_uri": "https://localhost:8080/"
        },
        "id": "J1siFKfrXtqF",
        "outputId": "e7879bc9-0f8e-4366-da7c-0bca260be38e"
      },
      "execution_count": 210,
      "outputs": [
        {
          "output_type": "stream",
          "name": "stdout",
          "text": [
            "{'learning_rate': 0.1, 'n_estimators': 100}\n"
          ]
        }
      ]
    },
    {
      "cell_type": "code",
      "source": [
        "gb1=GradientBoostingClassifier(learning_rate=0.1,max_depth=3,n_estimators=50)\n",
        "gb1.fit(X_train,y_train)\n",
        "y_predg=gb1.predict(X_test)\n",
        "print(classification_report(y_test,y_predg))\n",
        "\n"
      ],
      "metadata": {
        "colab": {
          "base_uri": "https://localhost:8080/"
        },
        "id": "8OS_cJ2NXwht",
        "outputId": "7e16f5bc-eb8b-4b21-a2b0-4d6b362d1e2e"
      },
      "execution_count": 211,
      "outputs": [
        {
          "output_type": "stream",
          "name": "stdout",
          "text": [
            "              precision    recall  f1-score   support\n",
            "\n",
            "           0       0.85      0.92      0.88        66\n",
            "           1       0.84      0.71      0.77        38\n",
            "\n",
            "    accuracy                           0.85       104\n",
            "   macro avg       0.85      0.82      0.83       104\n",
            "weighted avg       0.85      0.85      0.84       104\n",
            "\n"
          ]
        }
      ]
    },
    {
      "cell_type": "markdown",
      "source": [
        "**XG boost**"
      ],
      "metadata": {
        "id": "f-Bk5XP0X343"
      }
    },
    {
      "cell_type": "code",
      "source": [
        "xgb=XGBClassifier()\n",
        "xgb.fit(X_train,y_train)\n",
        "y_pred7=xgb.predict(X_test)\n",
        "print(classification_report(y_test,y_pred7))"
      ],
      "metadata": {
        "colab": {
          "base_uri": "https://localhost:8080/"
        },
        "id": "0MslMLQaX0pD",
        "outputId": "06b8cd7d-3703-4d29-98e0-0547b3ce5da7"
      },
      "execution_count": 212,
      "outputs": [
        {
          "output_type": "stream",
          "name": "stdout",
          "text": [
            "              precision    recall  f1-score   support\n",
            "\n",
            "           0       0.85      0.83      0.84        66\n",
            "           1       0.72      0.74      0.73        38\n",
            "\n",
            "    accuracy                           0.80       104\n",
            "   macro avg       0.78      0.79      0.78       104\n",
            "weighted avg       0.80      0.80      0.80       104\n",
            "\n"
          ]
        }
      ]
    },
    {
      "cell_type": "markdown",
      "source": [
        "**Xg Boost Hypertuning**"
      ],
      "metadata": {
        "id": "y1JnLlIyX88Y"
      }
    },
    {
      "cell_type": "code",
      "source": [
        "parameters = {'max_depth': [3, 5, 7],'learning_rate': [0.1, 0.5, 1.0],'n_estimators': [50, 100, 200],'subsample': [0.5, 0.8, 1.0],'colsample_bytree': [0.5, 0.8, 1.0]}\n",
        "clf=GridSearchCV(xgb,parameters,cv=10,scoring='accuracy')\n",
        "clf.fit(X_train,y_train)"
      ],
      "metadata": {
        "colab": {
          "base_uri": "https://localhost:8080/",
          "height": 118
        },
        "id": "L81q_YTjX7my",
        "outputId": "a7300142-5301-400b-be60-9f1c0de7041e"
      },
      "execution_count": 213,
      "outputs": [
        {
          "output_type": "execute_result",
          "data": {
            "text/plain": [
              "GridSearchCV(cv=10,\n",
              "             estimator=XGBClassifier(base_score=None, booster=None,\n",
              "                                     callbacks=None, colsample_bylevel=None,\n",
              "                                     colsample_bynode=None,\n",
              "                                     colsample_bytree=None,\n",
              "                                     early_stopping_rounds=None,\n",
              "                                     enable_categorical=False, eval_metric=None,\n",
              "                                     feature_types=None, gamma=None,\n",
              "                                     gpu_id=None, grow_policy=None,\n",
              "                                     importance_type=None,\n",
              "                                     interaction_constraints=None,\n",
              "                                     learning_rate=None...\n",
              "                                     max_delta_step=None, max_depth=None,\n",
              "                                     max_leaves=None, min_child_weight=None,\n",
              "                                     missing=nan, monotone_constraints=None,\n",
              "                                     n_estimators=100, n_jobs=None,\n",
              "                                     num_parallel_tree=None, predictor=None,\n",
              "                                     random_state=None, ...),\n",
              "             param_grid={'colsample_bytree': [0.5, 0.8, 1.0],\n",
              "                         'learning_rate': [0.1, 0.5, 1.0],\n",
              "                         'max_depth': [3, 5, 7], 'n_estimators': [50, 100, 200],\n",
              "                         'subsample': [0.5, 0.8, 1.0]},\n",
              "             scoring='accuracy')"
            ],
            "text/html": [
              "<style>#sk-container-id-14 {color: black;background-color: white;}#sk-container-id-14 pre{padding: 0;}#sk-container-id-14 div.sk-toggleable {background-color: white;}#sk-container-id-14 label.sk-toggleable__label {cursor: pointer;display: block;width: 100%;margin-bottom: 0;padding: 0.3em;box-sizing: border-box;text-align: center;}#sk-container-id-14 label.sk-toggleable__label-arrow:before {content: \"▸\";float: left;margin-right: 0.25em;color: #696969;}#sk-container-id-14 label.sk-toggleable__label-arrow:hover:before {color: black;}#sk-container-id-14 div.sk-estimator:hover label.sk-toggleable__label-arrow:before {color: black;}#sk-container-id-14 div.sk-toggleable__content {max-height: 0;max-width: 0;overflow: hidden;text-align: left;background-color: #f0f8ff;}#sk-container-id-14 div.sk-toggleable__content pre {margin: 0.2em;color: black;border-radius: 0.25em;background-color: #f0f8ff;}#sk-container-id-14 input.sk-toggleable__control:checked~div.sk-toggleable__content {max-height: 200px;max-width: 100%;overflow: auto;}#sk-container-id-14 input.sk-toggleable__control:checked~label.sk-toggleable__label-arrow:before {content: \"▾\";}#sk-container-id-14 div.sk-estimator input.sk-toggleable__control:checked~label.sk-toggleable__label {background-color: #d4ebff;}#sk-container-id-14 div.sk-label input.sk-toggleable__control:checked~label.sk-toggleable__label {background-color: #d4ebff;}#sk-container-id-14 input.sk-hidden--visually {border: 0;clip: rect(1px 1px 1px 1px);clip: rect(1px, 1px, 1px, 1px);height: 1px;margin: -1px;overflow: hidden;padding: 0;position: absolute;width: 1px;}#sk-container-id-14 div.sk-estimator {font-family: monospace;background-color: #f0f8ff;border: 1px dotted black;border-radius: 0.25em;box-sizing: border-box;margin-bottom: 0.5em;}#sk-container-id-14 div.sk-estimator:hover {background-color: #d4ebff;}#sk-container-id-14 div.sk-parallel-item::after {content: \"\";width: 100%;border-bottom: 1px solid gray;flex-grow: 1;}#sk-container-id-14 div.sk-label:hover label.sk-toggleable__label {background-color: #d4ebff;}#sk-container-id-14 div.sk-serial::before {content: \"\";position: absolute;border-left: 1px solid gray;box-sizing: border-box;top: 0;bottom: 0;left: 50%;z-index: 0;}#sk-container-id-14 div.sk-serial {display: flex;flex-direction: column;align-items: center;background-color: white;padding-right: 0.2em;padding-left: 0.2em;position: relative;}#sk-container-id-14 div.sk-item {position: relative;z-index: 1;}#sk-container-id-14 div.sk-parallel {display: flex;align-items: stretch;justify-content: center;background-color: white;position: relative;}#sk-container-id-14 div.sk-item::before, #sk-container-id-14 div.sk-parallel-item::before {content: \"\";position: absolute;border-left: 1px solid gray;box-sizing: border-box;top: 0;bottom: 0;left: 50%;z-index: -1;}#sk-container-id-14 div.sk-parallel-item {display: flex;flex-direction: column;z-index: 1;position: relative;background-color: white;}#sk-container-id-14 div.sk-parallel-item:first-child::after {align-self: flex-end;width: 50%;}#sk-container-id-14 div.sk-parallel-item:last-child::after {align-self: flex-start;width: 50%;}#sk-container-id-14 div.sk-parallel-item:only-child::after {width: 0;}#sk-container-id-14 div.sk-dashed-wrapped {border: 1px dashed gray;margin: 0 0.4em 0.5em 0.4em;box-sizing: border-box;padding-bottom: 0.4em;background-color: white;}#sk-container-id-14 div.sk-label label {font-family: monospace;font-weight: bold;display: inline-block;line-height: 1.2em;}#sk-container-id-14 div.sk-label-container {text-align: center;}#sk-container-id-14 div.sk-container {/* jupyter's `normalize.less` sets `[hidden] { display: none; }` but bootstrap.min.css set `[hidden] { display: none !important; }` so we also need the `!important` here to be able to override the default hidden behavior on the sphinx rendered scikit-learn.org. See: https://github.com/scikit-learn/scikit-learn/issues/21755 */display: inline-block !important;position: relative;}#sk-container-id-14 div.sk-text-repr-fallback {display: none;}</style><div id=\"sk-container-id-14\" class=\"sk-top-container\"><div class=\"sk-text-repr-fallback\"><pre>GridSearchCV(cv=10,\n",
              "             estimator=XGBClassifier(base_score=None, booster=None,\n",
              "                                     callbacks=None, colsample_bylevel=None,\n",
              "                                     colsample_bynode=None,\n",
              "                                     colsample_bytree=None,\n",
              "                                     early_stopping_rounds=None,\n",
              "                                     enable_categorical=False, eval_metric=None,\n",
              "                                     feature_types=None, gamma=None,\n",
              "                                     gpu_id=None, grow_policy=None,\n",
              "                                     importance_type=None,\n",
              "                                     interaction_constraints=None,\n",
              "                                     learning_rate=None...\n",
              "                                     max_delta_step=None, max_depth=None,\n",
              "                                     max_leaves=None, min_child_weight=None,\n",
              "                                     missing=nan, monotone_constraints=None,\n",
              "                                     n_estimators=100, n_jobs=None,\n",
              "                                     num_parallel_tree=None, predictor=None,\n",
              "                                     random_state=None, ...),\n",
              "             param_grid={&#x27;colsample_bytree&#x27;: [0.5, 0.8, 1.0],\n",
              "                         &#x27;learning_rate&#x27;: [0.1, 0.5, 1.0],\n",
              "                         &#x27;max_depth&#x27;: [3, 5, 7], &#x27;n_estimators&#x27;: [50, 100, 200],\n",
              "                         &#x27;subsample&#x27;: [0.5, 0.8, 1.0]},\n",
              "             scoring=&#x27;accuracy&#x27;)</pre><b>In a Jupyter environment, please rerun this cell to show the HTML representation or trust the notebook. <br />On GitHub, the HTML representation is unable to render, please try loading this page with nbviewer.org.</b></div><div class=\"sk-container\" hidden><div class=\"sk-item sk-dashed-wrapped\"><div class=\"sk-label-container\"><div class=\"sk-label sk-toggleable\"><input class=\"sk-toggleable__control sk-hidden--visually\" id=\"sk-estimator-id-40\" type=\"checkbox\" ><label for=\"sk-estimator-id-40\" class=\"sk-toggleable__label sk-toggleable__label-arrow\">GridSearchCV</label><div class=\"sk-toggleable__content\"><pre>GridSearchCV(cv=10,\n",
              "             estimator=XGBClassifier(base_score=None, booster=None,\n",
              "                                     callbacks=None, colsample_bylevel=None,\n",
              "                                     colsample_bynode=None,\n",
              "                                     colsample_bytree=None,\n",
              "                                     early_stopping_rounds=None,\n",
              "                                     enable_categorical=False, eval_metric=None,\n",
              "                                     feature_types=None, gamma=None,\n",
              "                                     gpu_id=None, grow_policy=None,\n",
              "                                     importance_type=None,\n",
              "                                     interaction_constraints=None,\n",
              "                                     learning_rate=None...\n",
              "                                     max_delta_step=None, max_depth=None,\n",
              "                                     max_leaves=None, min_child_weight=None,\n",
              "                                     missing=nan, monotone_constraints=None,\n",
              "                                     n_estimators=100, n_jobs=None,\n",
              "                                     num_parallel_tree=None, predictor=None,\n",
              "                                     random_state=None, ...),\n",
              "             param_grid={&#x27;colsample_bytree&#x27;: [0.5, 0.8, 1.0],\n",
              "                         &#x27;learning_rate&#x27;: [0.1, 0.5, 1.0],\n",
              "                         &#x27;max_depth&#x27;: [3, 5, 7], &#x27;n_estimators&#x27;: [50, 100, 200],\n",
              "                         &#x27;subsample&#x27;: [0.5, 0.8, 1.0]},\n",
              "             scoring=&#x27;accuracy&#x27;)</pre></div></div></div><div class=\"sk-parallel\"><div class=\"sk-parallel-item\"><div class=\"sk-item\"><div class=\"sk-label-container\"><div class=\"sk-label sk-toggleable\"><input class=\"sk-toggleable__control sk-hidden--visually\" id=\"sk-estimator-id-41\" type=\"checkbox\" ><label for=\"sk-estimator-id-41\" class=\"sk-toggleable__label sk-toggleable__label-arrow\">estimator: XGBClassifier</label><div class=\"sk-toggleable__content\"><pre>XGBClassifier(base_score=None, booster=None, callbacks=None,\n",
              "              colsample_bylevel=None, colsample_bynode=None,\n",
              "              colsample_bytree=None, early_stopping_rounds=None,\n",
              "              enable_categorical=False, eval_metric=None, feature_types=None,\n",
              "              gamma=None, gpu_id=None, grow_policy=None, importance_type=None,\n",
              "              interaction_constraints=None, learning_rate=None, max_bin=None,\n",
              "              max_cat_threshold=None, max_cat_to_onehot=None,\n",
              "              max_delta_step=None, max_depth=None, max_leaves=None,\n",
              "              min_child_weight=None, missing=nan, monotone_constraints=None,\n",
              "              n_estimators=100, n_jobs=None, num_parallel_tree=None,\n",
              "              predictor=None, random_state=None, ...)</pre></div></div></div><div class=\"sk-serial\"><div class=\"sk-item\"><div class=\"sk-estimator sk-toggleable\"><input class=\"sk-toggleable__control sk-hidden--visually\" id=\"sk-estimator-id-42\" type=\"checkbox\" ><label for=\"sk-estimator-id-42\" class=\"sk-toggleable__label sk-toggleable__label-arrow\">XGBClassifier</label><div class=\"sk-toggleable__content\"><pre>XGBClassifier(base_score=None, booster=None, callbacks=None,\n",
              "              colsample_bylevel=None, colsample_bynode=None,\n",
              "              colsample_bytree=None, early_stopping_rounds=None,\n",
              "              enable_categorical=False, eval_metric=None, feature_types=None,\n",
              "              gamma=None, gpu_id=None, grow_policy=None, importance_type=None,\n",
              "              interaction_constraints=None, learning_rate=None, max_bin=None,\n",
              "              max_cat_threshold=None, max_cat_to_onehot=None,\n",
              "              max_delta_step=None, max_depth=None, max_leaves=None,\n",
              "              min_child_weight=None, missing=nan, monotone_constraints=None,\n",
              "              n_estimators=100, n_jobs=None, num_parallel_tree=None,\n",
              "              predictor=None, random_state=None, ...)</pre></div></div></div></div></div></div></div></div></div></div>"
            ]
          },
          "metadata": {},
          "execution_count": 213
        }
      ]
    },
    {
      "cell_type": "code",
      "source": [
        "print(clf.best_params_)"
      ],
      "metadata": {
        "colab": {
          "base_uri": "https://localhost:8080/"
        },
        "id": "dx1SszMXYkoB",
        "outputId": "93f28bc2-87c2-4dc2-8611-6ab05e6ced12"
      },
      "execution_count": 214,
      "outputs": [
        {
          "output_type": "stream",
          "name": "stdout",
          "text": [
            "{'colsample_bytree': 0.8, 'learning_rate': 0.1, 'max_depth': 3, 'n_estimators': 50, 'subsample': 1.0}\n"
          ]
        }
      ]
    },
    {
      "cell_type": "code",
      "source": [
        "xgb1=XGBClassifier(colsample_bytree=0.8,learning_rate=0.1,max_depth=3,n_estimators=50,subsample=1.0)\n",
        "xgb1.fit(X_train,y_train)\n",
        "y_predx=xgb1.predict(X_test)\n",
        "print(classification_report(y_test,y_predx))"
      ],
      "metadata": {
        "colab": {
          "base_uri": "https://localhost:8080/"
        },
        "id": "bE1DgJcEYnx5",
        "outputId": "60da5de1-a859-4c04-adfb-92933e6b6878"
      },
      "execution_count": 215,
      "outputs": [
        {
          "output_type": "stream",
          "name": "stdout",
          "text": [
            "              precision    recall  f1-score   support\n",
            "\n",
            "           0       0.84      0.89      0.87        66\n",
            "           1       0.79      0.71      0.75        38\n",
            "\n",
            "    accuracy                           0.83       104\n",
            "   macro avg       0.82      0.80      0.81       104\n",
            "weighted avg       0.83      0.83      0.82       104\n",
            "\n"
          ]
        }
      ]
    },
    {
      "cell_type": "markdown",
      "source": [
        "Here we can observe that Decision Tree & Adaboost gives the highest accuracy after hypertuning which is 86%"
      ],
      "metadata": {
        "id": "MbDkJkGVYucO"
      }
    },
    {
      "cell_type": "markdown",
      "source": [
        "**Clustering using K-Means**"
      ],
      "metadata": {
        "id": "fc6KaFiXaSMM"
      }
    },
    {
      "cell_type": "code",
      "source": [
        "df1"
      ],
      "metadata": {
        "colab": {
          "base_uri": "https://localhost:8080/",
          "height": 714
        },
        "id": "QFrx2TJHYq-2",
        "outputId": "4218a86c-80a1-4443-ea86-ba98a69759c4"
      },
      "execution_count": 216,
      "outputs": [
        {
          "output_type": "execute_result",
          "data": {
            "text/plain": [
              "       Age  Gender spotify_usage_period  \\\n",
              "0    20-35  Female    More than 2 years   \n",
              "1    12-20    Male    More than 2 years   \n",
              "2    35-60  Others   6 months to 1 year   \n",
              "3    20-35  Female    1 year to 2 years   \n",
              "4    20-35  Female    1 year to 2 years   \n",
              "..     ...     ...                  ...   \n",
              "515  20-35  Female    More than 2 years   \n",
              "516  20-35  Female    More than 2 years   \n",
              "517  20-35  Female    More than 2 years   \n",
              "518  20-35  Female   6 months to 1 year   \n",
              "519  20-35  Female    More than 2 years   \n",
              "\n",
              "                             spotify_listening_device  \\\n",
              "0                  Smart speakers or voice assistants   \n",
              "1                                  Computer or laptop   \n",
              "2                  Smart speakers or voice assistants   \n",
              "3      Smartphone, Smart speakers or voice assistants   \n",
              "4                                          Smartphone   \n",
              "..                                                ...   \n",
              "515  Smartphone, Computer or laptop, Wearable devices   \n",
              "516                    Smartphone, Computer or laptop   \n",
              "517                                        Smartphone   \n",
              "518                                        Smartphone   \n",
              "519                    Smartphone, Computer or laptop   \n",
              "\n",
              "       spotify_subscription_plan premium_sub_willingness  \\\n",
              "0            Free (ad-supported)                     Yes   \n",
              "1            Free (ad-supported)                     Yes   \n",
              "2            Free (ad-supported)                     Yes   \n",
              "3            Free (ad-supported)                      No   \n",
              "4            Free (ad-supported)                      No   \n",
              "..                           ...                     ...   \n",
              "515          Free (ad-supported)                     Yes   \n",
              "516          Free (ad-supported)                     Yes   \n",
              "517          Free (ad-supported)                      No   \n",
              "518  Premium (paid subscription)                     Yes   \n",
              "519  Premium (paid subscription)                     Yes   \n",
              "\n",
              "             preffered_premium_plan preferred_listening_content  \\\n",
              "0          Family Plan-Rs 179/month                     Podcast   \n",
              "1    Individual Plan- Rs 119/ month                     Podcast   \n",
              "2          Student Plan-Rs 59/month                     Podcast   \n",
              "3                              None                       Music   \n",
              "4                              None                       Music   \n",
              "..                              ...                         ...   \n",
              "515        Student Plan-Rs 59/month                       Music   \n",
              "516        Student Plan-Rs 59/month                       Music   \n",
              "517        Student Plan-Rs 59/month                       Music   \n",
              "518  Individual Plan- Rs 119/ month                       Music   \n",
              "519        Student Plan-Rs 59/month                       Music   \n",
              "\n",
              "    fav_music_genre music_time_slot  \\\n",
              "0            Melody           Night   \n",
              "1               Rap       Afternoon   \n",
              "2               Pop           Night   \n",
              "3            Melody           Night   \n",
              "4            Melody           Night   \n",
              "..              ...             ...   \n",
              "515             Pop         Morning   \n",
              "516             Pop           Night   \n",
              "517             Pop           Night   \n",
              "518          Melody           Night   \n",
              "519             Pop           Night   \n",
              "\n",
              "                                music_Influencial_mood  \\\n",
              "0                                Sadness or melancholy   \n",
              "1                         Social gatherings or parties   \n",
              "2                         Relaxation and stress relief   \n",
              "3    Relaxation and stress relief, Social gathering...   \n",
              "4                         Relaxation and stress relief   \n",
              "..                                                 ...   \n",
              "515  Uplifting and motivational, Sadness or melancholy   \n",
              "516  Relaxation and stress relief, Uplifting and mo...   \n",
              "517                       Relaxation and stress relief   \n",
              "518  Relaxation and stress relief, Uplifting and mo...   \n",
              "519  Relaxation and stress relief, Sadness or melan...   \n",
              "\n",
              "                                   music_lis_frequency  \\\n",
              "0                                         leisure time   \n",
              "1                                      Workout session   \n",
              "2                         Study Hours, While Traveling   \n",
              "3          Office hours, Workout session, leisure time   \n",
              "4                                         leisure time   \n",
              "..                                                 ...   \n",
              "515                                    While Traveling   \n",
              "516     While Traveling, Workout session, leisure time   \n",
              "517                                       leisure time   \n",
              "518                      Workout session, leisure time   \n",
              "519  Office hours,Study Hours, While Traveling, lei...   \n",
              "\n",
              "              music_expl_method  music_recc_rating     pod_lis_frequency  \\\n",
              "0                     Playlists                  3                 Daily   \n",
              "1                     Playlists                  2  Several times a week   \n",
              "2                     Playlists                  4           Once a week   \n",
              "3    recommendations, Playlists                  4                 Never   \n",
              "4    recommendations, Playlists                  4                Rarely   \n",
              "..                          ...                ...                   ...   \n",
              "515             recommendations                  5                Rarely   \n",
              "516                      Others                  2                Rarely   \n",
              "517             recommendations                  3                 Never   \n",
              "518     recommendations, Others                  2  Several times a week   \n",
              "519            Playlists, Radio                  3                 Never   \n",
              "\n",
              "            fav_pod_genre preffered_pod_format     pod_host_preference  \\\n",
              "0                  Comedy            Interview                    Both   \n",
              "1                  Comedy            Interview                    Both   \n",
              "2                  Sports            Interview                    None   \n",
              "3                    None                 None                    None   \n",
              "4    Lifestyle and Health        Story telling  Well known individuals   \n",
              "..                    ...                  ...                     ...   \n",
              "515  Lifestyle and Health       Conversational                    Both   \n",
              "516                Comedy        Story telling                    Both   \n",
              "517                  None        Story telling                    Both   \n",
              "518                Comedy       Conversational                    Both   \n",
              "519                  None                 None                    None   \n",
              "\n",
              "    preffered_pod_duration pod_variety_satisfaction  \n",
              "0                     Both                       Ok  \n",
              "1                     None                Satisfied  \n",
              "2                     Both                Satisfied  \n",
              "3                     None                       Ok  \n",
              "4                     Both                       Ok  \n",
              "..                     ...                      ...  \n",
              "515                Shorter                       Ok  \n",
              "516                Shorter                       Ok  \n",
              "517                Shorter                       Ok  \n",
              "518                 Longer                Satisfied  \n",
              "519                   None                       Ok  \n",
              "\n",
              "[520 rows x 20 columns]"
            ],
            "text/html": [
              "\n",
              "\n",
              "  <div id=\"df-a361501c-e1ec-4b72-a43b-95830ba5c3a6\">\n",
              "    <div class=\"colab-df-container\">\n",
              "      <div>\n",
              "<style scoped>\n",
              "    .dataframe tbody tr th:only-of-type {\n",
              "        vertical-align: middle;\n",
              "    }\n",
              "\n",
              "    .dataframe tbody tr th {\n",
              "        vertical-align: top;\n",
              "    }\n",
              "\n",
              "    .dataframe thead th {\n",
              "        text-align: right;\n",
              "    }\n",
              "</style>\n",
              "<table border=\"1\" class=\"dataframe\">\n",
              "  <thead>\n",
              "    <tr style=\"text-align: right;\">\n",
              "      <th></th>\n",
              "      <th>Age</th>\n",
              "      <th>Gender</th>\n",
              "      <th>spotify_usage_period</th>\n",
              "      <th>spotify_listening_device</th>\n",
              "      <th>spotify_subscription_plan</th>\n",
              "      <th>premium_sub_willingness</th>\n",
              "      <th>preffered_premium_plan</th>\n",
              "      <th>preferred_listening_content</th>\n",
              "      <th>fav_music_genre</th>\n",
              "      <th>music_time_slot</th>\n",
              "      <th>music_Influencial_mood</th>\n",
              "      <th>music_lis_frequency</th>\n",
              "      <th>music_expl_method</th>\n",
              "      <th>music_recc_rating</th>\n",
              "      <th>pod_lis_frequency</th>\n",
              "      <th>fav_pod_genre</th>\n",
              "      <th>preffered_pod_format</th>\n",
              "      <th>pod_host_preference</th>\n",
              "      <th>preffered_pod_duration</th>\n",
              "      <th>pod_variety_satisfaction</th>\n",
              "    </tr>\n",
              "  </thead>\n",
              "  <tbody>\n",
              "    <tr>\n",
              "      <th>0</th>\n",
              "      <td>20-35</td>\n",
              "      <td>Female</td>\n",
              "      <td>More than 2 years</td>\n",
              "      <td>Smart speakers or voice assistants</td>\n",
              "      <td>Free (ad-supported)</td>\n",
              "      <td>Yes</td>\n",
              "      <td>Family Plan-Rs 179/month</td>\n",
              "      <td>Podcast</td>\n",
              "      <td>Melody</td>\n",
              "      <td>Night</td>\n",
              "      <td>Sadness or melancholy</td>\n",
              "      <td>leisure time</td>\n",
              "      <td>Playlists</td>\n",
              "      <td>3</td>\n",
              "      <td>Daily</td>\n",
              "      <td>Comedy</td>\n",
              "      <td>Interview</td>\n",
              "      <td>Both</td>\n",
              "      <td>Both</td>\n",
              "      <td>Ok</td>\n",
              "    </tr>\n",
              "    <tr>\n",
              "      <th>1</th>\n",
              "      <td>12-20</td>\n",
              "      <td>Male</td>\n",
              "      <td>More than 2 years</td>\n",
              "      <td>Computer or laptop</td>\n",
              "      <td>Free (ad-supported)</td>\n",
              "      <td>Yes</td>\n",
              "      <td>Individual Plan- Rs 119/ month</td>\n",
              "      <td>Podcast</td>\n",
              "      <td>Rap</td>\n",
              "      <td>Afternoon</td>\n",
              "      <td>Social gatherings or parties</td>\n",
              "      <td>Workout session</td>\n",
              "      <td>Playlists</td>\n",
              "      <td>2</td>\n",
              "      <td>Several times a week</td>\n",
              "      <td>Comedy</td>\n",
              "      <td>Interview</td>\n",
              "      <td>Both</td>\n",
              "      <td>None</td>\n",
              "      <td>Satisfied</td>\n",
              "    </tr>\n",
              "    <tr>\n",
              "      <th>2</th>\n",
              "      <td>35-60</td>\n",
              "      <td>Others</td>\n",
              "      <td>6 months to 1 year</td>\n",
              "      <td>Smart speakers or voice assistants</td>\n",
              "      <td>Free (ad-supported)</td>\n",
              "      <td>Yes</td>\n",
              "      <td>Student Plan-Rs 59/month</td>\n",
              "      <td>Podcast</td>\n",
              "      <td>Pop</td>\n",
              "      <td>Night</td>\n",
              "      <td>Relaxation and stress relief</td>\n",
              "      <td>Study Hours, While Traveling</td>\n",
              "      <td>Playlists</td>\n",
              "      <td>4</td>\n",
              "      <td>Once a week</td>\n",
              "      <td>Sports</td>\n",
              "      <td>Interview</td>\n",
              "      <td>None</td>\n",
              "      <td>Both</td>\n",
              "      <td>Satisfied</td>\n",
              "    </tr>\n",
              "    <tr>\n",
              "      <th>3</th>\n",
              "      <td>20-35</td>\n",
              "      <td>Female</td>\n",
              "      <td>1 year to 2 years</td>\n",
              "      <td>Smartphone, Smart speakers or voice assistants</td>\n",
              "      <td>Free (ad-supported)</td>\n",
              "      <td>No</td>\n",
              "      <td>None</td>\n",
              "      <td>Music</td>\n",
              "      <td>Melody</td>\n",
              "      <td>Night</td>\n",
              "      <td>Relaxation and stress relief, Social gathering...</td>\n",
              "      <td>Office hours, Workout session, leisure time</td>\n",
              "      <td>recommendations, Playlists</td>\n",
              "      <td>4</td>\n",
              "      <td>Never</td>\n",
              "      <td>None</td>\n",
              "      <td>None</td>\n",
              "      <td>None</td>\n",
              "      <td>None</td>\n",
              "      <td>Ok</td>\n",
              "    </tr>\n",
              "    <tr>\n",
              "      <th>4</th>\n",
              "      <td>20-35</td>\n",
              "      <td>Female</td>\n",
              "      <td>1 year to 2 years</td>\n",
              "      <td>Smartphone</td>\n",
              "      <td>Free (ad-supported)</td>\n",
              "      <td>No</td>\n",
              "      <td>None</td>\n",
              "      <td>Music</td>\n",
              "      <td>Melody</td>\n",
              "      <td>Night</td>\n",
              "      <td>Relaxation and stress relief</td>\n",
              "      <td>leisure time</td>\n",
              "      <td>recommendations, Playlists</td>\n",
              "      <td>4</td>\n",
              "      <td>Rarely</td>\n",
              "      <td>Lifestyle and Health</td>\n",
              "      <td>Story telling</td>\n",
              "      <td>Well known individuals</td>\n",
              "      <td>Both</td>\n",
              "      <td>Ok</td>\n",
              "    </tr>\n",
              "    <tr>\n",
              "      <th>...</th>\n",
              "      <td>...</td>\n",
              "      <td>...</td>\n",
              "      <td>...</td>\n",
              "      <td>...</td>\n",
              "      <td>...</td>\n",
              "      <td>...</td>\n",
              "      <td>...</td>\n",
              "      <td>...</td>\n",
              "      <td>...</td>\n",
              "      <td>...</td>\n",
              "      <td>...</td>\n",
              "      <td>...</td>\n",
              "      <td>...</td>\n",
              "      <td>...</td>\n",
              "      <td>...</td>\n",
              "      <td>...</td>\n",
              "      <td>...</td>\n",
              "      <td>...</td>\n",
              "      <td>...</td>\n",
              "      <td>...</td>\n",
              "    </tr>\n",
              "    <tr>\n",
              "      <th>515</th>\n",
              "      <td>20-35</td>\n",
              "      <td>Female</td>\n",
              "      <td>More than 2 years</td>\n",
              "      <td>Smartphone, Computer or laptop, Wearable devices</td>\n",
              "      <td>Free (ad-supported)</td>\n",
              "      <td>Yes</td>\n",
              "      <td>Student Plan-Rs 59/month</td>\n",
              "      <td>Music</td>\n",
              "      <td>Pop</td>\n",
              "      <td>Morning</td>\n",
              "      <td>Uplifting and motivational, Sadness or melancholy</td>\n",
              "      <td>While Traveling</td>\n",
              "      <td>recommendations</td>\n",
              "      <td>5</td>\n",
              "      <td>Rarely</td>\n",
              "      <td>Lifestyle and Health</td>\n",
              "      <td>Conversational</td>\n",
              "      <td>Both</td>\n",
              "      <td>Shorter</td>\n",
              "      <td>Ok</td>\n",
              "    </tr>\n",
              "    <tr>\n",
              "      <th>516</th>\n",
              "      <td>20-35</td>\n",
              "      <td>Female</td>\n",
              "      <td>More than 2 years</td>\n",
              "      <td>Smartphone, Computer or laptop</td>\n",
              "      <td>Free (ad-supported)</td>\n",
              "      <td>Yes</td>\n",
              "      <td>Student Plan-Rs 59/month</td>\n",
              "      <td>Music</td>\n",
              "      <td>Pop</td>\n",
              "      <td>Night</td>\n",
              "      <td>Relaxation and stress relief, Uplifting and mo...</td>\n",
              "      <td>While Traveling, Workout session, leisure time</td>\n",
              "      <td>Others</td>\n",
              "      <td>2</td>\n",
              "      <td>Rarely</td>\n",
              "      <td>Comedy</td>\n",
              "      <td>Story telling</td>\n",
              "      <td>Both</td>\n",
              "      <td>Shorter</td>\n",
              "      <td>Ok</td>\n",
              "    </tr>\n",
              "    <tr>\n",
              "      <th>517</th>\n",
              "      <td>20-35</td>\n",
              "      <td>Female</td>\n",
              "      <td>More than 2 years</td>\n",
              "      <td>Smartphone</td>\n",
              "      <td>Free (ad-supported)</td>\n",
              "      <td>No</td>\n",
              "      <td>Student Plan-Rs 59/month</td>\n",
              "      <td>Music</td>\n",
              "      <td>Pop</td>\n",
              "      <td>Night</td>\n",
              "      <td>Relaxation and stress relief</td>\n",
              "      <td>leisure time</td>\n",
              "      <td>recommendations</td>\n",
              "      <td>3</td>\n",
              "      <td>Never</td>\n",
              "      <td>None</td>\n",
              "      <td>Story telling</td>\n",
              "      <td>Both</td>\n",
              "      <td>Shorter</td>\n",
              "      <td>Ok</td>\n",
              "    </tr>\n",
              "    <tr>\n",
              "      <th>518</th>\n",
              "      <td>20-35</td>\n",
              "      <td>Female</td>\n",
              "      <td>6 months to 1 year</td>\n",
              "      <td>Smartphone</td>\n",
              "      <td>Premium (paid subscription)</td>\n",
              "      <td>Yes</td>\n",
              "      <td>Individual Plan- Rs 119/ month</td>\n",
              "      <td>Music</td>\n",
              "      <td>Melody</td>\n",
              "      <td>Night</td>\n",
              "      <td>Relaxation and stress relief, Uplifting and mo...</td>\n",
              "      <td>Workout session, leisure time</td>\n",
              "      <td>recommendations, Others</td>\n",
              "      <td>2</td>\n",
              "      <td>Several times a week</td>\n",
              "      <td>Comedy</td>\n",
              "      <td>Conversational</td>\n",
              "      <td>Both</td>\n",
              "      <td>Longer</td>\n",
              "      <td>Satisfied</td>\n",
              "    </tr>\n",
              "    <tr>\n",
              "      <th>519</th>\n",
              "      <td>20-35</td>\n",
              "      <td>Female</td>\n",
              "      <td>More than 2 years</td>\n",
              "      <td>Smartphone, Computer or laptop</td>\n",
              "      <td>Premium (paid subscription)</td>\n",
              "      <td>Yes</td>\n",
              "      <td>Student Plan-Rs 59/month</td>\n",
              "      <td>Music</td>\n",
              "      <td>Pop</td>\n",
              "      <td>Night</td>\n",
              "      <td>Relaxation and stress relief, Sadness or melan...</td>\n",
              "      <td>Office hours,Study Hours, While Traveling, lei...</td>\n",
              "      <td>Playlists, Radio</td>\n",
              "      <td>3</td>\n",
              "      <td>Never</td>\n",
              "      <td>None</td>\n",
              "      <td>None</td>\n",
              "      <td>None</td>\n",
              "      <td>None</td>\n",
              "      <td>Ok</td>\n",
              "    </tr>\n",
              "  </tbody>\n",
              "</table>\n",
              "<p>520 rows × 20 columns</p>\n",
              "</div>\n",
              "      <button class=\"colab-df-convert\" onclick=\"convertToInteractive('df-a361501c-e1ec-4b72-a43b-95830ba5c3a6')\"\n",
              "              title=\"Convert this dataframe to an interactive table.\"\n",
              "              style=\"display:none;\">\n",
              "\n",
              "  <svg xmlns=\"http://www.w3.org/2000/svg\" height=\"24px\"viewBox=\"0 0 24 24\"\n",
              "       width=\"24px\">\n",
              "    <path d=\"M0 0h24v24H0V0z\" fill=\"none\"/>\n",
              "    <path d=\"M18.56 5.44l.94 2.06.94-2.06 2.06-.94-2.06-.94-.94-2.06-.94 2.06-2.06.94zm-11 1L8.5 8.5l.94-2.06 2.06-.94-2.06-.94L8.5 2.5l-.94 2.06-2.06.94zm10 10l.94 2.06.94-2.06 2.06-.94-2.06-.94-.94-2.06-.94 2.06-2.06.94z\"/><path d=\"M17.41 7.96l-1.37-1.37c-.4-.4-.92-.59-1.43-.59-.52 0-1.04.2-1.43.59L10.3 9.45l-7.72 7.72c-.78.78-.78 2.05 0 2.83L4 21.41c.39.39.9.59 1.41.59.51 0 1.02-.2 1.41-.59l7.78-7.78 2.81-2.81c.8-.78.8-2.07 0-2.86zM5.41 20L4 18.59l7.72-7.72 1.47 1.35L5.41 20z\"/>\n",
              "  </svg>\n",
              "      </button>\n",
              "\n",
              "\n",
              "\n",
              "    <div id=\"df-de4d874c-292b-48b8-8286-a7e7c6369eb1\">\n",
              "      <button class=\"colab-df-quickchart\" onclick=\"quickchart('df-de4d874c-292b-48b8-8286-a7e7c6369eb1')\"\n",
              "              title=\"Suggest charts.\"\n",
              "              style=\"display:none;\">\n",
              "\n",
              "<svg xmlns=\"http://www.w3.org/2000/svg\" height=\"24px\"viewBox=\"0 0 24 24\"\n",
              "     width=\"24px\">\n",
              "    <g>\n",
              "        <path d=\"M19 3H5c-1.1 0-2 .9-2 2v14c0 1.1.9 2 2 2h14c1.1 0 2-.9 2-2V5c0-1.1-.9-2-2-2zM9 17H7v-7h2v7zm4 0h-2V7h2v10zm4 0h-2v-4h2v4z\"/>\n",
              "    </g>\n",
              "</svg>\n",
              "      </button>\n",
              "    </div>\n",
              "\n",
              "<style>\n",
              "  .colab-df-quickchart {\n",
              "    background-color: #E8F0FE;\n",
              "    border: none;\n",
              "    border-radius: 50%;\n",
              "    cursor: pointer;\n",
              "    display: none;\n",
              "    fill: #1967D2;\n",
              "    height: 32px;\n",
              "    padding: 0 0 0 0;\n",
              "    width: 32px;\n",
              "  }\n",
              "\n",
              "  .colab-df-quickchart:hover {\n",
              "    background-color: #E2EBFA;\n",
              "    box-shadow: 0px 1px 2px rgba(60, 64, 67, 0.3), 0px 1px 3px 1px rgba(60, 64, 67, 0.15);\n",
              "    fill: #174EA6;\n",
              "  }\n",
              "\n",
              "  [theme=dark] .colab-df-quickchart {\n",
              "    background-color: #3B4455;\n",
              "    fill: #D2E3FC;\n",
              "  }\n",
              "\n",
              "  [theme=dark] .colab-df-quickchart:hover {\n",
              "    background-color: #434B5C;\n",
              "    box-shadow: 0px 1px 3px 1px rgba(0, 0, 0, 0.15);\n",
              "    filter: drop-shadow(0px 1px 2px rgba(0, 0, 0, 0.3));\n",
              "    fill: #FFFFFF;\n",
              "  }\n",
              "</style>\n",
              "\n",
              "    <script>\n",
              "      async function quickchart(key) {\n",
              "        const containerElement = document.querySelector('#' + key);\n",
              "        const charts = await google.colab.kernel.invokeFunction(\n",
              "            'suggestCharts', [key], {});\n",
              "      }\n",
              "    </script>\n",
              "\n",
              "      <script>\n",
              "\n",
              "function displayQuickchartButton(domScope) {\n",
              "  let quickchartButtonEl =\n",
              "    domScope.querySelector('#df-de4d874c-292b-48b8-8286-a7e7c6369eb1 button.colab-df-quickchart');\n",
              "  quickchartButtonEl.style.display =\n",
              "    google.colab.kernel.accessAllowed ? 'block' : 'none';\n",
              "}\n",
              "\n",
              "        displayQuickchartButton(document);\n",
              "      </script>\n",
              "      <style>\n",
              "    .colab-df-container {\n",
              "      display:flex;\n",
              "      flex-wrap:wrap;\n",
              "      gap: 12px;\n",
              "    }\n",
              "\n",
              "    .colab-df-convert {\n",
              "      background-color: #E8F0FE;\n",
              "      border: none;\n",
              "      border-radius: 50%;\n",
              "      cursor: pointer;\n",
              "      display: none;\n",
              "      fill: #1967D2;\n",
              "      height: 32px;\n",
              "      padding: 0 0 0 0;\n",
              "      width: 32px;\n",
              "    }\n",
              "\n",
              "    .colab-df-convert:hover {\n",
              "      background-color: #E2EBFA;\n",
              "      box-shadow: 0px 1px 2px rgba(60, 64, 67, 0.3), 0px 1px 3px 1px rgba(60, 64, 67, 0.15);\n",
              "      fill: #174EA6;\n",
              "    }\n",
              "\n",
              "    [theme=dark] .colab-df-convert {\n",
              "      background-color: #3B4455;\n",
              "      fill: #D2E3FC;\n",
              "    }\n",
              "\n",
              "    [theme=dark] .colab-df-convert:hover {\n",
              "      background-color: #434B5C;\n",
              "      box-shadow: 0px 1px 3px 1px rgba(0, 0, 0, 0.15);\n",
              "      filter: drop-shadow(0px 1px 2px rgba(0, 0, 0, 0.3));\n",
              "      fill: #FFFFFF;\n",
              "    }\n",
              "  </style>\n",
              "\n",
              "      <script>\n",
              "        const buttonEl =\n",
              "          document.querySelector('#df-a361501c-e1ec-4b72-a43b-95830ba5c3a6 button.colab-df-convert');\n",
              "        buttonEl.style.display =\n",
              "          google.colab.kernel.accessAllowed ? 'block' : 'none';\n",
              "\n",
              "        async function convertToInteractive(key) {\n",
              "          const element = document.querySelector('#df-a361501c-e1ec-4b72-a43b-95830ba5c3a6');\n",
              "          const dataTable =\n",
              "            await google.colab.kernel.invokeFunction('convertToInteractive',\n",
              "                                                     [key], {});\n",
              "          if (!dataTable) return;\n",
              "\n",
              "          const docLinkHtml = 'Like what you see? Visit the ' +\n",
              "            '<a target=\"_blank\" href=https://colab.research.google.com/notebooks/data_table.ipynb>data table notebook</a>'\n",
              "            + ' to learn more about interactive tables.';\n",
              "          element.innerHTML = '';\n",
              "          dataTable['output_type'] = 'display_data';\n",
              "          await google.colab.output.renderOutput(dataTable, element);\n",
              "          const docLink = document.createElement('div');\n",
              "          docLink.innerHTML = docLinkHtml;\n",
              "          element.appendChild(docLink);\n",
              "        }\n",
              "      </script>\n",
              "    </div>\n",
              "  </div>\n"
            ]
          },
          "metadata": {},
          "execution_count": 216
        }
      ]
    },
    {
      "cell_type": "code",
      "source": [
        "X=df1.drop(['Age','Gender','music_lis_frequency','fav_music_genre','spotify_usage_period','preffered_premium_plan','spotify_subscription_plan','premium_sub_willingness','music_recc_rating','preferred_listening_content','music_time_slot','music_expl_method','pod_lis_frequency','fav_pod_genre','preffered_pod_format','pod_host_preference','preffered_pod_duration','pod_variety_satisfaction'],axis=1)\n",
        "X"
      ],
      "metadata": {
        "colab": {
          "base_uri": "https://localhost:8080/",
          "height": 424
        },
        "id": "_zEgU1G3aanR",
        "outputId": "50a5c52f-7b4f-4150-d484-2586fd23c8bb"
      },
      "execution_count": 217,
      "outputs": [
        {
          "output_type": "execute_result",
          "data": {
            "text/plain": [
              "                             spotify_listening_device  \\\n",
              "0                  Smart speakers or voice assistants   \n",
              "1                                  Computer or laptop   \n",
              "2                  Smart speakers or voice assistants   \n",
              "3      Smartphone, Smart speakers or voice assistants   \n",
              "4                                          Smartphone   \n",
              "..                                                ...   \n",
              "515  Smartphone, Computer or laptop, Wearable devices   \n",
              "516                    Smartphone, Computer or laptop   \n",
              "517                                        Smartphone   \n",
              "518                                        Smartphone   \n",
              "519                    Smartphone, Computer or laptop   \n",
              "\n",
              "                                music_Influencial_mood  \n",
              "0                                Sadness or melancholy  \n",
              "1                         Social gatherings or parties  \n",
              "2                         Relaxation and stress relief  \n",
              "3    Relaxation and stress relief, Social gathering...  \n",
              "4                         Relaxation and stress relief  \n",
              "..                                                 ...  \n",
              "515  Uplifting and motivational, Sadness or melancholy  \n",
              "516  Relaxation and stress relief, Uplifting and mo...  \n",
              "517                       Relaxation and stress relief  \n",
              "518  Relaxation and stress relief, Uplifting and mo...  \n",
              "519  Relaxation and stress relief, Sadness or melan...  \n",
              "\n",
              "[520 rows x 2 columns]"
            ],
            "text/html": [
              "\n",
              "\n",
              "  <div id=\"df-db43bc84-698b-4d06-a632-58f08cf2228a\">\n",
              "    <div class=\"colab-df-container\">\n",
              "      <div>\n",
              "<style scoped>\n",
              "    .dataframe tbody tr th:only-of-type {\n",
              "        vertical-align: middle;\n",
              "    }\n",
              "\n",
              "    .dataframe tbody tr th {\n",
              "        vertical-align: top;\n",
              "    }\n",
              "\n",
              "    .dataframe thead th {\n",
              "        text-align: right;\n",
              "    }\n",
              "</style>\n",
              "<table border=\"1\" class=\"dataframe\">\n",
              "  <thead>\n",
              "    <tr style=\"text-align: right;\">\n",
              "      <th></th>\n",
              "      <th>spotify_listening_device</th>\n",
              "      <th>music_Influencial_mood</th>\n",
              "    </tr>\n",
              "  </thead>\n",
              "  <tbody>\n",
              "    <tr>\n",
              "      <th>0</th>\n",
              "      <td>Smart speakers or voice assistants</td>\n",
              "      <td>Sadness or melancholy</td>\n",
              "    </tr>\n",
              "    <tr>\n",
              "      <th>1</th>\n",
              "      <td>Computer or laptop</td>\n",
              "      <td>Social gatherings or parties</td>\n",
              "    </tr>\n",
              "    <tr>\n",
              "      <th>2</th>\n",
              "      <td>Smart speakers or voice assistants</td>\n",
              "      <td>Relaxation and stress relief</td>\n",
              "    </tr>\n",
              "    <tr>\n",
              "      <th>3</th>\n",
              "      <td>Smartphone, Smart speakers or voice assistants</td>\n",
              "      <td>Relaxation and stress relief, Social gathering...</td>\n",
              "    </tr>\n",
              "    <tr>\n",
              "      <th>4</th>\n",
              "      <td>Smartphone</td>\n",
              "      <td>Relaxation and stress relief</td>\n",
              "    </tr>\n",
              "    <tr>\n",
              "      <th>...</th>\n",
              "      <td>...</td>\n",
              "      <td>...</td>\n",
              "    </tr>\n",
              "    <tr>\n",
              "      <th>515</th>\n",
              "      <td>Smartphone, Computer or laptop, Wearable devices</td>\n",
              "      <td>Uplifting and motivational, Sadness or melancholy</td>\n",
              "    </tr>\n",
              "    <tr>\n",
              "      <th>516</th>\n",
              "      <td>Smartphone, Computer or laptop</td>\n",
              "      <td>Relaxation and stress relief, Uplifting and mo...</td>\n",
              "    </tr>\n",
              "    <tr>\n",
              "      <th>517</th>\n",
              "      <td>Smartphone</td>\n",
              "      <td>Relaxation and stress relief</td>\n",
              "    </tr>\n",
              "    <tr>\n",
              "      <th>518</th>\n",
              "      <td>Smartphone</td>\n",
              "      <td>Relaxation and stress relief, Uplifting and mo...</td>\n",
              "    </tr>\n",
              "    <tr>\n",
              "      <th>519</th>\n",
              "      <td>Smartphone, Computer or laptop</td>\n",
              "      <td>Relaxation and stress relief, Sadness or melan...</td>\n",
              "    </tr>\n",
              "  </tbody>\n",
              "</table>\n",
              "<p>520 rows × 2 columns</p>\n",
              "</div>\n",
              "      <button class=\"colab-df-convert\" onclick=\"convertToInteractive('df-db43bc84-698b-4d06-a632-58f08cf2228a')\"\n",
              "              title=\"Convert this dataframe to an interactive table.\"\n",
              "              style=\"display:none;\">\n",
              "\n",
              "  <svg xmlns=\"http://www.w3.org/2000/svg\" height=\"24px\"viewBox=\"0 0 24 24\"\n",
              "       width=\"24px\">\n",
              "    <path d=\"M0 0h24v24H0V0z\" fill=\"none\"/>\n",
              "    <path d=\"M18.56 5.44l.94 2.06.94-2.06 2.06-.94-2.06-.94-.94-2.06-.94 2.06-2.06.94zm-11 1L8.5 8.5l.94-2.06 2.06-.94-2.06-.94L8.5 2.5l-.94 2.06-2.06.94zm10 10l.94 2.06.94-2.06 2.06-.94-2.06-.94-.94-2.06-.94 2.06-2.06.94z\"/><path d=\"M17.41 7.96l-1.37-1.37c-.4-.4-.92-.59-1.43-.59-.52 0-1.04.2-1.43.59L10.3 9.45l-7.72 7.72c-.78.78-.78 2.05 0 2.83L4 21.41c.39.39.9.59 1.41.59.51 0 1.02-.2 1.41-.59l7.78-7.78 2.81-2.81c.8-.78.8-2.07 0-2.86zM5.41 20L4 18.59l7.72-7.72 1.47 1.35L5.41 20z\"/>\n",
              "  </svg>\n",
              "      </button>\n",
              "\n",
              "\n",
              "\n",
              "    <div id=\"df-53b043dc-0be5-4708-b829-95407406f80a\">\n",
              "      <button class=\"colab-df-quickchart\" onclick=\"quickchart('df-53b043dc-0be5-4708-b829-95407406f80a')\"\n",
              "              title=\"Suggest charts.\"\n",
              "              style=\"display:none;\">\n",
              "\n",
              "<svg xmlns=\"http://www.w3.org/2000/svg\" height=\"24px\"viewBox=\"0 0 24 24\"\n",
              "     width=\"24px\">\n",
              "    <g>\n",
              "        <path d=\"M19 3H5c-1.1 0-2 .9-2 2v14c0 1.1.9 2 2 2h14c1.1 0 2-.9 2-2V5c0-1.1-.9-2-2-2zM9 17H7v-7h2v7zm4 0h-2V7h2v10zm4 0h-2v-4h2v4z\"/>\n",
              "    </g>\n",
              "</svg>\n",
              "      </button>\n",
              "    </div>\n",
              "\n",
              "<style>\n",
              "  .colab-df-quickchart {\n",
              "    background-color: #E8F0FE;\n",
              "    border: none;\n",
              "    border-radius: 50%;\n",
              "    cursor: pointer;\n",
              "    display: none;\n",
              "    fill: #1967D2;\n",
              "    height: 32px;\n",
              "    padding: 0 0 0 0;\n",
              "    width: 32px;\n",
              "  }\n",
              "\n",
              "  .colab-df-quickchart:hover {\n",
              "    background-color: #E2EBFA;\n",
              "    box-shadow: 0px 1px 2px rgba(60, 64, 67, 0.3), 0px 1px 3px 1px rgba(60, 64, 67, 0.15);\n",
              "    fill: #174EA6;\n",
              "  }\n",
              "\n",
              "  [theme=dark] .colab-df-quickchart {\n",
              "    background-color: #3B4455;\n",
              "    fill: #D2E3FC;\n",
              "  }\n",
              "\n",
              "  [theme=dark] .colab-df-quickchart:hover {\n",
              "    background-color: #434B5C;\n",
              "    box-shadow: 0px 1px 3px 1px rgba(0, 0, 0, 0.15);\n",
              "    filter: drop-shadow(0px 1px 2px rgba(0, 0, 0, 0.3));\n",
              "    fill: #FFFFFF;\n",
              "  }\n",
              "</style>\n",
              "\n",
              "    <script>\n",
              "      async function quickchart(key) {\n",
              "        const containerElement = document.querySelector('#' + key);\n",
              "        const charts = await google.colab.kernel.invokeFunction(\n",
              "            'suggestCharts', [key], {});\n",
              "      }\n",
              "    </script>\n",
              "\n",
              "      <script>\n",
              "\n",
              "function displayQuickchartButton(domScope) {\n",
              "  let quickchartButtonEl =\n",
              "    domScope.querySelector('#df-53b043dc-0be5-4708-b829-95407406f80a button.colab-df-quickchart');\n",
              "  quickchartButtonEl.style.display =\n",
              "    google.colab.kernel.accessAllowed ? 'block' : 'none';\n",
              "}\n",
              "\n",
              "        displayQuickchartButton(document);\n",
              "      </script>\n",
              "      <style>\n",
              "    .colab-df-container {\n",
              "      display:flex;\n",
              "      flex-wrap:wrap;\n",
              "      gap: 12px;\n",
              "    }\n",
              "\n",
              "    .colab-df-convert {\n",
              "      background-color: #E8F0FE;\n",
              "      border: none;\n",
              "      border-radius: 50%;\n",
              "      cursor: pointer;\n",
              "      display: none;\n",
              "      fill: #1967D2;\n",
              "      height: 32px;\n",
              "      padding: 0 0 0 0;\n",
              "      width: 32px;\n",
              "    }\n",
              "\n",
              "    .colab-df-convert:hover {\n",
              "      background-color: #E2EBFA;\n",
              "      box-shadow: 0px 1px 2px rgba(60, 64, 67, 0.3), 0px 1px 3px 1px rgba(60, 64, 67, 0.15);\n",
              "      fill: #174EA6;\n",
              "    }\n",
              "\n",
              "    [theme=dark] .colab-df-convert {\n",
              "      background-color: #3B4455;\n",
              "      fill: #D2E3FC;\n",
              "    }\n",
              "\n",
              "    [theme=dark] .colab-df-convert:hover {\n",
              "      background-color: #434B5C;\n",
              "      box-shadow: 0px 1px 3px 1px rgba(0, 0, 0, 0.15);\n",
              "      filter: drop-shadow(0px 1px 2px rgba(0, 0, 0, 0.3));\n",
              "      fill: #FFFFFF;\n",
              "    }\n",
              "  </style>\n",
              "\n",
              "      <script>\n",
              "        const buttonEl =\n",
              "          document.querySelector('#df-db43bc84-698b-4d06-a632-58f08cf2228a button.colab-df-convert');\n",
              "        buttonEl.style.display =\n",
              "          google.colab.kernel.accessAllowed ? 'block' : 'none';\n",
              "\n",
              "        async function convertToInteractive(key) {\n",
              "          const element = document.querySelector('#df-db43bc84-698b-4d06-a632-58f08cf2228a');\n",
              "          const dataTable =\n",
              "            await google.colab.kernel.invokeFunction('convertToInteractive',\n",
              "                                                     [key], {});\n",
              "          if (!dataTable) return;\n",
              "\n",
              "          const docLinkHtml = 'Like what you see? Visit the ' +\n",
              "            '<a target=\"_blank\" href=https://colab.research.google.com/notebooks/data_table.ipynb>data table notebook</a>'\n",
              "            + ' to learn more about interactive tables.';\n",
              "          element.innerHTML = '';\n",
              "          dataTable['output_type'] = 'display_data';\n",
              "          await google.colab.output.renderOutput(dataTable, element);\n",
              "          const docLink = document.createElement('div');\n",
              "          docLink.innerHTML = docLinkHtml;\n",
              "          element.appendChild(docLink);\n",
              "        }\n",
              "      </script>\n",
              "    </div>\n",
              "  </div>\n"
            ]
          },
          "metadata": {},
          "execution_count": 217
        }
      ]
    },
    {
      "cell_type": "code",
      "source": [
        "le1=LabelEncoder()\n",
        "le2=LabelEncoder()\n",
        "X['spotify_listening_device']=le1.fit_transform(X['spotify_listening_device'])\n",
        "X['music_Influencial_mood']=le2.fit_transform(X['music_Influencial_mood'])\n",
        "X"
      ],
      "metadata": {
        "colab": {
          "base_uri": "https://localhost:8080/",
          "height": 424
        },
        "id": "g5kI04JXaiDR",
        "outputId": "bbf316bd-e671-4f4b-9e83-e19d58324054"
      },
      "execution_count": 218,
      "outputs": [
        {
          "output_type": "execute_result",
          "data": {
            "text/plain": [
              "     spotify_listening_device  music_Influencial_mood\n",
              "0                           4                       8\n",
              "1                           0                      10\n",
              "2                           4                       0\n",
              "3                          11                       3\n",
              "4                           6                       0\n",
              "..                        ...                     ...\n",
              "515                        10                      12\n",
              "516                         7                       6\n",
              "517                         6                       0\n",
              "518                         6                       4\n",
              "519                         7                       1\n",
              "\n",
              "[520 rows x 2 columns]"
            ],
            "text/html": [
              "\n",
              "\n",
              "  <div id=\"df-53fa69ec-30d0-44e6-804a-06bbbd13fcb0\">\n",
              "    <div class=\"colab-df-container\">\n",
              "      <div>\n",
              "<style scoped>\n",
              "    .dataframe tbody tr th:only-of-type {\n",
              "        vertical-align: middle;\n",
              "    }\n",
              "\n",
              "    .dataframe tbody tr th {\n",
              "        vertical-align: top;\n",
              "    }\n",
              "\n",
              "    .dataframe thead th {\n",
              "        text-align: right;\n",
              "    }\n",
              "</style>\n",
              "<table border=\"1\" class=\"dataframe\">\n",
              "  <thead>\n",
              "    <tr style=\"text-align: right;\">\n",
              "      <th></th>\n",
              "      <th>spotify_listening_device</th>\n",
              "      <th>music_Influencial_mood</th>\n",
              "    </tr>\n",
              "  </thead>\n",
              "  <tbody>\n",
              "    <tr>\n",
              "      <th>0</th>\n",
              "      <td>4</td>\n",
              "      <td>8</td>\n",
              "    </tr>\n",
              "    <tr>\n",
              "      <th>1</th>\n",
              "      <td>0</td>\n",
              "      <td>10</td>\n",
              "    </tr>\n",
              "    <tr>\n",
              "      <th>2</th>\n",
              "      <td>4</td>\n",
              "      <td>0</td>\n",
              "    </tr>\n",
              "    <tr>\n",
              "      <th>3</th>\n",
              "      <td>11</td>\n",
              "      <td>3</td>\n",
              "    </tr>\n",
              "    <tr>\n",
              "      <th>4</th>\n",
              "      <td>6</td>\n",
              "      <td>0</td>\n",
              "    </tr>\n",
              "    <tr>\n",
              "      <th>...</th>\n",
              "      <td>...</td>\n",
              "      <td>...</td>\n",
              "    </tr>\n",
              "    <tr>\n",
              "      <th>515</th>\n",
              "      <td>10</td>\n",
              "      <td>12</td>\n",
              "    </tr>\n",
              "    <tr>\n",
              "      <th>516</th>\n",
              "      <td>7</td>\n",
              "      <td>6</td>\n",
              "    </tr>\n",
              "    <tr>\n",
              "      <th>517</th>\n",
              "      <td>6</td>\n",
              "      <td>0</td>\n",
              "    </tr>\n",
              "    <tr>\n",
              "      <th>518</th>\n",
              "      <td>6</td>\n",
              "      <td>4</td>\n",
              "    </tr>\n",
              "    <tr>\n",
              "      <th>519</th>\n",
              "      <td>7</td>\n",
              "      <td>1</td>\n",
              "    </tr>\n",
              "  </tbody>\n",
              "</table>\n",
              "<p>520 rows × 2 columns</p>\n",
              "</div>\n",
              "      <button class=\"colab-df-convert\" onclick=\"convertToInteractive('df-53fa69ec-30d0-44e6-804a-06bbbd13fcb0')\"\n",
              "              title=\"Convert this dataframe to an interactive table.\"\n",
              "              style=\"display:none;\">\n",
              "\n",
              "  <svg xmlns=\"http://www.w3.org/2000/svg\" height=\"24px\"viewBox=\"0 0 24 24\"\n",
              "       width=\"24px\">\n",
              "    <path d=\"M0 0h24v24H0V0z\" fill=\"none\"/>\n",
              "    <path d=\"M18.56 5.44l.94 2.06.94-2.06 2.06-.94-2.06-.94-.94-2.06-.94 2.06-2.06.94zm-11 1L8.5 8.5l.94-2.06 2.06-.94-2.06-.94L8.5 2.5l-.94 2.06-2.06.94zm10 10l.94 2.06.94-2.06 2.06-.94-2.06-.94-.94-2.06-.94 2.06-2.06.94z\"/><path d=\"M17.41 7.96l-1.37-1.37c-.4-.4-.92-.59-1.43-.59-.52 0-1.04.2-1.43.59L10.3 9.45l-7.72 7.72c-.78.78-.78 2.05 0 2.83L4 21.41c.39.39.9.59 1.41.59.51 0 1.02-.2 1.41-.59l7.78-7.78 2.81-2.81c.8-.78.8-2.07 0-2.86zM5.41 20L4 18.59l7.72-7.72 1.47 1.35L5.41 20z\"/>\n",
              "  </svg>\n",
              "      </button>\n",
              "\n",
              "\n",
              "\n",
              "    <div id=\"df-1350e532-74a9-4a99-abf1-b5edd64ee688\">\n",
              "      <button class=\"colab-df-quickchart\" onclick=\"quickchart('df-1350e532-74a9-4a99-abf1-b5edd64ee688')\"\n",
              "              title=\"Suggest charts.\"\n",
              "              style=\"display:none;\">\n",
              "\n",
              "<svg xmlns=\"http://www.w3.org/2000/svg\" height=\"24px\"viewBox=\"0 0 24 24\"\n",
              "     width=\"24px\">\n",
              "    <g>\n",
              "        <path d=\"M19 3H5c-1.1 0-2 .9-2 2v14c0 1.1.9 2 2 2h14c1.1 0 2-.9 2-2V5c0-1.1-.9-2-2-2zM9 17H7v-7h2v7zm4 0h-2V7h2v10zm4 0h-2v-4h2v4z\"/>\n",
              "    </g>\n",
              "</svg>\n",
              "      </button>\n",
              "    </div>\n",
              "\n",
              "<style>\n",
              "  .colab-df-quickchart {\n",
              "    background-color: #E8F0FE;\n",
              "    border: none;\n",
              "    border-radius: 50%;\n",
              "    cursor: pointer;\n",
              "    display: none;\n",
              "    fill: #1967D2;\n",
              "    height: 32px;\n",
              "    padding: 0 0 0 0;\n",
              "    width: 32px;\n",
              "  }\n",
              "\n",
              "  .colab-df-quickchart:hover {\n",
              "    background-color: #E2EBFA;\n",
              "    box-shadow: 0px 1px 2px rgba(60, 64, 67, 0.3), 0px 1px 3px 1px rgba(60, 64, 67, 0.15);\n",
              "    fill: #174EA6;\n",
              "  }\n",
              "\n",
              "  [theme=dark] .colab-df-quickchart {\n",
              "    background-color: #3B4455;\n",
              "    fill: #D2E3FC;\n",
              "  }\n",
              "\n",
              "  [theme=dark] .colab-df-quickchart:hover {\n",
              "    background-color: #434B5C;\n",
              "    box-shadow: 0px 1px 3px 1px rgba(0, 0, 0, 0.15);\n",
              "    filter: drop-shadow(0px 1px 2px rgba(0, 0, 0, 0.3));\n",
              "    fill: #FFFFFF;\n",
              "  }\n",
              "</style>\n",
              "\n",
              "    <script>\n",
              "      async function quickchart(key) {\n",
              "        const containerElement = document.querySelector('#' + key);\n",
              "        const charts = await google.colab.kernel.invokeFunction(\n",
              "            'suggestCharts', [key], {});\n",
              "      }\n",
              "    </script>\n",
              "\n",
              "      <script>\n",
              "\n",
              "function displayQuickchartButton(domScope) {\n",
              "  let quickchartButtonEl =\n",
              "    domScope.querySelector('#df-1350e532-74a9-4a99-abf1-b5edd64ee688 button.colab-df-quickchart');\n",
              "  quickchartButtonEl.style.display =\n",
              "    google.colab.kernel.accessAllowed ? 'block' : 'none';\n",
              "}\n",
              "\n",
              "        displayQuickchartButton(document);\n",
              "      </script>\n",
              "      <style>\n",
              "    .colab-df-container {\n",
              "      display:flex;\n",
              "      flex-wrap:wrap;\n",
              "      gap: 12px;\n",
              "    }\n",
              "\n",
              "    .colab-df-convert {\n",
              "      background-color: #E8F0FE;\n",
              "      border: none;\n",
              "      border-radius: 50%;\n",
              "      cursor: pointer;\n",
              "      display: none;\n",
              "      fill: #1967D2;\n",
              "      height: 32px;\n",
              "      padding: 0 0 0 0;\n",
              "      width: 32px;\n",
              "    }\n",
              "\n",
              "    .colab-df-convert:hover {\n",
              "      background-color: #E2EBFA;\n",
              "      box-shadow: 0px 1px 2px rgba(60, 64, 67, 0.3), 0px 1px 3px 1px rgba(60, 64, 67, 0.15);\n",
              "      fill: #174EA6;\n",
              "    }\n",
              "\n",
              "    [theme=dark] .colab-df-convert {\n",
              "      background-color: #3B4455;\n",
              "      fill: #D2E3FC;\n",
              "    }\n",
              "\n",
              "    [theme=dark] .colab-df-convert:hover {\n",
              "      background-color: #434B5C;\n",
              "      box-shadow: 0px 1px 3px 1px rgba(0, 0, 0, 0.15);\n",
              "      filter: drop-shadow(0px 1px 2px rgba(0, 0, 0, 0.3));\n",
              "      fill: #FFFFFF;\n",
              "    }\n",
              "  </style>\n",
              "\n",
              "      <script>\n",
              "        const buttonEl =\n",
              "          document.querySelector('#df-53fa69ec-30d0-44e6-804a-06bbbd13fcb0 button.colab-df-convert');\n",
              "        buttonEl.style.display =\n",
              "          google.colab.kernel.accessAllowed ? 'block' : 'none';\n",
              "\n",
              "        async function convertToInteractive(key) {\n",
              "          const element = document.querySelector('#df-53fa69ec-30d0-44e6-804a-06bbbd13fcb0');\n",
              "          const dataTable =\n",
              "            await google.colab.kernel.invokeFunction('convertToInteractive',\n",
              "                                                     [key], {});\n",
              "          if (!dataTable) return;\n",
              "\n",
              "          const docLinkHtml = 'Like what you see? Visit the ' +\n",
              "            '<a target=\"_blank\" href=https://colab.research.google.com/notebooks/data_table.ipynb>data table notebook</a>'\n",
              "            + ' to learn more about interactive tables.';\n",
              "          element.innerHTML = '';\n",
              "          dataTable['output_type'] = 'display_data';\n",
              "          await google.colab.output.renderOutput(dataTable, element);\n",
              "          const docLink = document.createElement('div');\n",
              "          docLink.innerHTML = docLinkHtml;\n",
              "          element.appendChild(docLink);\n",
              "        }\n",
              "      </script>\n",
              "    </div>\n",
              "  </div>\n"
            ]
          },
          "metadata": {},
          "execution_count": 218
        }
      ]
    },
    {
      "cell_type": "markdown",
      "source": [
        "**Applying Elbow Method**"
      ],
      "metadata": {
        "id": "ApEFXN1earnN"
      }
    },
    {
      "cell_type": "code",
      "source": [
        "from sklearn.cluster import KMeans\n",
        "import warnings\n",
        "warnings.filterwarnings(\"ignore\")\n",
        "wcss=[]\n",
        "for i in range(1,10):\n",
        "  km=KMeans(n_clusters=i,init='k-means++',random_state=4)\n",
        "  km.fit(X)\n",
        "  wcss.append(km.inertia_)"
      ],
      "metadata": {
        "id": "WY1TwJ4NapUZ"
      },
      "execution_count": 219,
      "outputs": []
    },
    {
      "cell_type": "code",
      "source": [
        "plt.plot(range(1,10),wcss)\n",
        "plt.xlabel(\"number of cluster\")\n",
        "plt.ylabel(\"WCSS\")\n",
        "plt.show()"
      ],
      "metadata": {
        "colab": {
          "base_uri": "https://localhost:8080/",
          "height": 449
        },
        "id": "18WW7XLXa1vS",
        "outputId": "d81ce397-732f-4b9a-af89-7e2769037e4d"
      },
      "execution_count": 220,
      "outputs": [
        {
          "output_type": "display_data",
          "data": {
            "text/plain": [
              "<Figure size 640x480 with 1 Axes>"
            ],
            "image/png": "[encoded data removed]"
          },
          "metadata": {}
        }
      ]
    },
    {
      "cell_type": "code",
      "source": [
        "km1=KMeans(n_clusters=3,init='k-means++',random_state=4)\n",
        "y_kmeans=km1.fit_predict(X)\n",
        "y_kmeans"
      ],
      "metadata": {
        "colab": {
          "base_uri": "https://localhost:8080/"
        },
        "id": "d6qclt06a8OJ",
        "outputId": "fc70b4f3-aca4-4ea6-fb68-2515217118f9"
      },
      "execution_count": 221,
      "outputs": [
        {
          "output_type": "execute_result",
          "data": {
            "text/plain": [
              "array([0, 0, 1, 2, 1, 0, 1, 0, 2, 1, 2, 2, 1, 2, 1, 2, 1, 0, 1, 2, 1, 1,\n",
              "       1, 2, 1, 1, 1, 1, 1, 2, 1, 1, 0, 1, 2, 0, 0, 2, 1, 2, 1, 1, 0, 2,\n",
              "       1, 1, 2, 2, 1, 2, 1, 1, 1, 2, 2, 2, 1, 1, 1, 0, 2, 0, 2, 1, 1, 1,\n",
              "       2, 2, 2, 1, 1, 0, 1, 0, 0, 0, 2, 0, 0, 0, 1, 1, 1, 0, 1, 0, 0, 1,\n",
              "       1, 0, 2, 1, 1, 2, 2, 2, 1, 2, 2, 2, 2, 1, 1, 1, 1, 2, 2, 2, 1, 1,\n",
              "       1, 2, 1, 1, 2, 2, 1, 2, 1, 2, 2, 1, 0, 2, 1, 1, 1, 1, 1, 2, 2, 2,\n",
              "       2, 1, 2, 2, 0, 1, 1, 1, 1, 1, 1, 1, 1, 1, 1, 1, 1, 1, 2, 0, 1, 2,\n",
              "       0, 1, 1, 1, 1, 1, 2, 1, 0, 1, 1, 0, 0, 0, 0, 0, 0, 0, 0, 0, 0, 0,\n",
              "       1, 0, 0, 1, 0, 0, 2, 2, 0, 0, 0, 1, 0, 1, 1, 1, 1, 2, 1, 1, 1, 1,\n",
              "       0, 1, 1, 2, 2, 1, 1, 2, 2, 1, 1, 1, 2, 2, 1, 1, 2, 1, 1, 1, 1, 1,\n",
              "       1, 2, 1, 1, 1, 1, 1, 2, 1, 1, 1, 1, 1, 1, 1, 0, 1, 2, 2, 1, 2, 1,\n",
              "       1, 1, 0, 0, 1, 1, 1, 1, 1, 2, 2, 2, 2, 0, 1, 2, 1, 1, 2, 2, 1, 1,\n",
              "       0, 1, 2, 1, 1, 0, 1, 2, 0, 0, 0, 0, 0, 0, 0, 1, 0, 0, 0, 0, 0, 0,\n",
              "       0, 1, 0, 0, 1, 0, 0, 0, 2, 0, 0, 0, 0, 1, 1, 0, 0, 2, 0, 0, 0, 0,\n",
              "       0, 0, 0, 2, 0, 0, 0, 0, 0, 0, 0, 0, 0, 1, 1, 2, 2, 2, 2, 1, 2, 1,\n",
              "       1, 0, 2, 1, 2, 1, 1, 0, 1, 1, 1, 2, 1, 2, 2, 1, 1, 1, 1, 1, 1, 1,\n",
              "       2, 1, 0, 1, 1, 2, 2, 2, 2, 2, 1, 1, 2, 1, 1, 2, 1, 1, 2, 1, 2, 1,\n",
              "       2, 1, 2, 0, 2, 2, 1, 1, 2, 2, 2, 1, 2, 1, 1, 2, 0, 1, 0, 2, 1, 2,\n",
              "       2, 1, 2, 0, 2, 1, 1, 2, 1, 2, 0, 1, 1, 2, 2, 1, 0, 1, 0, 1, 1, 1,\n",
              "       1, 1, 2, 1, 1, 1, 2, 1, 0, 1, 1, 1, 2, 2, 1, 2, 1, 1, 1, 1, 2, 1,\n",
              "       2, 2, 2, 2, 1, 2, 1, 1, 1, 2, 1, 1, 2, 1, 1, 2, 1, 1, 1, 1, 1, 1,\n",
              "       1, 1, 0, 1, 0, 0, 0, 0, 0, 0, 0, 0, 0, 0, 2, 0, 0, 0, 0, 0, 2, 0,\n",
              "       1, 0, 0, 0, 0, 1, 1, 2, 0, 0, 0, 0, 0, 0, 0, 0, 0, 1, 0, 0, 1, 2,\n",
              "       0, 0, 1, 1, 2, 1, 1, 2, 1, 2, 2, 1, 2, 1], dtype=int32)"
            ]
          },
          "metadata": {},
          "execution_count": 221
        }
      ]
    },
    {
      "cell_type": "code",
      "source": [
        "X=np.array(X)\n",
        "plt.scatter(X[y_kmeans==0,0], X[y_kmeans==0,1],s = 100,c = 'red', label = 'Cluster1')\n",
        "plt.scatter(X[y_kmeans==1,0], X[y_kmeans==1,1],s = 100,c = 'blue', label = 'Cluster2')\n",
        "plt.scatter(X[y_kmeans==2,0], X[y_kmeans==2,1],s = 100,c = 'green', label = 'Cluster3')\n",
        "plt.scatter(km1.cluster_centers_[:,0], km1.cluster_centers_[:,1], s = 100, c = 'black', label = 'Centroid')\n",
        "plt.title(\"Clusters\")\n",
        "plt.xlabel('spotify_listening_device')\n",
        "plt.ylabel('music_Influencial_mood')\n",
        "plt.legend()\n",
        "plt.show()\n",
        ""
      ],
      "metadata": {
        "colab": {
          "base_uri": "https://localhost:8080/",
          "height": 472
        },
        "id": "J2yY8p2Fa9-N",
        "outputId": "7f2de04b-e503-42b3-e6a8-064d00392ec0"
      },
      "execution_count": 222,
      "outputs": [
        {
          "output_type": "display_data",
          "data": {
            "text/plain": [
              "<Figure size 640x480 with 1 Axes>"
            ],
            "image/png": "[encoded data removed]"
          },
          "metadata": {}
        }
      ]
    },
    {
      "cell_type": "code",
      "source": [
        "X= pd.DataFrame(X,columns=('spotify_listening_device','music_Influencial_mood'))\n",
        "y=np.array(y_kmeans)\n",
        "X['cluster'] = y\n",
        "X['spotify_listening_device']=le1.inverse_transform(X['spotify_listening_device'])\n",
        "X['music_Influencial_mood']=le2.inverse_transform(X['music_Influencial_mood'])"
      ],
      "metadata": {
        "id": "UPx96pYkbFnL"
      },
      "execution_count": 223,
      "outputs": []
    },
    {
      "cell_type": "code",
      "source": [
        "a=X.loc[X['cluster']==0][['spotify_listening_device','music_Influencial_mood','cluster']]\n",
        "a"
      ],
      "metadata": {
        "colab": {
          "base_uri": "https://localhost:8080/",
          "height": 424
        },
        "id": "BX7OGKkjjGCf",
        "outputId": "b8dc7b4e-4092-4edc-b8ed-f227a59c7754"
      },
      "execution_count": 225,
      "outputs": [
        {
          "output_type": "execute_result",
          "data": {
            "text/plain": [
              "               spotify_listening_device        music_Influencial_mood  cluster\n",
              "0    Smart speakers or voice assistants         Sadness or melancholy        0\n",
              "1                    Computer or laptop  Social gatherings or parties        0\n",
              "5                            Smartphone    Uplifting and motivational        0\n",
              "7                            Smartphone  Social gatherings or parties        0\n",
              "17                           Smartphone  Social gatherings or parties        0\n",
              "..                                  ...                           ...      ...\n",
              "500                          Smartphone    Uplifting and motivational        0\n",
              "502                  Computer or laptop         Sadness or melancholy        0\n",
              "503  Smart speakers or voice assistants    Uplifting and motivational        0\n",
              "506  Smart speakers or voice assistants    Uplifting and motivational        0\n",
              "507                  Computer or laptop    Uplifting and motivational        0\n",
              "\n",
              "[139 rows x 3 columns]"
            ],
            "text/html": [
              "\n",
              "\n",
              "  <div id=\"df-83ba60c0-0438-43da-bfc6-9158326d33e6\">\n",
              "    <div class=\"colab-df-container\">\n",
              "      <div>\n",
              "<style scoped>\n",
              "    .dataframe tbody tr th:only-of-type {\n",
              "        vertical-align: middle;\n",
              "    }\n",
              "\n",
              "    .dataframe tbody tr th {\n",
              "        vertical-align: top;\n",
              "    }\n",
              "\n",
              "    .dataframe thead th {\n",
              "        text-align: right;\n",
              "    }\n",
              "</style>\n",
              "<table border=\"1\" class=\"dataframe\">\n",
              "  <thead>\n",
              "    <tr style=\"text-align: right;\">\n",
              "      <th></th>\n",
              "      <th>spotify_listening_device</th>\n",
              "      <th>music_Influencial_mood</th>\n",
              "      <th>cluster</th>\n",
              "    </tr>\n",
              "  </thead>\n",
              "  <tbody>\n",
              "    <tr>\n",
              "      <th>0</th>\n",
              "      <td>Smart speakers or voice assistants</td>\n",
              "      <td>Sadness or melancholy</td>\n",
              "      <td>0</td>\n",
              "    </tr>\n",
              "    <tr>\n",
              "      <th>1</th>\n",
              "      <td>Computer or laptop</td>\n",
              "      <td>Social gatherings or parties</td>\n",
              "      <td>0</td>\n",
              "    </tr>\n",
              "    <tr>\n",
              "      <th>5</th>\n",
              "      <td>Smartphone</td>\n",
              "      <td>Uplifting and motivational</td>\n",
              "      <td>0</td>\n",
              "    </tr>\n",
              "    <tr>\n",
              "      <th>7</th>\n",
              "      <td>Smartphone</td>\n",
              "      <td>Social gatherings or parties</td>\n",
              "      <td>0</td>\n",
              "    </tr>\n",
              "    <tr>\n",
              "      <th>17</th>\n",
              "      <td>Smartphone</td>\n",
              "      <td>Social gatherings or parties</td>\n",
              "      <td>0</td>\n",
              "    </tr>\n",
              "    <tr>\n",
              "      <th>...</th>\n",
              "      <td>...</td>\n",
              "      <td>...</td>\n",
              "      <td>...</td>\n",
              "    </tr>\n",
              "    <tr>\n",
              "      <th>500</th>\n",
              "      <td>Smartphone</td>\n",
              "      <td>Uplifting and motivational</td>\n",
              "      <td>0</td>\n",
              "    </tr>\n",
              "    <tr>\n",
              "      <th>502</th>\n",
              "      <td>Computer or laptop</td>\n",
              "      <td>Sadness or melancholy</td>\n",
              "      <td>0</td>\n",
              "    </tr>\n",
              "    <tr>\n",
              "      <th>503</th>\n",
              "      <td>Smart speakers or voice assistants</td>\n",
              "      <td>Uplifting and motivational</td>\n",
              "      <td>0</td>\n",
              "    </tr>\n",
              "    <tr>\n",
              "      <th>506</th>\n",
              "      <td>Smart speakers or voice assistants</td>\n",
              "      <td>Uplifting and motivational</td>\n",
              "      <td>0</td>\n",
              "    </tr>\n",
              "    <tr>\n",
              "      <th>507</th>\n",
              "      <td>Computer or laptop</td>\n",
              "      <td>Uplifting and motivational</td>\n",
              "      <td>0</td>\n",
              "    </tr>\n",
              "  </tbody>\n",
              "</table>\n",
              "<p>139 rows × 3 columns</p>\n",
              "</div>\n",
              "      <button class=\"colab-df-convert\" onclick=\"convertToInteractive('df-83ba60c0-0438-43da-bfc6-9158326d33e6')\"\n",
              "              title=\"Convert this dataframe to an interactive table.\"\n",
              "              style=\"display:none;\">\n",
              "\n",
              "  <svg xmlns=\"http://www.w3.org/2000/svg\" height=\"24px\"viewBox=\"0 0 24 24\"\n",
              "       width=\"24px\">\n",
              "    <path d=\"M0 0h24v24H0V0z\" fill=\"none\"/>\n",
              "    <path d=\"M18.56 5.44l.94 2.06.94-2.06 2.06-.94-2.06-.94-.94-2.06-.94 2.06-2.06.94zm-11 1L8.5 8.5l.94-2.06 2.06-.94-2.06-.94L8.5 2.5l-.94 2.06-2.06.94zm10 10l.94 2.06.94-2.06 2.06-.94-2.06-.94-.94-2.06-.94 2.06-2.06.94z\"/><path d=\"M17.41 7.96l-1.37-1.37c-.4-.4-.92-.59-1.43-.59-.52 0-1.04.2-1.43.59L10.3 9.45l-7.72 7.72c-.78.78-.78 2.05 0 2.83L4 21.41c.39.39.9.59 1.41.59.51 0 1.02-.2 1.41-.59l7.78-7.78 2.81-2.81c.8-.78.8-2.07 0-2.86zM5.41 20L4 18.59l7.72-7.72 1.47 1.35L5.41 20z\"/>\n",
              "  </svg>\n",
              "      </button>\n",
              "\n",
              "\n",
              "\n",
              "    <div id=\"df-5db10ca2-6a71-4f42-8671-1486993138da\">\n",
              "      <button class=\"colab-df-quickchart\" onclick=\"quickchart('df-5db10ca2-6a71-4f42-8671-1486993138da')\"\n",
              "              title=\"Suggest charts.\"\n",
              "              style=\"display:none;\">\n",
              "\n",
              "<svg xmlns=\"http://www.w3.org/2000/svg\" height=\"24px\"viewBox=\"0 0 24 24\"\n",
              "     width=\"24px\">\n",
              "    <g>\n",
              "        <path d=\"M19 3H5c-1.1 0-2 .9-2 2v14c0 1.1.9 2 2 2h14c1.1 0 2-.9 2-2V5c0-1.1-.9-2-2-2zM9 17H7v-7h2v7zm4 0h-2V7h2v10zm4 0h-2v-4h2v4z\"/>\n",
              "    </g>\n",
              "</svg>\n",
              "      </button>\n",
              "    </div>\n",
              "\n",
              "<style>\n",
              "  .colab-df-quickchart {\n",
              "    background-color: #E8F0FE;\n",
              "    border: none;\n",
              "    border-radius: 50%;\n",
              "    cursor: pointer;\n",
              "    display: none;\n",
              "    fill: #1967D2;\n",
              "    height: 32px;\n",
              "    padding: 0 0 0 0;\n",
              "    width: 32px;\n",
              "  }\n",
              "\n",
              "  .colab-df-quickchart:hover {\n",
              "    background-color: #E2EBFA;\n",
              "    box-shadow: 0px 1px 2px rgba(60, 64, 67, 0.3), 0px 1px 3px 1px rgba(60, 64, 67, 0.15);\n",
              "    fill: #174EA6;\n",
              "  }\n",
              "\n",
              "  [theme=dark] .colab-df-quickchart {\n",
              "    background-color: #3B4455;\n",
              "    fill: #D2E3FC;\n",
              "  }\n",
              "\n",
              "  [theme=dark] .colab-df-quickchart:hover {\n",
              "    background-color: #434B5C;\n",
              "    box-shadow: 0px 1px 3px 1px rgba(0, 0, 0, 0.15);\n",
              "    filter: drop-shadow(0px 1px 2px rgba(0, 0, 0, 0.3));\n",
              "    fill: #FFFFFF;\n",
              "  }\n",
              "</style>\n",
              "\n",
              "    <script>\n",
              "      async function quickchart(key) {\n",
              "        const containerElement = document.querySelector('#' + key);\n",
              "        const charts = await google.colab.kernel.invokeFunction(\n",
              "            'suggestCharts', [key], {});\n",
              "      }\n",
              "    </script>\n",
              "\n",
              "      <script>\n",
              "\n",
              "function displayQuickchartButton(domScope) {\n",
              "  let quickchartButtonEl =\n",
              "    domScope.querySelector('#df-5db10ca2-6a71-4f42-8671-1486993138da button.colab-df-quickchart');\n",
              "  quickchartButtonEl.style.display =\n",
              "    google.colab.kernel.accessAllowed ? 'block' : 'none';\n",
              "}\n",
              "\n",
              "        displayQuickchartButton(document);\n",
              "      </script>\n",
              "      <style>\n",
              "    .colab-df-container {\n",
              "      display:flex;\n",
              "      flex-wrap:wrap;\n",
              "      gap: 12px;\n",
              "    }\n",
              "\n",
              "    .colab-df-convert {\n",
              "      background-color: #E8F0FE;\n",
              "      border: none;\n",
              "      border-radius: 50%;\n",
              "      cursor: pointer;\n",
              "      display: none;\n",
              "      fill: #1967D2;\n",
              "      height: 32px;\n",
              "      padding: 0 0 0 0;\n",
              "      width: 32px;\n",
              "    }\n",
              "\n",
              "    .colab-df-convert:hover {\n",
              "      background-color: #E2EBFA;\n",
              "      box-shadow: 0px 1px 2px rgba(60, 64, 67, 0.3), 0px 1px 3px 1px rgba(60, 64, 67, 0.15);\n",
              "      fill: #174EA6;\n",
              "    }\n",
              "\n",
              "    [theme=dark] .colab-df-convert {\n",
              "      background-color: #3B4455;\n",
              "      fill: #D2E3FC;\n",
              "    }\n",
              "\n",
              "    [theme=dark] .colab-df-convert:hover {\n",
              "      background-color: #434B5C;\n",
              "      box-shadow: 0px 1px 3px 1px rgba(0, 0, 0, 0.15);\n",
              "      filter: drop-shadow(0px 1px 2px rgba(0, 0, 0, 0.3));\n",
              "      fill: #FFFFFF;\n",
              "    }\n",
              "  </style>\n",
              "\n",
              "      <script>\n",
              "        const buttonEl =\n",
              "          document.querySelector('#df-83ba60c0-0438-43da-bfc6-9158326d33e6 button.colab-df-convert');\n",
              "        buttonEl.style.display =\n",
              "          google.colab.kernel.accessAllowed ? 'block' : 'none';\n",
              "\n",
              "        async function convertToInteractive(key) {\n",
              "          const element = document.querySelector('#df-83ba60c0-0438-43da-bfc6-9158326d33e6');\n",
              "          const dataTable =\n",
              "            await google.colab.kernel.invokeFunction('convertToInteractive',\n",
              "                                                     [key], {});\n",
              "          if (!dataTable) return;\n",
              "\n",
              "          const docLinkHtml = 'Like what you see? Visit the ' +\n",
              "            '<a target=\"_blank\" href=https://colab.research.google.com/notebooks/data_table.ipynb>data table notebook</a>'\n",
              "            + ' to learn more about interactive tables.';\n",
              "          element.innerHTML = '';\n",
              "          dataTable['output_type'] = 'display_data';\n",
              "          await google.colab.output.renderOutput(dataTable, element);\n",
              "          const docLink = document.createElement('div');\n",
              "          docLink.innerHTML = docLinkHtml;\n",
              "          element.appendChild(docLink);\n",
              "        }\n",
              "      </script>\n",
              "    </div>\n",
              "  </div>\n"
            ]
          },
          "metadata": {},
          "execution_count": 225
        }
      ]
    },
    {
      "cell_type": "code",
      "source": [
        "a['spotify_listening_device'].value_counts()"
      ],
      "metadata": {
        "colab": {
          "base_uri": "https://localhost:8080/"
        },
        "id": "8FYEgKn0jPhX",
        "outputId": "0bdcf3f1-b2f8-44ae-bd40-c47c68241879"
      },
      "execution_count": 226,
      "outputs": [
        {
          "output_type": "execute_result",
          "data": {
            "text/plain": [
              "Computer or laptop                                                          51\n",
              "Smart speakers or voice assistants                                          34\n",
              "Smartphone                                                                  30\n",
              "Computer or laptop, Smart speakers or voice assistants                      14\n",
              "Smartphone, Computer or laptop                                               3\n",
              "Computer or laptop, Wearable devices                                         3\n",
              "Computer or laptop, Smart speakers or voice assistants, Wearable devices     2\n",
              "Smartphone, Computer or laptop, Smart speakers or voice assistants           1\n",
              "Smart speakers or voice assistants, Wearable devices                         1\n",
              "Name: spotify_listening_device, dtype: int64"
            ]
          },
          "metadata": {},
          "execution_count": 226
        }
      ]
    },
    {
      "cell_type": "code",
      "source": [
        "a['music_Influencial_mood'].value_counts()"
      ],
      "metadata": {
        "colab": {
          "base_uri": "https://localhost:8080/"
        },
        "id": "MGlY8VHjjTwr",
        "outputId": "dc0be9c1-2339-4a26-e12c-6e75545980cc"
      },
      "execution_count": 227,
      "outputs": [
        {
          "output_type": "execute_result",
          "data": {
            "text/plain": [
              "Uplifting and motivational                                                                                       63\n",
              "Sadness or melancholy                                                                                            40\n",
              "Social gatherings or parties                                                                                     16\n",
              "Uplifting and motivational, Sadness or melancholy                                                                10\n",
              "Uplifting and motivational, Social gatherings or parties                                                          4\n",
              "Relaxation and stress relief, Uplifting and motivational, Sadness or melancholy                                   2\n",
              "Relaxation and stress relief, Uplifting and motivational, Sadness or melancholy, Social gatherings or parties     1\n",
              "Sadness or melancholy, Social gatherings or parties                                                               1\n",
              "Uplifting and motivational, Sadness or melancholy, Social gatherings or parties                                   1\n",
              "Relaxation and stress relief, Uplifting and motivational                                                          1\n",
              "Name: music_Influencial_mood, dtype: int64"
            ]
          },
          "metadata": {},
          "execution_count": 227
        }
      ]
    },
    {
      "cell_type": "code",
      "source": [
        "b=X.loc[X['cluster']==1][['spotify_listening_device','music_Influencial_mood','cluster']]\n",
        "b"
      ],
      "metadata": {
        "colab": {
          "base_uri": "https://localhost:8080/",
          "height": 424
        },
        "id": "JWYwLEizjdlI",
        "outputId": "276cbaf5-ca5b-419a-e625-4b8581f2f548"
      },
      "execution_count": 228,
      "outputs": [
        {
          "output_type": "execute_result",
          "data": {
            "text/plain": [
              "               spotify_listening_device  \\\n",
              "2    Smart speakers or voice assistants   \n",
              "4                            Smartphone   \n",
              "6                            Smartphone   \n",
              "9                            Smartphone   \n",
              "12       Smartphone, Computer or laptop   \n",
              "..                                  ...   \n",
              "511                          Smartphone   \n",
              "512                          Smartphone   \n",
              "514                          Smartphone   \n",
              "517                          Smartphone   \n",
              "519      Smartphone, Computer or laptop   \n",
              "\n",
              "                                music_Influencial_mood  cluster  \n",
              "2                         Relaxation and stress relief        1  \n",
              "4                         Relaxation and stress relief        1  \n",
              "6                         Relaxation and stress relief        1  \n",
              "9                         Relaxation and stress relief        1  \n",
              "12                        Relaxation and stress relief        1  \n",
              "..                                                 ...      ...  \n",
              "511                       Relaxation and stress relief        1  \n",
              "512  Relaxation and stress relief, Sadness or melan...        1  \n",
              "514                       Relaxation and stress relief        1  \n",
              "517                       Relaxation and stress relief        1  \n",
              "519  Relaxation and stress relief, Sadness or melan...        1  \n",
              "\n",
              "[241 rows x 3 columns]"
            ],
            "text/html": [
              "\n",
              "\n",
              "  <div id=\"df-118e9bdb-b373-4500-946b-4215bf6c51b2\">\n",
              "    <div class=\"colab-df-container\">\n",
              "      <div>\n",
              "<style scoped>\n",
              "    .dataframe tbody tr th:only-of-type {\n",
              "        vertical-align: middle;\n",
              "    }\n",
              "\n",
              "    .dataframe tbody tr th {\n",
              "        vertical-align: top;\n",
              "    }\n",
              "\n",
              "    .dataframe thead th {\n",
              "        text-align: right;\n",
              "    }\n",
              "</style>\n",
              "<table border=\"1\" class=\"dataframe\">\n",
              "  <thead>\n",
              "    <tr style=\"text-align: right;\">\n",
              "      <th></th>\n",
              "      <th>spotify_listening_device</th>\n",
              "      <th>music_Influencial_mood</th>\n",
              "      <th>cluster</th>\n",
              "    </tr>\n",
              "  </thead>\n",
              "  <tbody>\n",
              "    <tr>\n",
              "      <th>2</th>\n",
              "      <td>Smart speakers or voice assistants</td>\n",
              "      <td>Relaxation and stress relief</td>\n",
              "      <td>1</td>\n",
              "    </tr>\n",
              "    <tr>\n",
              "      <th>4</th>\n",
              "      <td>Smartphone</td>\n",
              "      <td>Relaxation and stress relief</td>\n",
              "      <td>1</td>\n",
              "    </tr>\n",
              "    <tr>\n",
              "      <th>6</th>\n",
              "      <td>Smartphone</td>\n",
              "      <td>Relaxation and stress relief</td>\n",
              "      <td>1</td>\n",
              "    </tr>\n",
              "    <tr>\n",
              "      <th>9</th>\n",
              "      <td>Smartphone</td>\n",
              "      <td>Relaxation and stress relief</td>\n",
              "      <td>1</td>\n",
              "    </tr>\n",
              "    <tr>\n",
              "      <th>12</th>\n",
              "      <td>Smartphone, Computer or laptop</td>\n",
              "      <td>Relaxation and stress relief</td>\n",
              "      <td>1</td>\n",
              "    </tr>\n",
              "    <tr>\n",
              "      <th>...</th>\n",
              "      <td>...</td>\n",
              "      <td>...</td>\n",
              "      <td>...</td>\n",
              "    </tr>\n",
              "    <tr>\n",
              "      <th>511</th>\n",
              "      <td>Smartphone</td>\n",
              "      <td>Relaxation and stress relief</td>\n",
              "      <td>1</td>\n",
              "    </tr>\n",
              "    <tr>\n",
              "      <th>512</th>\n",
              "      <td>Smartphone</td>\n",
              "      <td>Relaxation and stress relief, Sadness or melan...</td>\n",
              "      <td>1</td>\n",
              "    </tr>\n",
              "    <tr>\n",
              "      <th>514</th>\n",
              "      <td>Smartphone</td>\n",
              "      <td>Relaxation and stress relief</td>\n",
              "      <td>1</td>\n",
              "    </tr>\n",
              "    <tr>\n",
              "      <th>517</th>\n",
              "      <td>Smartphone</td>\n",
              "      <td>Relaxation and stress relief</td>\n",
              "      <td>1</td>\n",
              "    </tr>\n",
              "    <tr>\n",
              "      <th>519</th>\n",
              "      <td>Smartphone, Computer or laptop</td>\n",
              "      <td>Relaxation and stress relief, Sadness or melan...</td>\n",
              "      <td>1</td>\n",
              "    </tr>\n",
              "  </tbody>\n",
              "</table>\n",
              "<p>241 rows × 3 columns</p>\n",
              "</div>\n",
              "      <button class=\"colab-df-convert\" onclick=\"convertToInteractive('df-118e9bdb-b373-4500-946b-4215bf6c51b2')\"\n",
              "              title=\"Convert this dataframe to an interactive table.\"\n",
              "              style=\"display:none;\">\n",
              "\n",
              "  <svg xmlns=\"http://www.w3.org/2000/svg\" height=\"24px\"viewBox=\"0 0 24 24\"\n",
              "       width=\"24px\">\n",
              "    <path d=\"M0 0h24v24H0V0z\" fill=\"none\"/>\n",
              "    <path d=\"M18.56 5.44l.94 2.06.94-2.06 2.06-.94-2.06-.94-.94-2.06-.94 2.06-2.06.94zm-11 1L8.5 8.5l.94-2.06 2.06-.94-2.06-.94L8.5 2.5l-.94 2.06-2.06.94zm10 10l.94 2.06.94-2.06 2.06-.94-2.06-.94-.94-2.06-.94 2.06-2.06.94z\"/><path d=\"M17.41 7.96l-1.37-1.37c-.4-.4-.92-.59-1.43-.59-.52 0-1.04.2-1.43.59L10.3 9.45l-7.72 7.72c-.78.78-.78 2.05 0 2.83L4 21.41c.39.39.9.59 1.41.59.51 0 1.02-.2 1.41-.59l7.78-7.78 2.81-2.81c.8-.78.8-2.07 0-2.86zM5.41 20L4 18.59l7.72-7.72 1.47 1.35L5.41 20z\"/>\n",
              "  </svg>\n",
              "      </button>\n",
              "\n",
              "\n",
              "\n",
              "    <div id=\"df-3e363f7d-927d-41f2-a67e-28d3ebdf11dc\">\n",
              "      <button class=\"colab-df-quickchart\" onclick=\"quickchart('df-3e363f7d-927d-41f2-a67e-28d3ebdf11dc')\"\n",
              "              title=\"Suggest charts.\"\n",
              "              style=\"display:none;\">\n",
              "\n",
              "<svg xmlns=\"http://www.w3.org/2000/svg\" height=\"24px\"viewBox=\"0 0 24 24\"\n",
              "     width=\"24px\">\n",
              "    <g>\n",
              "        <path d=\"M19 3H5c-1.1 0-2 .9-2 2v14c0 1.1.9 2 2 2h14c1.1 0 2-.9 2-2V5c0-1.1-.9-2-2-2zM9 17H7v-7h2v7zm4 0h-2V7h2v10zm4 0h-2v-4h2v4z\"/>\n",
              "    </g>\n",
              "</svg>\n",
              "      </button>\n",
              "    </div>\n",
              "\n",
              "<style>\n",
              "  .colab-df-quickchart {\n",
              "    background-color: #E8F0FE;\n",
              "    border: none;\n",
              "    border-radius: 50%;\n",
              "    cursor: pointer;\n",
              "    display: none;\n",
              "    fill: #1967D2;\n",
              "    height: 32px;\n",
              "    padding: 0 0 0 0;\n",
              "    width: 32px;\n",
              "  }\n",
              "\n",
              "  .colab-df-quickchart:hover {\n",
              "    background-color: #E2EBFA;\n",
              "    box-shadow: 0px 1px 2px rgba(60, 64, 67, 0.3), 0px 1px 3px 1px rgba(60, 64, 67, 0.15);\n",
              "    fill: #174EA6;\n",
              "  }\n",
              "\n",
              "  [theme=dark] .colab-df-quickchart {\n",
              "    background-color: #3B4455;\n",
              "    fill: #D2E3FC;\n",
              "  }\n",
              "\n",
              "  [theme=dark] .colab-df-quickchart:hover {\n",
              "    background-color: #434B5C;\n",
              "    box-shadow: 0px 1px 3px 1px rgba(0, 0, 0, 0.15);\n",
              "    filter: drop-shadow(0px 1px 2px rgba(0, 0, 0, 0.3));\n",
              "    fill: #FFFFFF;\n",
              "  }\n",
              "</style>\n",
              "\n",
              "    <script>\n",
              "      async function quickchart(key) {\n",
              "        const containerElement = document.querySelector('#' + key);\n",
              "        const charts = await google.colab.kernel.invokeFunction(\n",
              "            'suggestCharts', [key], {});\n",
              "      }\n",
              "    </script>\n",
              "\n",
              "      <script>\n",
              "\n",
              "function displayQuickchartButton(domScope) {\n",
              "  let quickchartButtonEl =\n",
              "    domScope.querySelector('#df-3e363f7d-927d-41f2-a67e-28d3ebdf11dc button.colab-df-quickchart');\n",
              "  quickchartButtonEl.style.display =\n",
              "    google.colab.kernel.accessAllowed ? 'block' : 'none';\n",
              "}\n",
              "\n",
              "        displayQuickchartButton(document);\n",
              "      </script>\n",
              "      <style>\n",
              "    .colab-df-container {\n",
              "      display:flex;\n",
              "      flex-wrap:wrap;\n",
              "      gap: 12px;\n",
              "    }\n",
              "\n",
              "    .colab-df-convert {\n",
              "      background-color: #E8F0FE;\n",
              "      border: none;\n",
              "      border-radius: 50%;\n",
              "      cursor: pointer;\n",
              "      display: none;\n",
              "      fill: #1967D2;\n",
              "      height: 32px;\n",
              "      padding: 0 0 0 0;\n",
              "      width: 32px;\n",
              "    }\n",
              "\n",
              "    .colab-df-convert:hover {\n",
              "      background-color: #E2EBFA;\n",
              "      box-shadow: 0px 1px 2px rgba(60, 64, 67, 0.3), 0px 1px 3px 1px rgba(60, 64, 67, 0.15);\n",
              "      fill: #174EA6;\n",
              "    }\n",
              "\n",
              "    [theme=dark] .colab-df-convert {\n",
              "      background-color: #3B4455;\n",
              "      fill: #D2E3FC;\n",
              "    }\n",
              "\n",
              "    [theme=dark] .colab-df-convert:hover {\n",
              "      background-color: #434B5C;\n",
              "      box-shadow: 0px 1px 3px 1px rgba(0, 0, 0, 0.15);\n",
              "      filter: drop-shadow(0px 1px 2px rgba(0, 0, 0, 0.3));\n",
              "      fill: #FFFFFF;\n",
              "    }\n",
              "  </style>\n",
              "\n",
              "      <script>\n",
              "        const buttonEl =\n",
              "          document.querySelector('#df-118e9bdb-b373-4500-946b-4215bf6c51b2 button.colab-df-convert');\n",
              "        buttonEl.style.display =\n",
              "          google.colab.kernel.accessAllowed ? 'block' : 'none';\n",
              "\n",
              "        async function convertToInteractive(key) {\n",
              "          const element = document.querySelector('#df-118e9bdb-b373-4500-946b-4215bf6c51b2');\n",
              "          const dataTable =\n",
              "            await google.colab.kernel.invokeFunction('convertToInteractive',\n",
              "                                                     [key], {});\n",
              "          if (!dataTable) return;\n",
              "\n",
              "          const docLinkHtml = 'Like what you see? Visit the ' +\n",
              "            '<a target=\"_blank\" href=https://colab.research.google.com/notebooks/data_table.ipynb>data table notebook</a>'\n",
              "            + ' to learn more about interactive tables.';\n",
              "          element.innerHTML = '';\n",
              "          dataTable['output_type'] = 'display_data';\n",
              "          await google.colab.output.renderOutput(dataTable, element);\n",
              "          const docLink = document.createElement('div');\n",
              "          docLink.innerHTML = docLinkHtml;\n",
              "          element.appendChild(docLink);\n",
              "        }\n",
              "      </script>\n",
              "    </div>\n",
              "  </div>\n"
            ]
          },
          "metadata": {},
          "execution_count": 228
        }
      ]
    },
    {
      "cell_type": "code",
      "source": [
        "b['spotify_listening_device'].value_counts()"
      ],
      "metadata": {
        "colab": {
          "base_uri": "https://localhost:8080/"
        },
        "id": "Ec86bJtBjg1b",
        "outputId": "92358cb7-fa53-4dcd-ca41-7fdc7f736e14"
      },
      "execution_count": 229,
      "outputs": [
        {
          "output_type": "execute_result",
          "data": {
            "text/plain": [
              "Smartphone                                                                              193\n",
              "Smartphone, Computer or laptop                                                           19\n",
              "Smart speakers or voice assistants                                                        9\n",
              "Smartphone, Wearable devices                                                              3\n",
              "Computer or laptop                                                                        3\n",
              "Wearable devices                                                                          3\n",
              "Smartphone, Smart speakers or voice assistants, Wearable devices                          3\n",
              "Smartphone, Computer or laptop, Wearable devices                                          2\n",
              "Smartphone, Computer or laptop, Smart speakers or voice assistants, Wearable devices      2\n",
              "Smartphone, Smart speakers or voice assistants                                            1\n",
              "Smartphone, Computer or laptop, Smart speakers or voice assistants                        1\n",
              "Computer or laptop, Smart speakers or voice assistants, Wearable devices                  1\n",
              "Computer or laptop, Wearable devices                                                      1\n",
              "Name: spotify_listening_device, dtype: int64"
            ]
          },
          "metadata": {},
          "execution_count": 229
        }
      ]
    },
    {
      "cell_type": "code",
      "source": [
        "b['music_Influencial_mood'].value_counts()"
      ],
      "metadata": {
        "colab": {
          "base_uri": "https://localhost:8080/"
        },
        "id": "vkVYU47CjlTE",
        "outputId": "9746ccc6-2358-4f78-9db9-9b4168984fd1"
      },
      "execution_count": 230,
      "outputs": [
        {
          "output_type": "execute_result",
          "data": {
            "text/plain": [
              "Relaxation and stress relief                                                         195\n",
              "Relaxation and stress relief, Sadness or melancholy                                   33\n",
              "Relaxation and stress relief, Sadness or melancholy, Social gatherings or parties      7\n",
              "Relaxation and stress relief, Social gatherings or parties                             6\n",
              "Name: music_Influencial_mood, dtype: int64"
            ]
          },
          "metadata": {},
          "execution_count": 230
        }
      ]
    },
    {
      "cell_type": "code",
      "source": [
        "c=X.loc[X['cluster']==2][['spotify_listening_device','music_Influencial_mood','cluster']]\n",
        "c"
      ],
      "metadata": {
        "colab": {
          "base_uri": "https://localhost:8080/",
          "height": 424
        },
        "id": "kKbd44Z5jnzD",
        "outputId": "dc34bf62-f356-43aa-9cf6-7bbfdeed6d2a"
      },
      "execution_count": 231,
      "outputs": [
        {
          "output_type": "execute_result",
          "data": {
            "text/plain": [
              "                              spotify_listening_device  \\\n",
              "3       Smartphone, Smart speakers or voice assistants   \n",
              "8                                           Smartphone   \n",
              "10                                          Smartphone   \n",
              "11                                          Smartphone   \n",
              "13                                          Smartphone   \n",
              "..                                                 ...   \n",
              "510                                         Smartphone   \n",
              "513  Smartphone, Computer or laptop, Smart speakers...   \n",
              "515   Smartphone, Computer or laptop, Wearable devices   \n",
              "516                     Smartphone, Computer or laptop   \n",
              "518                                         Smartphone   \n",
              "\n",
              "                                music_Influencial_mood  cluster  \n",
              "3    Relaxation and stress relief, Social gathering...        2  \n",
              "8    Relaxation and stress relief, Uplifting and mo...        2  \n",
              "10   Relaxation and stress relief, Uplifting and mo...        2  \n",
              "11   Relaxation and stress relief, Uplifting and mo...        2  \n",
              "13   Relaxation and stress relief, Uplifting and mo...        2  \n",
              "..                                                 ...      ...  \n",
              "510  Relaxation and stress relief, Uplifting and mo...        2  \n",
              "513  Relaxation and stress relief, Uplifting and mo...        2  \n",
              "515  Uplifting and motivational, Sadness or melancholy        2  \n",
              "516  Relaxation and stress relief, Uplifting and mo...        2  \n",
              "518  Relaxation and stress relief, Uplifting and mo...        2  \n",
              "\n",
              "[140 rows x 3 columns]"
            ],
            "text/html": [
              "\n",
              "\n",
              "  <div id=\"df-71e5a1e5-2c77-4d9a-9620-b63306f62bc4\">\n",
              "    <div class=\"colab-df-container\">\n",
              "      <div>\n",
              "<style scoped>\n",
              "    .dataframe tbody tr th:only-of-type {\n",
              "        vertical-align: middle;\n",
              "    }\n",
              "\n",
              "    .dataframe tbody tr th {\n",
              "        vertical-align: top;\n",
              "    }\n",
              "\n",
              "    .dataframe thead th {\n",
              "        text-align: right;\n",
              "    }\n",
              "</style>\n",
              "<table border=\"1\" class=\"dataframe\">\n",
              "  <thead>\n",
              "    <tr style=\"text-align: right;\">\n",
              "      <th></th>\n",
              "      <th>spotify_listening_device</th>\n",
              "      <th>music_Influencial_mood</th>\n",
              "      <th>cluster</th>\n",
              "    </tr>\n",
              "  </thead>\n",
              "  <tbody>\n",
              "    <tr>\n",
              "      <th>3</th>\n",
              "      <td>Smartphone, Smart speakers or voice assistants</td>\n",
              "      <td>Relaxation and stress relief, Social gathering...</td>\n",
              "      <td>2</td>\n",
              "    </tr>\n",
              "    <tr>\n",
              "      <th>8</th>\n",
              "      <td>Smartphone</td>\n",
              "      <td>Relaxation and stress relief, Uplifting and mo...</td>\n",
              "      <td>2</td>\n",
              "    </tr>\n",
              "    <tr>\n",
              "      <th>10</th>\n",
              "      <td>Smartphone</td>\n",
              "      <td>Relaxation and stress relief, Uplifting and mo...</td>\n",
              "      <td>2</td>\n",
              "    </tr>\n",
              "    <tr>\n",
              "      <th>11</th>\n",
              "      <td>Smartphone</td>\n",
              "      <td>Relaxation and stress relief, Uplifting and mo...</td>\n",
              "      <td>2</td>\n",
              "    </tr>\n",
              "    <tr>\n",
              "      <th>13</th>\n",
              "      <td>Smartphone</td>\n",
              "      <td>Relaxation and stress relief, Uplifting and mo...</td>\n",
              "      <td>2</td>\n",
              "    </tr>\n",
              "    <tr>\n",
              "      <th>...</th>\n",
              "      <td>...</td>\n",
              "      <td>...</td>\n",
              "      <td>...</td>\n",
              "    </tr>\n",
              "    <tr>\n",
              "      <th>510</th>\n",
              "      <td>Smartphone</td>\n",
              "      <td>Relaxation and stress relief, Uplifting and mo...</td>\n",
              "      <td>2</td>\n",
              "    </tr>\n",
              "    <tr>\n",
              "      <th>513</th>\n",
              "      <td>Smartphone, Computer or laptop, Smart speakers...</td>\n",
              "      <td>Relaxation and stress relief, Uplifting and mo...</td>\n",
              "      <td>2</td>\n",
              "    </tr>\n",
              "    <tr>\n",
              "      <th>515</th>\n",
              "      <td>Smartphone, Computer or laptop, Wearable devices</td>\n",
              "      <td>Uplifting and motivational, Sadness or melancholy</td>\n",
              "      <td>2</td>\n",
              "    </tr>\n",
              "    <tr>\n",
              "      <th>516</th>\n",
              "      <td>Smartphone, Computer or laptop</td>\n",
              "      <td>Relaxation and stress relief, Uplifting and mo...</td>\n",
              "      <td>2</td>\n",
              "    </tr>\n",
              "    <tr>\n",
              "      <th>518</th>\n",
              "      <td>Smartphone</td>\n",
              "      <td>Relaxation and stress relief, Uplifting and mo...</td>\n",
              "      <td>2</td>\n",
              "    </tr>\n",
              "  </tbody>\n",
              "</table>\n",
              "<p>140 rows × 3 columns</p>\n",
              "</div>\n",
              "      <button class=\"colab-df-convert\" onclick=\"convertToInteractive('df-71e5a1e5-2c77-4d9a-9620-b63306f62bc4')\"\n",
              "              title=\"Convert this dataframe to an interactive table.\"\n",
              "              style=\"display:none;\">\n",
              "\n",
              "  <svg xmlns=\"http://www.w3.org/2000/svg\" height=\"24px\"viewBox=\"0 0 24 24\"\n",
              "       width=\"24px\">\n",
              "    <path d=\"M0 0h24v24H0V0z\" fill=\"none\"/>\n",
              "    <path d=\"M18.56 5.44l.94 2.06.94-2.06 2.06-.94-2.06-.94-.94-2.06-.94 2.06-2.06.94zm-11 1L8.5 8.5l.94-2.06 2.06-.94-2.06-.94L8.5 2.5l-.94 2.06-2.06.94zm10 10l.94 2.06.94-2.06 2.06-.94-2.06-.94-.94-2.06-.94 2.06-2.06.94z\"/><path d=\"M17.41 7.96l-1.37-1.37c-.4-.4-.92-.59-1.43-.59-.52 0-1.04.2-1.43.59L10.3 9.45l-7.72 7.72c-.78.78-.78 2.05 0 2.83L4 21.41c.39.39.9.59 1.41.59.51 0 1.02-.2 1.41-.59l7.78-7.78 2.81-2.81c.8-.78.8-2.07 0-2.86zM5.41 20L4 18.59l7.72-7.72 1.47 1.35L5.41 20z\"/>\n",
              "  </svg>\n",
              "      </button>\n",
              "\n",
              "\n",
              "\n",
              "    <div id=\"df-6c1a0dc6-f772-446d-8db6-2b3cb140e73d\">\n",
              "      <button class=\"colab-df-quickchart\" onclick=\"quickchart('df-6c1a0dc6-f772-446d-8db6-2b3cb140e73d')\"\n",
              "              title=\"Suggest charts.\"\n",
              "              style=\"display:none;\">\n",
              "\n",
              "<svg xmlns=\"http://www.w3.org/2000/svg\" height=\"24px\"viewBox=\"0 0 24 24\"\n",
              "     width=\"24px\">\n",
              "    <g>\n",
              "        <path d=\"M19 3H5c-1.1 0-2 .9-2 2v14c0 1.1.9 2 2 2h14c1.1 0 2-.9 2-2V5c0-1.1-.9-2-2-2zM9 17H7v-7h2v7zm4 0h-2V7h2v10zm4 0h-2v-4h2v4z\"/>\n",
              "    </g>\n",
              "</svg>\n",
              "      </button>\n",
              "    </div>\n",
              "\n",
              "<style>\n",
              "  .colab-df-quickchart {\n",
              "    background-color: #E8F0FE;\n",
              "    border: none;\n",
              "    border-radius: 50%;\n",
              "    cursor: pointer;\n",
              "    display: none;\n",
              "    fill: #1967D2;\n",
              "    height: 32px;\n",
              "    padding: 0 0 0 0;\n",
              "    width: 32px;\n",
              "  }\n",
              "\n",
              "  .colab-df-quickchart:hover {\n",
              "    background-color: #E2EBFA;\n",
              "    box-shadow: 0px 1px 2px rgba(60, 64, 67, 0.3), 0px 1px 3px 1px rgba(60, 64, 67, 0.15);\n",
              "    fill: #174EA6;\n",
              "  }\n",
              "\n",
              "  [theme=dark] .colab-df-quickchart {\n",
              "    background-color: #3B4455;\n",
              "    fill: #D2E3FC;\n",
              "  }\n",
              "\n",
              "  [theme=dark] .colab-df-quickchart:hover {\n",
              "    background-color: #434B5C;\n",
              "    box-shadow: 0px 1px 3px 1px rgba(0, 0, 0, 0.15);\n",
              "    filter: drop-shadow(0px 1px 2px rgba(0, 0, 0, 0.3));\n",
              "    fill: #FFFFFF;\n",
              "  }\n",
              "</style>\n",
              "\n",
              "    <script>\n",
              "      async function quickchart(key) {\n",
              "        const containerElement = document.querySelector('#' + key);\n",
              "        const charts = await google.colab.kernel.invokeFunction(\n",
              "            'suggestCharts', [key], {});\n",
              "      }\n",
              "    </script>\n",
              "\n",
              "      <script>\n",
              "\n",
              "function displayQuickchartButton(domScope) {\n",
              "  let quickchartButtonEl =\n",
              "    domScope.querySelector('#df-6c1a0dc6-f772-446d-8db6-2b3cb140e73d button.colab-df-quickchart');\n",
              "  quickchartButtonEl.style.display =\n",
              "    google.colab.kernel.accessAllowed ? 'block' : 'none';\n",
              "}\n",
              "\n",
              "        displayQuickchartButton(document);\n",
              "      </script>\n",
              "      <style>\n",
              "    .colab-df-container {\n",
              "      display:flex;\n",
              "      flex-wrap:wrap;\n",
              "      gap: 12px;\n",
              "    }\n",
              "\n",
              "    .colab-df-convert {\n",
              "      background-color: #E8F0FE;\n",
              "      border: none;\n",
              "      border-radius: 50%;\n",
              "      cursor: pointer;\n",
              "      display: none;\n",
              "      fill: #1967D2;\n",
              "      height: 32px;\n",
              "      padding: 0 0 0 0;\n",
              "      width: 32px;\n",
              "    }\n",
              "\n",
              "    .colab-df-convert:hover {\n",
              "      background-color: #E2EBFA;\n",
              "      box-shadow: 0px 1px 2px rgba(60, 64, 67, 0.3), 0px 1px 3px 1px rgba(60, 64, 67, 0.15);\n",
              "      fill: #174EA6;\n",
              "    }\n",
              "\n",
              "    [theme=dark] .colab-df-convert {\n",
              "      background-color: #3B4455;\n",
              "      fill: #D2E3FC;\n",
              "    }\n",
              "\n",
              "    [theme=dark] .colab-df-convert:hover {\n",
              "      background-color: #434B5C;\n",
              "      box-shadow: 0px 1px 3px 1px rgba(0, 0, 0, 0.15);\n",
              "      filter: drop-shadow(0px 1px 2px rgba(0, 0, 0, 0.3));\n",
              "      fill: #FFFFFF;\n",
              "    }\n",
              "  </style>\n",
              "\n",
              "      <script>\n",
              "        const buttonEl =\n",
              "          document.querySelector('#df-71e5a1e5-2c77-4d9a-9620-b63306f62bc4 button.colab-df-convert');\n",
              "        buttonEl.style.display =\n",
              "          google.colab.kernel.accessAllowed ? 'block' : 'none';\n",
              "\n",
              "        async function convertToInteractive(key) {\n",
              "          const element = document.querySelector('#df-71e5a1e5-2c77-4d9a-9620-b63306f62bc4');\n",
              "          const dataTable =\n",
              "            await google.colab.kernel.invokeFunction('convertToInteractive',\n",
              "                                                     [key], {});\n",
              "          if (!dataTable) return;\n",
              "\n",
              "          const docLinkHtml = 'Like what you see? Visit the ' +\n",
              "            '<a target=\"_blank\" href=https://colab.research.google.com/notebooks/data_table.ipynb>data table notebook</a>'\n",
              "            + ' to learn more about interactive tables.';\n",
              "          element.innerHTML = '';\n",
              "          dataTable['output_type'] = 'display_data';\n",
              "          await google.colab.output.renderOutput(dataTable, element);\n",
              "          const docLink = document.createElement('div');\n",
              "          docLink.innerHTML = docLinkHtml;\n",
              "          element.appendChild(docLink);\n",
              "        }\n",
              "      </script>\n",
              "    </div>\n",
              "  </div>\n"
            ]
          },
          "metadata": {},
          "execution_count": 231
        }
      ]
    },
    {
      "cell_type": "code",
      "source": [
        "c['spotify_listening_device'].value_counts()\n",
        "\n"
      ],
      "metadata": {
        "colab": {
          "base_uri": "https://localhost:8080/"
        },
        "id": "thvwXyzsjqf1",
        "outputId": "65bb9b7a-dde3-4919-807a-c04ac9c8a079"
      },
      "execution_count": 232,
      "outputs": [
        {
          "output_type": "execute_result",
          "data": {
            "text/plain": [
              "Smartphone                                                                              77\n",
              "Smartphone, Computer or laptop                                                          26\n",
              "Smartphone, Smart speakers or voice assistants                                           9\n",
              "Smartphone, Computer or laptop, Smart speakers or voice assistants, Wearable devices     6\n",
              "Smartphone, Computer or laptop, Smart speakers or voice assistants                       5\n",
              "Smartphone, Wearable devices                                                             5\n",
              "Wearable devices                                                                         5\n",
              "Smartphone, Computer or laptop, Wearable devices                                         3\n",
              "Smartphone, Smart speakers or voice assistants, Wearable devices                         2\n",
              "Computer or laptop, Wearable devices                                                     1\n",
              "Smart speakers or voice assistants, Wearable devices                                     1\n",
              "Name: spotify_listening_device, dtype: int64"
            ]
          },
          "metadata": {},
          "execution_count": 232
        }
      ]
    },
    {
      "cell_type": "code",
      "source": [
        "c['music_Influencial_mood'].value_counts()\n",
        "\n"
      ],
      "metadata": {
        "colab": {
          "base_uri": "https://localhost:8080/"
        },
        "id": "a2HgfGY9jtry",
        "outputId": "1d0750f7-1a1d-4fe2-8a29-72abcfdabc88"
      },
      "execution_count": 233,
      "outputs": [
        {
          "output_type": "execute_result",
          "data": {
            "text/plain": [
              "Relaxation and stress relief, Uplifting and motivational                                                         43\n",
              "Relaxation and stress relief, Uplifting and motivational, Sadness or melancholy, Social gatherings or parties    34\n",
              "Relaxation and stress relief, Uplifting and motivational, Sadness or melancholy                                  20\n",
              "Sadness or melancholy                                                                                            15\n",
              "Relaxation and stress relief, Uplifting and motivational, Social gatherings or parties                           14\n",
              "Relaxation and stress relief, Social gatherings or parties                                                        7\n",
              "Uplifting and motivational                                                                                        4\n",
              "Uplifting and motivational, Sadness or melancholy                                                                 2\n",
              "Relaxation and stress relief, Sadness or melancholy, Social gatherings or parties                                 1\n",
              "Name: music_Influencial_mood, dtype: int64"
            ]
          },
          "metadata": {},
          "execution_count": 233
        }
      ]
    },
    {
      "cell_type": "markdown",
      "source": [
        "**Summarizing the inferences Based on the above clusters.**\n",
        "\n",
        "-Cluster 1: Users prefer computer or laptop, Speakers or Voice Assistance(106) to hear Uplifting and motivational songs or in a party/social gathering(91).\n",
        "\n",
        "-Cluster 2: Users prefer smartphones(may be connected to earphones)(193) to hear Relaxation and stress relief or Sad/Melancholy songs(228).\n",
        "\n",
        "-Cluster 3: Users prefer smartphones(may be connected to earphones)(77) to hear Relaxation and stress relief or Sad/Melancholy songs Also uplifting and motivational songs(43).\n",
        "\n",
        "In general, we can conclude that people who uses smartphones,chances are they may use headsets to listen more of Relaxation or stress relief or Sad/Melancholy songs and People tend to listen to uplifting/motivational songs or party songs in Laptops/smart speakers."
      ],
      "metadata": {
        "id": "R1tVV8l2klq7"
      }
    }
  ]
}